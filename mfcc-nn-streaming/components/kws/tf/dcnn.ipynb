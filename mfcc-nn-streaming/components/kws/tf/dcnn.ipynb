{
  "nbformat": 4,
  "nbformat_minor": 0,
  "metadata": {
    "accelerator": "GPU",
    "colab": {
      "name": "dcnn47.esp32.ipynb",
      "provenance": [],
      "collapsed_sections": [],
      "machine_shape": "hm"
    },
    "kernelspec": {
      "display_name": "Python 3",
      "name": "python3"
    }
  },
  "cells": [
    {
      "cell_type": "code",
      "metadata": {
        "colab": {
          "base_uri": "https://localhost:8080/"
        },
        "id": "qwY3lBm83jqO",
        "outputId": "634550ab-5d1e-4663-f4ab-e8a93968e399"
      },
      "source": [
        "!nvidia-smi"
      ],
      "execution_count": 2,
      "outputs": [
        {
          "output_type": "stream",
          "text": [
            "Sat Jan 16 09:27:11 2021       \n",
            "+-----------------------------------------------------------------------------+\n",
            "| NVIDIA-SMI 460.27.04    Driver Version: 418.67       CUDA Version: 10.1     |\n",
            "|-------------------------------+----------------------+----------------------+\n",
            "| GPU  Name        Persistence-M| Bus-Id        Disp.A | Volatile Uncorr. ECC |\n",
            "| Fan  Temp  Perf  Pwr:Usage/Cap|         Memory-Usage | GPU-Util  Compute M. |\n",
            "|                               |                      |               MIG M. |\n",
            "|===============================+======================+======================|\n",
            "|   0  Tesla P100-PCIE...  Off  | 00000000:00:04.0 Off |                    0 |\n",
            "| N/A   33C    P0    25W / 250W |      0MiB / 16280MiB |      0%      Default |\n",
            "|                               |                      |                 ERR! |\n",
            "+-------------------------------+----------------------+----------------------+\n",
            "                                                                               \n",
            "+-----------------------------------------------------------------------------+\n",
            "| Processes:                                                                  |\n",
            "|  GPU   GI   CI        PID   Type   Process name                  GPU Memory |\n",
            "|        ID   ID                                                   Usage      |\n",
            "|=============================================================================|\n",
            "|  No running processes found                                                 |\n",
            "+-----------------------------------------------------------------------------+\n"
          ],
          "name": "stdout"
        }
      ]
    },
    {
      "cell_type": "code",
      "metadata": {
        "colab": {
          "base_uri": "https://localhost:8080/"
        },
        "id": "5T3UOLCpGUmg",
        "outputId": "27853cc0-42ab-48e4-8a1c-26548c8efa08"
      },
      "source": [
        "%tensorflow_version 2.x\n",
        "import matplotlib.pyplot as plt\n",
        "import numpy as np\n",
        "from tensorflow import keras\n",
        "import tensorflow as tf\n",
        "print(tf.__version__)"
      ],
      "execution_count": 3,
      "outputs": [
        {
          "output_type": "stream",
          "text": [
            "2.4.0\n"
          ],
          "name": "stdout"
        }
      ]
    },
    {
      "cell_type": "code",
      "metadata": {
        "id": "l_6NYiKJ7qzN"
      },
      "source": [
        "# https://github.com/42io/dataset/tree/master/google_speech_commands\n",
        "DATASET_FILE = '1NgIw6JrdjDcRhnAxbheqtAcV5Fr-wUJu' # 0-9up.npz"
      ],
      "execution_count": 4,
      "outputs": []
    },
    {
      "cell_type": "code",
      "metadata": {
        "colab": {
          "base_uri": "https://localhost:8080/"
        },
        "id": "J4KjyC2X_ZyQ",
        "outputId": "a5a05f9b-a9a1-44a1-881e-382568395bf9"
      },
      "source": [
        "!test -f \"$DATASET_FILE\" || gdown --id \"$DATASET_FILE\" -O \"$DATASET_FILE\""
      ],
      "execution_count": 5,
      "outputs": [
        {
          "output_type": "stream",
          "text": [
            "Downloading...\n",
            "From: https://drive.google.com/uc?id=1NgIw6JrdjDcRhnAxbheqtAcV5Fr-wUJu\n",
            "To: /content/1NgIw6JrdjDcRhnAxbheqtAcV5Fr-wUJu\n",
            "2.59GB [00:29, 87.1MB/s]\n"
          ],
          "name": "stdout"
        }
      ]
    },
    {
      "cell_type": "code",
      "metadata": {
        "id": "kIdWKJAOu_p9"
      },
      "source": [
        "md5 = !md5sum \"$DATASET_FILE\"\n",
        "assert '54821a74684e7bbb9b3acd853960d9cd' == md5[0].split()[0]"
      ],
      "execution_count": 6,
      "outputs": []
    },
    {
      "cell_type": "code",
      "metadata": {
        "colab": {
          "base_uri": "https://localhost:8080/"
        },
        "id": "b7CYwmbKGb0h",
        "outputId": "955eaed7-7eda-41ba-d787-9406bb7eb638"
      },
      "source": [
        "dset = np.load(DATASET_FILE)\n",
        "print(dset['x_train'].shape)"
      ],
      "execution_count": 7,
      "outputs": [
        {
          "output_type": "stream",
          "text": [
            "(1095480, 637)\n"
          ],
          "name": "stdout"
        }
      ]
    },
    {
      "cell_type": "code",
      "metadata": {
        "id": "tus9FNQ1pYnO"
      },
      "source": [
        "x_train, x_test, x_valid = (\n",
        "    dset[i].reshape(-1, 49, 13)[:,1:-1]\n",
        "    for i in ['x_train', 'x_test', 'x_valid']\n",
        ")\n",
        "y_train = dset['y_train']\n",
        "y_test  = dset['y_test']\n",
        "y_valid = dset['y_valid']"
      ],
      "execution_count": 8,
      "outputs": []
    },
    {
      "cell_type": "code",
      "metadata": {
        "id": "Xcj5MHTAKYwv"
      },
      "source": [
        "def spectrogram_masking(spectrogram, dim=1, masks_number=2, mask_max_size=5):\n",
        "  \"\"\"Spectrogram masking on frequency or time dimension.\n",
        "  Args:\n",
        "    spectrogram: Input spectrum [batch, time, frequency]\n",
        "    dim: dimension on which masking will be applied: 1 - time; 2 - frequency\n",
        "    masks_number: number of masks\n",
        "    mask_max_size: mask max size\n",
        "  Returns:\n",
        "    masked spectrogram\n",
        "  \"\"\"\n",
        "  if dim not in (1, 2):\n",
        "    raise ValueError('Wrong dim value: %d' % dim)\n",
        "  input_shape = spectrogram.shape\n",
        "  time_size, frequency_size = input_shape[1:3]\n",
        "  dim_size = input_shape[dim]  # size of dimension on which mask is applied\n",
        "  stripe_shape = [1, time_size, frequency_size]\n",
        "  for _ in range(masks_number):\n",
        "    mask_end = tf.random.uniform([], 0, mask_max_size, tf.int32)\n",
        "    mask_start = tf.random.uniform([], 0, dim_size - mask_end, tf.int32)\n",
        "\n",
        "    # initialize stripes with stripe_shape\n",
        "    stripe_ones_left = list(stripe_shape)\n",
        "    stripe_zeros_center = list(stripe_shape)\n",
        "    stripe_ones_right = list(stripe_shape)\n",
        "\n",
        "    # update stripes dim\n",
        "    stripe_ones_left[dim] = dim_size - mask_start - mask_end\n",
        "    stripe_zeros_center[dim] = mask_end\n",
        "    stripe_ones_right[dim] = mask_start\n",
        "\n",
        "    # generate mask\n",
        "    mask = tf.concat((\n",
        "        tf.ones(stripe_ones_left, spectrogram.dtype),\n",
        "        tf.zeros(stripe_zeros_center, spectrogram.dtype),\n",
        "        tf.ones(stripe_ones_right, spectrogram.dtype),\n",
        "    ), dim)\n",
        "    spectrogram = spectrogram * mask\n",
        "  return spectrogram"
      ],
      "execution_count": 9,
      "outputs": []
    },
    {
      "cell_type": "code",
      "metadata": {
        "id": "kjLWG3zlMNgV"
      },
      "source": [
        "plt.rc('figure', figsize=(13, 4))"
      ],
      "execution_count": 10,
      "outputs": []
    },
    {
      "cell_type": "code",
      "metadata": {
        "colab": {
          "base_uri": "https://localhost:8080/",
          "height": 266
        },
        "id": "5HrYYxMxO98s",
        "outputId": "ed40e69e-3411-46d7-9b87-566c41dd6655"
      },
      "source": [
        "plt.imshow(x_train[0].T)"
      ],
      "execution_count": 11,
      "outputs": [
        {
          "output_type": "execute_result",
          "data": {
            "text/plain": [
              "<matplotlib.image.AxesImage at 0x7f7ffc6a6400>"
            ]
          },
          "metadata": {
            "tags": []
          },
          "execution_count": 11
        },
        {
          "output_type": "display_data",
          "data": {
            "image/png": "[encoded data removed]",
            "text/plain": [
              "<Figure size 936x288 with 1 Axes>"
            ]
          },
          "metadata": {
            "tags": [],
            "needs_background": "light"
          }
        }
      ]
    },
    {
      "cell_type": "code",
      "metadata": {
        "colab": {
          "base_uri": "https://localhost:8080/",
          "height": 266
        },
        "id": "Qd7LudpySbAw",
        "outputId": "a22dc595-98a5-4c41-d678-24d046386faa"
      },
      "source": [
        "plt.imshow(spectrogram_masking(x_train[0:1], 1, 3, 3).numpy()[0].T)"
      ],
      "execution_count": 12,
      "outputs": [
        {
          "output_type": "execute_result",
          "data": {
            "text/plain": [
              "<matplotlib.image.AxesImage at 0x7f7ffc1db9b0>"
            ]
          },
          "metadata": {
            "tags": []
          },
          "execution_count": 12
        },
        {
          "output_type": "display_data",
          "data": {
            "image/png": "[encoded data removed]",
            "text/plain": [
              "<Figure size 936x288 with 1 Axes>"
            ]
          },
          "metadata": {
            "tags": [],
            "needs_background": "light"
          }
        }
      ]
    },
    {
      "cell_type": "code",
      "metadata": {
        "colab": {
          "base_uri": "https://localhost:8080/",
          "height": 266
        },
        "id": "IoN9JdEvTRFm",
        "outputId": "be79510b-00e0-4cbe-808a-4e8bc2e02e31"
      },
      "source": [
        "plt.imshow(spectrogram_masking(x_train[0:1], 2, 2, 2).numpy()[0].T)"
      ],
      "execution_count": 13,
      "outputs": [
        {
          "output_type": "execute_result",
          "data": {
            "text/plain": [
              "<matplotlib.image.AxesImage at 0x7f7fa478af28>"
            ]
          },
          "metadata": {
            "tags": []
          },
          "execution_count": 13
        },
        {
          "output_type": "display_data",
          "data": {
            "image/png": "[encoded data removed]",
            "text/plain": [
              "<Figure size 936x288 with 1 Axes>"
            ]
          },
          "metadata": {
            "tags": [],
            "needs_background": "light"
          }
        }
      ]
    },
    {
      "cell_type": "code",
      "metadata": {
        "id": "O1qBLgZrFhOa"
      },
      "source": [
        "train_dataset = tf.data.Dataset.from_tensor_slices((x_train, y_train))\n",
        "train_dataset = train_dataset.shuffle(len(x_train))\n",
        "train_dataset = train_dataset.batch(128)\n",
        "train_dataset = train_dataset.map(lambda x, y: (spectrogram_masking(x, 1, 3, 3), y))\n",
        "train_dataset = train_dataset.map(lambda x, y: (spectrogram_masking(x, 2, 2, 2), y))"
      ],
      "execution_count": 14,
      "outputs": []
    },
    {
      "cell_type": "code",
      "metadata": {
        "colab": {
          "base_uri": "https://localhost:8080/",
          "height": 266
        },
        "id": "A8bILLvdZxH0",
        "outputId": "a8b18db3-b43b-48d5-c79e-a7e6ad2bdeac"
      },
      "source": [
        "plt.imshow(list(train_dataset.take(1))[0][0][0].numpy().T)"
      ],
      "execution_count": 15,
      "outputs": [
        {
          "output_type": "execute_result",
          "data": {
            "text/plain": [
              "<matplotlib.image.AxesImage at 0x7f7fa46b9b38>"
            ]
          },
          "metadata": {
            "tags": []
          },
          "execution_count": 15
        },
        {
          "output_type": "display_data",
          "data": {
            "image/png": "[encoded data removed]",
            "text/plain": [
              "<Figure size 936x288 with 1 Axes>"
            ]
          },
          "metadata": {
            "tags": [],
            "needs_background": "light"
          }
        }
      ]
    },
    {
      "cell_type": "code",
      "metadata": {
        "id": "hP5H5d2z_SpG"
      },
      "source": [
        "# https://arxiv.org/pdf/2005.06720.pdf\n",
        "\n",
        "def streaming_input_output(streaming, t, inputs, otputs, x):\n",
        "  if streaming:\n",
        "    otputs.append(x)\n",
        "    x = keras.Input(shape=[t] + x.shape[2:])\n",
        "    inputs.append(x)\n",
        "  return x\n",
        "\n",
        "def build_model(streaming=False):\n",
        "\n",
        "  # resetting the layer name generation counter\n",
        "  keras.backend.clear_session()\n",
        "\n",
        "  inputs  = []\n",
        "  outputs = []\n",
        "\n",
        "  x_in = keras.Input(shape=[1, 1, 13] if streaming else [47, 13])\n",
        "  x = x_in if streaming else keras.backend.expand_dims(x_in, -2)\n",
        "\n",
        "  x = keras.layers.Conv2D(64, 1, use_bias=False)(x)\n",
        "  x = keras.layers.BatchNormalization()(x)\n",
        "  x = keras.layers.ReLU()(x)\n",
        "  x = keras.layers.SpatialDropout2D(x.shape[-1]/1280.0)(x)\n",
        "\n",
        "  for i in range(4):\n",
        "    x = streaming_input_output(streaming, 2, inputs, outputs, x)\n",
        "    x = keras.layers.SeparableConv2D(x.shape[-1], kernel_size=[2, 1], \n",
        "                                     dilation_rate=[1 if streaming else 2**i, 1], \n",
        "                                     use_bias=False)(x)\n",
        "    x = keras.layers.BatchNormalization()(x)\n",
        "    x = keras.layers.ReLU()(x)\n",
        "    x = keras.layers.SpatialDropout2D(x.shape[-1]/1280.0)(x)\n",
        "\n",
        "  x = streaming_input_output(streaming, 32, inputs, outputs, x)\n",
        "  x = keras.layers.AveragePooling2D([x.shape[1], 1])(x)\n",
        "  x = keras.layers.Flatten()(x)\n",
        "\n",
        "  x = keras.layers.Dense(x.shape[-1] // 2, use_bias=False)(x)\n",
        "  x = keras.layers.BatchNormalization()(x)\n",
        "  x = keras.layers.ReLU()(x)\n",
        "  x = keras.layers.Dropout(x.shape[-1]/1280.0)(x)\n",
        "\n",
        "  x = keras.layers.Dense(12)(x)\n",
        "  x = keras.layers.Softmax()(x)\n",
        "\n",
        "  model = keras.Model(inputs=[x_in] + inputs, outputs=[x] + outputs)\n",
        "\n",
        "  model.summary()\n",
        "\n",
        "  return model"
      ],
      "execution_count": 16,
      "outputs": []
    },
    {
      "cell_type": "code",
      "metadata": {
        "colab": {
          "base_uri": "https://localhost:8080/"
        },
        "id": "ePbmnEqx3ivZ",
        "outputId": "db378e3a-9488-47c9-9101-d2a84354b7e4"
      },
      "source": [
        "model = build_model()\n",
        "\n",
        "model.compile(loss=keras.losses.sparse_categorical_crossentropy,\n",
        "              optimizer=keras.optimizers.Adam(),\n",
        "              metrics=['accuracy'])"
      ],
      "execution_count": 17,
      "outputs": [
        {
          "output_type": "stream",
          "text": [
            "Model: \"model\"\n",
            "_________________________________________________________________\n",
            "Layer (type)                 Output Shape              Param #   \n",
            "=================================================================\n",
            "input_1 (InputLayer)         [(None, 47, 13)]          0         \n",
            "_________________________________________________________________\n",
            "tf.expand_dims (TFOpLambda)  (None, 47, 1, 13)         0         \n",
            "_________________________________________________________________\n",
            "conv2d (Conv2D)              (None, 47, 1, 64)         832       \n",
            "_________________________________________________________________\n",
            "batch_normalization (BatchNo (None, 47, 1, 64)         256       \n",
            "_________________________________________________________________\n",
            "re_lu (ReLU)                 (None, 47, 1, 64)         0         \n",
            "_________________________________________________________________\n",
            "spatial_dropout2d (SpatialDr (None, 47, 1, 64)         0         \n",
            "_________________________________________________________________\n",
            "separable_conv2d (SeparableC (None, 46, 1, 64)         4224      \n",
            "_________________________________________________________________\n",
            "batch_normalization_1 (Batch (None, 46, 1, 64)         256       \n",
            "_________________________________________________________________\n",
            "re_lu_1 (ReLU)               (None, 46, 1, 64)         0         \n",
            "_________________________________________________________________\n",
            "spatial_dropout2d_1 (Spatial (None, 46, 1, 64)         0         \n",
            "_________________________________________________________________\n",
            "separable_conv2d_1 (Separabl (None, 44, 1, 64)         4224      \n",
            "_________________________________________________________________\n",
            "batch_normalization_2 (Batch (None, 44, 1, 64)         256       \n",
            "_________________________________________________________________\n",
            "re_lu_2 (ReLU)               (None, 44, 1, 64)         0         \n",
            "_________________________________________________________________\n",
            "spatial_dropout2d_2 (Spatial (None, 44, 1, 64)         0         \n",
            "_________________________________________________________________\n",
            "separable_conv2d_2 (Separabl (None, 40, 1, 64)         4224      \n",
            "_________________________________________________________________\n",
            "batch_normalization_3 (Batch (None, 40, 1, 64)         256       \n",
            "_________________________________________________________________\n",
            "re_lu_3 (ReLU)               (None, 40, 1, 64)         0         \n",
            "_________________________________________________________________\n",
            "spatial_dropout2d_3 (Spatial (None, 40, 1, 64)         0         \n",
            "_________________________________________________________________\n",
            "separable_conv2d_3 (Separabl (None, 32, 1, 64)         4224      \n",
            "_________________________________________________________________\n",
            "batch_normalization_4 (Batch (None, 32, 1, 64)         256       \n",
            "_________________________________________________________________\n",
            "re_lu_4 (ReLU)               (None, 32, 1, 64)         0         \n",
            "_________________________________________________________________\n",
            "spatial_dropout2d_4 (Spatial (None, 32, 1, 64)         0         \n",
            "_________________________________________________________________\n",
            "average_pooling2d (AveragePo (None, 1, 1, 64)          0         \n",
            "_________________________________________________________________\n",
            "flatten (Flatten)            (None, 64)                0         \n",
            "_________________________________________________________________\n",
            "dense (Dense)                (None, 32)                2048      \n",
            "_________________________________________________________________\n",
            "batch_normalization_5 (Batch (None, 32)                128       \n",
            "_________________________________________________________________\n",
            "re_lu_5 (ReLU)               (None, 32)                0         \n",
            "_________________________________________________________________\n",
            "dropout (Dropout)            (None, 32)                0         \n",
            "_________________________________________________________________\n",
            "dense_1 (Dense)              (None, 12)                396       \n",
            "_________________________________________________________________\n",
            "softmax (Softmax)            (None, 12)                0         \n",
            "=================================================================\n",
            "Total params: 21,580\n",
            "Trainable params: 20,876\n",
            "Non-trainable params: 704\n",
            "_________________________________________________________________\n"
          ],
          "name": "stdout"
        }
      ]
    },
    {
      "cell_type": "code",
      "metadata": {
        "colab": {
          "base_uri": "https://localhost:8080/"
        },
        "id": "2mZMarEqIHF1",
        "outputId": "281e7dbf-c4ce-4cb1-f35f-a1fa960624fb"
      },
      "source": [
        "early_stopping = keras.callbacks.EarlyStopping(\n",
        "        monitor='val_loss',\n",
        "        mode='min',\n",
        "        verbose=1,\n",
        "        patience=100,\n",
        "        restore_best_weights=True)\n",
        "\n",
        "history = model.fit(train_dataset,\n",
        "                    validation_data=(x_valid, y_valid),\n",
        "                    callbacks=[early_stopping],\n",
        "                    verbose=2,\n",
        "                    epochs=100500)"
      ],
      "execution_count": 18,
      "outputs": [
        {
          "output_type": "stream",
          "text": [
            "Epoch 1/100500\n",
            "8559/8559 - 86s - loss: 0.4151 - accuracy: 0.8682 - val_loss: 0.1073 - val_accuracy: 0.9656\n",
            "Epoch 2/100500\n",
            "8559/8559 - 43s - loss: 0.2390 - accuracy: 0.9240 - val_loss: 0.0822 - val_accuracy: 0.9739\n",
            "Epoch 3/100500\n",
            "8559/8559 - 43s - loss: 0.2101 - accuracy: 0.9331 - val_loss: 0.0777 - val_accuracy: 0.9768\n",
            "Epoch 4/100500\n",
            "8559/8559 - 43s - loss: 0.1973 - accuracy: 0.9371 - val_loss: 0.0778 - val_accuracy: 0.9748\n",
            "Epoch 5/100500\n",
            "8559/8559 - 43s - loss: 0.1870 - accuracy: 0.9402 - val_loss: 0.0691 - val_accuracy: 0.9768\n",
            "Epoch 6/100500\n",
            "8559/8559 - 43s - loss: 0.1801 - accuracy: 0.9422 - val_loss: 0.0658 - val_accuracy: 0.9798\n",
            "Epoch 7/100500\n",
            "8559/8559 - 43s - loss: 0.1741 - accuracy: 0.9442 - val_loss: 0.0677 - val_accuracy: 0.9783\n",
            "Epoch 8/100500\n",
            "8559/8559 - 43s - loss: 0.1684 - accuracy: 0.9459 - val_loss: 0.0628 - val_accuracy: 0.9795\n",
            "Epoch 9/100500\n",
            "8559/8559 - 43s - loss: 0.1662 - accuracy: 0.9465 - val_loss: 0.0615 - val_accuracy: 0.9807\n",
            "Epoch 10/100500\n",
            "8559/8559 - 43s - loss: 0.1625 - accuracy: 0.9477 - val_loss: 0.0632 - val_accuracy: 0.9789\n",
            "Epoch 11/100500\n",
            "8559/8559 - 43s - loss: 0.1606 - accuracy: 0.9485 - val_loss: 0.0644 - val_accuracy: 0.9807\n",
            "Epoch 12/100500\n",
            "8559/8559 - 43s - loss: 0.1590 - accuracy: 0.9489 - val_loss: 0.0609 - val_accuracy: 0.9795\n",
            "Epoch 13/100500\n",
            "8559/8559 - 43s - loss: 0.1569 - accuracy: 0.9495 - val_loss: 0.0552 - val_accuracy: 0.9837\n",
            "Epoch 14/100500\n",
            "8559/8559 - 43s - loss: 0.1553 - accuracy: 0.9502 - val_loss: 0.0603 - val_accuracy: 0.9819\n",
            "Epoch 15/100500\n",
            "8559/8559 - 43s - loss: 0.1521 - accuracy: 0.9513 - val_loss: 0.0588 - val_accuracy: 0.9816\n",
            "Epoch 16/100500\n",
            "8559/8559 - 43s - loss: 0.1523 - accuracy: 0.9510 - val_loss: 0.0579 - val_accuracy: 0.9825\n",
            "Epoch 17/100500\n",
            "8559/8559 - 43s - loss: 0.1504 - accuracy: 0.9517 - val_loss: 0.0568 - val_accuracy: 0.9825\n",
            "Epoch 18/100500\n",
            "8559/8559 - 43s - loss: 0.1488 - accuracy: 0.9522 - val_loss: 0.0556 - val_accuracy: 0.9822\n",
            "Epoch 19/100500\n",
            "8559/8559 - 43s - loss: 0.1484 - accuracy: 0.9523 - val_loss: 0.0519 - val_accuracy: 0.9834\n",
            "Epoch 20/100500\n",
            "8559/8559 - 43s - loss: 0.1472 - accuracy: 0.9526 - val_loss: 0.0550 - val_accuracy: 0.9813\n",
            "Epoch 21/100500\n",
            "8559/8559 - 43s - loss: 0.1472 - accuracy: 0.9527 - val_loss: 0.0596 - val_accuracy: 0.9816\n",
            "Epoch 22/100500\n",
            "8559/8559 - 43s - loss: 0.1469 - accuracy: 0.9528 - val_loss: 0.0571 - val_accuracy: 0.9834\n",
            "Epoch 23/100500\n",
            "8559/8559 - 43s - loss: 0.1466 - accuracy: 0.9529 - val_loss: 0.0541 - val_accuracy: 0.9831\n",
            "Epoch 24/100500\n",
            "8559/8559 - 43s - loss: 0.1450 - accuracy: 0.9534 - val_loss: 0.0536 - val_accuracy: 0.9840\n",
            "Epoch 25/100500\n",
            "8559/8559 - 43s - loss: 0.1434 - accuracy: 0.9538 - val_loss: 0.0532 - val_accuracy: 0.9831\n",
            "Epoch 26/100500\n",
            "8559/8559 - 43s - loss: 0.1434 - accuracy: 0.9539 - val_loss: 0.0538 - val_accuracy: 0.9819\n",
            "Epoch 27/100500\n",
            "8559/8559 - 43s - loss: 0.1426 - accuracy: 0.9541 - val_loss: 0.0550 - val_accuracy: 0.9801\n",
            "Epoch 28/100500\n",
            "8559/8559 - 43s - loss: 0.1420 - accuracy: 0.9544 - val_loss: 0.0533 - val_accuracy: 0.9837\n",
            "Epoch 29/100500\n",
            "8559/8559 - 43s - loss: 0.1418 - accuracy: 0.9541 - val_loss: 0.0520 - val_accuracy: 0.9834\n",
            "Epoch 30/100500\n",
            "8559/8559 - 43s - loss: 0.1413 - accuracy: 0.9547 - val_loss: 0.0492 - val_accuracy: 0.9837\n",
            "Epoch 31/100500\n",
            "8559/8559 - 43s - loss: 0.1391 - accuracy: 0.9553 - val_loss: 0.0510 - val_accuracy: 0.9857\n",
            "Epoch 32/100500\n",
            "8559/8559 - 43s - loss: 0.1408 - accuracy: 0.9546 - val_loss: 0.0466 - val_accuracy: 0.9843\n",
            "Epoch 33/100500\n",
            "8559/8559 - 43s - loss: 0.1397 - accuracy: 0.9550 - val_loss: 0.0508 - val_accuracy: 0.9822\n",
            "Epoch 34/100500\n",
            "8559/8559 - 43s - loss: 0.1400 - accuracy: 0.9547 - val_loss: 0.0513 - val_accuracy: 0.9837\n",
            "Epoch 35/100500\n",
            "8559/8559 - 43s - loss: 0.1378 - accuracy: 0.9556 - val_loss: 0.0534 - val_accuracy: 0.9825\n",
            "Epoch 36/100500\n",
            "8559/8559 - 43s - loss: 0.1377 - accuracy: 0.9558 - val_loss: 0.0511 - val_accuracy: 0.9831\n",
            "Epoch 37/100500\n",
            "8559/8559 - 43s - loss: 0.1366 - accuracy: 0.9559 - val_loss: 0.0530 - val_accuracy: 0.9837\n",
            "Epoch 38/100500\n",
            "8559/8559 - 43s - loss: 0.1368 - accuracy: 0.9558 - val_loss: 0.0494 - val_accuracy: 0.9843\n",
            "Epoch 39/100500\n",
            "8559/8559 - 43s - loss: 0.1381 - accuracy: 0.9555 - val_loss: 0.0497 - val_accuracy: 0.9846\n",
            "Epoch 40/100500\n",
            "8559/8559 - 43s - loss: 0.1368 - accuracy: 0.9558 - val_loss: 0.0470 - val_accuracy: 0.9852\n",
            "Epoch 41/100500\n",
            "8559/8559 - 43s - loss: 0.1362 - accuracy: 0.9560 - val_loss: 0.0480 - val_accuracy: 0.9872\n",
            "Epoch 42/100500\n",
            "8559/8559 - 43s - loss: 0.1364 - accuracy: 0.9560 - val_loss: 0.0481 - val_accuracy: 0.9866\n",
            "Epoch 43/100500\n",
            "8559/8559 - 43s - loss: 0.1370 - accuracy: 0.9558 - val_loss: 0.0497 - val_accuracy: 0.9857\n",
            "Epoch 44/100500\n",
            "8559/8559 - 43s - loss: 0.1356 - accuracy: 0.9563 - val_loss: 0.0494 - val_accuracy: 0.9852\n",
            "Epoch 45/100500\n",
            "8559/8559 - 43s - loss: 0.1350 - accuracy: 0.9564 - val_loss: 0.0494 - val_accuracy: 0.9866\n",
            "Epoch 46/100500\n",
            "8559/8559 - 43s - loss: 0.1354 - accuracy: 0.9562 - val_loss: 0.0496 - val_accuracy: 0.9852\n",
            "Epoch 47/100500\n",
            "8559/8559 - 43s - loss: 0.1346 - accuracy: 0.9565 - val_loss: 0.0512 - val_accuracy: 0.9846\n",
            "Epoch 48/100500\n",
            "8559/8559 - 43s - loss: 0.1355 - accuracy: 0.9563 - val_loss: 0.0486 - val_accuracy: 0.9852\n",
            "Epoch 49/100500\n",
            "8559/8559 - 43s - loss: 0.1356 - accuracy: 0.9563 - val_loss: 0.0478 - val_accuracy: 0.9857\n",
            "Epoch 50/100500\n",
            "8559/8559 - 43s - loss: 0.1339 - accuracy: 0.9568 - val_loss: 0.0454 - val_accuracy: 0.9852\n",
            "Epoch 51/100500\n",
            "8559/8559 - 43s - loss: 0.1335 - accuracy: 0.9570 - val_loss: 0.0487 - val_accuracy: 0.9843\n",
            "Epoch 52/100500\n",
            "8559/8559 - 43s - loss: 0.1339 - accuracy: 0.9568 - val_loss: 0.0489 - val_accuracy: 0.9852\n",
            "Epoch 53/100500\n",
            "8559/8559 - 43s - loss: 0.1358 - accuracy: 0.9562 - val_loss: 0.0430 - val_accuracy: 0.9866\n",
            "Epoch 54/100500\n",
            "8559/8559 - 43s - loss: 0.1337 - accuracy: 0.9568 - val_loss: 0.0484 - val_accuracy: 0.9843\n",
            "Epoch 55/100500\n",
            "8559/8559 - 43s - loss: 0.1332 - accuracy: 0.9571 - val_loss: 0.0477 - val_accuracy: 0.9849\n",
            "Epoch 56/100500\n",
            "8559/8559 - 43s - loss: 0.1338 - accuracy: 0.9568 - val_loss: 0.0474 - val_accuracy: 0.9855\n",
            "Epoch 57/100500\n",
            "8559/8559 - 43s - loss: 0.1332 - accuracy: 0.9570 - val_loss: 0.0481 - val_accuracy: 0.9852\n",
            "Epoch 58/100500\n",
            "8559/8559 - 43s - loss: 0.1327 - accuracy: 0.9572 - val_loss: 0.0467 - val_accuracy: 0.9860\n",
            "Epoch 59/100500\n",
            "8559/8559 - 43s - loss: 0.1325 - accuracy: 0.9574 - val_loss: 0.0476 - val_accuracy: 0.9852\n",
            "Epoch 60/100500\n",
            "8559/8559 - 43s - loss: 0.1327 - accuracy: 0.9571 - val_loss: 0.0461 - val_accuracy: 0.9849\n",
            "Epoch 61/100500\n",
            "8559/8559 - 43s - loss: 0.1319 - accuracy: 0.9575 - val_loss: 0.0440 - val_accuracy: 0.9857\n",
            "Epoch 62/100500\n",
            "8559/8559 - 43s - loss: 0.1323 - accuracy: 0.9574 - val_loss: 0.0455 - val_accuracy: 0.9860\n",
            "Epoch 63/100500\n",
            "8559/8559 - 43s - loss: 0.1318 - accuracy: 0.9573 - val_loss: 0.0472 - val_accuracy: 0.9855\n",
            "Epoch 64/100500\n",
            "8559/8559 - 43s - loss: 0.1326 - accuracy: 0.9571 - val_loss: 0.0453 - val_accuracy: 0.9855\n",
            "Epoch 65/100500\n",
            "8559/8559 - 43s - loss: 0.1323 - accuracy: 0.9573 - val_loss: 0.0450 - val_accuracy: 0.9866\n",
            "Epoch 66/100500\n",
            "8559/8559 - 43s - loss: 0.1314 - accuracy: 0.9575 - val_loss: 0.0468 - val_accuracy: 0.9857\n",
            "Epoch 67/100500\n",
            "8559/8559 - 43s - loss: 0.1318 - accuracy: 0.9575 - val_loss: 0.0433 - val_accuracy: 0.9846\n",
            "Epoch 68/100500\n",
            "8559/8559 - 43s - loss: 0.1317 - accuracy: 0.9576 - val_loss: 0.0468 - val_accuracy: 0.9866\n",
            "Epoch 69/100500\n",
            "8559/8559 - 43s - loss: 0.1308 - accuracy: 0.9579 - val_loss: 0.0455 - val_accuracy: 0.9863\n",
            "Epoch 70/100500\n",
            "8559/8559 - 43s - loss: 0.1308 - accuracy: 0.9578 - val_loss: 0.0455 - val_accuracy: 0.9860\n",
            "Epoch 71/100500\n",
            "8559/8559 - 43s - loss: 0.1311 - accuracy: 0.9576 - val_loss: 0.0446 - val_accuracy: 0.9863\n",
            "Epoch 72/100500\n",
            "8559/8559 - 43s - loss: 0.1311 - accuracy: 0.9575 - val_loss: 0.0450 - val_accuracy: 0.9863\n",
            "Epoch 73/100500\n",
            "8559/8559 - 43s - loss: 0.1317 - accuracy: 0.9574 - val_loss: 0.0452 - val_accuracy: 0.9860\n",
            "Epoch 74/100500\n",
            "8559/8559 - 43s - loss: 0.1310 - accuracy: 0.9576 - val_loss: 0.0473 - val_accuracy: 0.9849\n",
            "Epoch 75/100500\n",
            "8559/8559 - 43s - loss: 0.1315 - accuracy: 0.9577 - val_loss: 0.0474 - val_accuracy: 0.9855\n",
            "Epoch 76/100500\n",
            "8559/8559 - 43s - loss: 0.1302 - accuracy: 0.9581 - val_loss: 0.0442 - val_accuracy: 0.9857\n",
            "Epoch 77/100500\n",
            "8559/8559 - 43s - loss: 0.1304 - accuracy: 0.9578 - val_loss: 0.0441 - val_accuracy: 0.9855\n",
            "Epoch 78/100500\n",
            "8559/8559 - 43s - loss: 0.1291 - accuracy: 0.9582 - val_loss: 0.0457 - val_accuracy: 0.9852\n",
            "Epoch 79/100500\n",
            "8559/8559 - 43s - loss: 0.1290 - accuracy: 0.9584 - val_loss: 0.0479 - val_accuracy: 0.9840\n",
            "Epoch 80/100500\n",
            "8559/8559 - 43s - loss: 0.1297 - accuracy: 0.9583 - val_loss: 0.0457 - val_accuracy: 0.9860\n",
            "Epoch 81/100500\n",
            "8559/8559 - 43s - loss: 0.1307 - accuracy: 0.9578 - val_loss: 0.0486 - val_accuracy: 0.9840\n",
            "Epoch 82/100500\n",
            "8559/8559 - 43s - loss: 0.1285 - accuracy: 0.9584 - val_loss: 0.0478 - val_accuracy: 0.9860\n",
            "Epoch 83/100500\n",
            "8559/8559 - 43s - loss: 0.1283 - accuracy: 0.9586 - val_loss: 0.0435 - val_accuracy: 0.9875\n",
            "Epoch 84/100500\n",
            "8559/8559 - 43s - loss: 0.1283 - accuracy: 0.9587 - val_loss: 0.0448 - val_accuracy: 0.9872\n",
            "Epoch 85/100500\n",
            "8559/8559 - 43s - loss: 0.1291 - accuracy: 0.9583 - val_loss: 0.0458 - val_accuracy: 0.9840\n",
            "Epoch 86/100500\n",
            "8559/8559 - 43s - loss: 0.1292 - accuracy: 0.9584 - val_loss: 0.0466 - val_accuracy: 0.9872\n",
            "Epoch 87/100500\n",
            "8559/8559 - 43s - loss: 0.1286 - accuracy: 0.9585 - val_loss: 0.0449 - val_accuracy: 0.9866\n",
            "Epoch 88/100500\n",
            "8559/8559 - 43s - loss: 0.1300 - accuracy: 0.9578 - val_loss: 0.0433 - val_accuracy: 0.9860\n",
            "Epoch 89/100500\n",
            "8559/8559 - 43s - loss: 0.1290 - accuracy: 0.9583 - val_loss: 0.0455 - val_accuracy: 0.9849\n",
            "Epoch 90/100500\n",
            "8559/8559 - 43s - loss: 0.1285 - accuracy: 0.9584 - val_loss: 0.0449 - val_accuracy: 0.9866\n",
            "Epoch 91/100500\n",
            "8559/8559 - 43s - loss: 0.1284 - accuracy: 0.9584 - val_loss: 0.0456 - val_accuracy: 0.9852\n",
            "Epoch 92/100500\n",
            "8559/8559 - 43s - loss: 0.1287 - accuracy: 0.9585 - val_loss: 0.0458 - val_accuracy: 0.9852\n",
            "Epoch 93/100500\n",
            "8559/8559 - 43s - loss: 0.1280 - accuracy: 0.9587 - val_loss: 0.0453 - val_accuracy: 0.9866\n",
            "Epoch 94/100500\n",
            "8559/8559 - 43s - loss: 0.1291 - accuracy: 0.9584 - val_loss: 0.0454 - val_accuracy: 0.9852\n",
            "Epoch 95/100500\n",
            "8559/8559 - 43s - loss: 0.1281 - accuracy: 0.9586 - val_loss: 0.0429 - val_accuracy: 0.9860\n",
            "Epoch 96/100500\n",
            "8559/8559 - 43s - loss: 0.1289 - accuracy: 0.9586 - val_loss: 0.0466 - val_accuracy: 0.9863\n",
            "Epoch 97/100500\n",
            "8559/8559 - 43s - loss: 0.1283 - accuracy: 0.9585 - val_loss: 0.0431 - val_accuracy: 0.9872\n",
            "Epoch 98/100500\n",
            "8559/8559 - 43s - loss: 0.1285 - accuracy: 0.9586 - val_loss: 0.0420 - val_accuracy: 0.9869\n",
            "Epoch 99/100500\n",
            "8559/8559 - 43s - loss: 0.1286 - accuracy: 0.9584 - val_loss: 0.0453 - val_accuracy: 0.9857\n",
            "Epoch 100/100500\n",
            "8559/8559 - 43s - loss: 0.1287 - accuracy: 0.9585 - val_loss: 0.0459 - val_accuracy: 0.9863\n",
            "Epoch 101/100500\n",
            "8559/8559 - 43s - loss: 0.1270 - accuracy: 0.9592 - val_loss: 0.0462 - val_accuracy: 0.9860\n",
            "Epoch 102/100500\n",
            "8559/8559 - 43s - loss: 0.1270 - accuracy: 0.9590 - val_loss: 0.0461 - val_accuracy: 0.9863\n",
            "Epoch 103/100500\n",
            "8559/8559 - 43s - loss: 0.1276 - accuracy: 0.9587 - val_loss: 0.0443 - val_accuracy: 0.9860\n",
            "Epoch 104/100500\n",
            "8559/8559 - 43s - loss: 0.1272 - accuracy: 0.9589 - val_loss: 0.0443 - val_accuracy: 0.9866\n",
            "Epoch 105/100500\n",
            "8559/8559 - 43s - loss: 0.1279 - accuracy: 0.9586 - val_loss: 0.0441 - val_accuracy: 0.9866\n",
            "Epoch 106/100500\n",
            "8559/8559 - 43s - loss: 0.1276 - accuracy: 0.9588 - val_loss: 0.0445 - val_accuracy: 0.9855\n",
            "Epoch 107/100500\n",
            "8559/8559 - 43s - loss: 0.1275 - accuracy: 0.9589 - val_loss: 0.0463 - val_accuracy: 0.9866\n",
            "Epoch 108/100500\n",
            "8559/8559 - 43s - loss: 0.1267 - accuracy: 0.9591 - val_loss: 0.0478 - val_accuracy: 0.9866\n",
            "Epoch 109/100500\n",
            "8559/8559 - 43s - loss: 0.1265 - accuracy: 0.9591 - val_loss: 0.0467 - val_accuracy: 0.9863\n",
            "Epoch 110/100500\n",
            "8559/8559 - 43s - loss: 0.1272 - accuracy: 0.9591 - val_loss: 0.0431 - val_accuracy: 0.9875\n",
            "Epoch 111/100500\n",
            "8559/8559 - 43s - loss: 0.1262 - accuracy: 0.9594 - val_loss: 0.0415 - val_accuracy: 0.9890\n",
            "Epoch 112/100500\n",
            "8559/8559 - 43s - loss: 0.1273 - accuracy: 0.9589 - val_loss: 0.0444 - val_accuracy: 0.9860\n",
            "Epoch 113/100500\n",
            "8559/8559 - 43s - loss: 0.1272 - accuracy: 0.9590 - val_loss: 0.0452 - val_accuracy: 0.9866\n",
            "Epoch 114/100500\n",
            "8559/8559 - 43s - loss: 0.1266 - accuracy: 0.9591 - val_loss: 0.0447 - val_accuracy: 0.9866\n",
            "Epoch 115/100500\n",
            "8559/8559 - 43s - loss: 0.1269 - accuracy: 0.9590 - val_loss: 0.0440 - val_accuracy: 0.9866\n",
            "Epoch 116/100500\n",
            "8559/8559 - 43s - loss: 0.1271 - accuracy: 0.9591 - val_loss: 0.0448 - val_accuracy: 0.9866\n",
            "Epoch 117/100500\n",
            "8559/8559 - 43s - loss: 0.1261 - accuracy: 0.9593 - val_loss: 0.0465 - val_accuracy: 0.9846\n",
            "Epoch 118/100500\n",
            "8559/8559 - 43s - loss: 0.1266 - accuracy: 0.9592 - val_loss: 0.0466 - val_accuracy: 0.9857\n",
            "Epoch 119/100500\n",
            "8559/8559 - 43s - loss: 0.1258 - accuracy: 0.9596 - val_loss: 0.0454 - val_accuracy: 0.9872\n",
            "Epoch 120/100500\n",
            "8559/8559 - 43s - loss: 0.1248 - accuracy: 0.9597 - val_loss: 0.0453 - val_accuracy: 0.9869\n",
            "Epoch 121/100500\n",
            "8559/8559 - 43s - loss: 0.1268 - accuracy: 0.9589 - val_loss: 0.0455 - val_accuracy: 0.9863\n",
            "Epoch 122/100500\n",
            "8559/8559 - 43s - loss: 0.1265 - accuracy: 0.9592 - val_loss: 0.0466 - val_accuracy: 0.9860\n",
            "Epoch 123/100500\n",
            "8559/8559 - 43s - loss: 0.1258 - accuracy: 0.9594 - val_loss: 0.0467 - val_accuracy: 0.9863\n",
            "Epoch 124/100500\n",
            "8559/8559 - 43s - loss: 0.1261 - accuracy: 0.9594 - val_loss: 0.0481 - val_accuracy: 0.9869\n",
            "Epoch 125/100500\n",
            "8559/8559 - 43s - loss: 0.1264 - accuracy: 0.9592 - val_loss: 0.0485 - val_accuracy: 0.9860\n",
            "Epoch 126/100500\n",
            "8559/8559 - 43s - loss: 0.1256 - accuracy: 0.9595 - val_loss: 0.0438 - val_accuracy: 0.9860\n",
            "Epoch 127/100500\n",
            "8559/8559 - 43s - loss: 0.1254 - accuracy: 0.9596 - val_loss: 0.0460 - val_accuracy: 0.9872\n",
            "Epoch 128/100500\n",
            "8559/8559 - 43s - loss: 0.1265 - accuracy: 0.9591 - val_loss: 0.0464 - val_accuracy: 0.9857\n",
            "Epoch 129/100500\n",
            "8559/8559 - 43s - loss: 0.1252 - accuracy: 0.9594 - val_loss: 0.0458 - val_accuracy: 0.9872\n",
            "Epoch 130/100500\n",
            "8559/8559 - 43s - loss: 0.1257 - accuracy: 0.9592 - val_loss: 0.0445 - val_accuracy: 0.9872\n",
            "Epoch 131/100500\n",
            "8559/8559 - 43s - loss: 0.1251 - accuracy: 0.9597 - val_loss: 0.0463 - val_accuracy: 0.9872\n",
            "Epoch 132/100500\n",
            "8559/8559 - 43s - loss: 0.1251 - accuracy: 0.9595 - val_loss: 0.0463 - val_accuracy: 0.9866\n",
            "Epoch 133/100500\n",
            "8559/8559 - 43s - loss: 0.1260 - accuracy: 0.9591 - val_loss: 0.0457 - val_accuracy: 0.9869\n",
            "Epoch 134/100500\n",
            "8559/8559 - 43s - loss: 0.1253 - accuracy: 0.9595 - val_loss: 0.0445 - val_accuracy: 0.9863\n",
            "Epoch 135/100500\n",
            "8559/8559 - 43s - loss: 0.1240 - accuracy: 0.9600 - val_loss: 0.0455 - val_accuracy: 0.9881\n",
            "Epoch 136/100500\n",
            "8559/8559 - 43s - loss: 0.1257 - accuracy: 0.9594 - val_loss: 0.0437 - val_accuracy: 0.9881\n",
            "Epoch 137/100500\n",
            "8559/8559 - 43s - loss: 0.1256 - accuracy: 0.9595 - val_loss: 0.0447 - val_accuracy: 0.9863\n",
            "Epoch 138/100500\n",
            "8559/8559 - 43s - loss: 0.1239 - accuracy: 0.9600 - val_loss: 0.0440 - val_accuracy: 0.9866\n",
            "Epoch 139/100500\n",
            "8559/8559 - 43s - loss: 0.1254 - accuracy: 0.9594 - val_loss: 0.0455 - val_accuracy: 0.9869\n",
            "Epoch 140/100500\n",
            "8559/8559 - 43s - loss: 0.1245 - accuracy: 0.9600 - val_loss: 0.0459 - val_accuracy: 0.9866\n",
            "Epoch 141/100500\n",
            "8559/8559 - 43s - loss: 0.1243 - accuracy: 0.9597 - val_loss: 0.0466 - val_accuracy: 0.9855\n",
            "Epoch 142/100500\n",
            "8559/8559 - 43s - loss: 0.1244 - accuracy: 0.9598 - val_loss: 0.0451 - val_accuracy: 0.9857\n",
            "Epoch 143/100500\n",
            "8559/8559 - 43s - loss: 0.1245 - accuracy: 0.9598 - val_loss: 0.0458 - val_accuracy: 0.9863\n",
            "Epoch 144/100500\n",
            "8559/8559 - 43s - loss: 0.1249 - accuracy: 0.9595 - val_loss: 0.0456 - val_accuracy: 0.9866\n",
            "Epoch 145/100500\n",
            "8559/8559 - 43s - loss: 0.1239 - accuracy: 0.9599 - val_loss: 0.0474 - val_accuracy: 0.9855\n",
            "Epoch 146/100500\n",
            "8559/8559 - 43s - loss: 0.1246 - accuracy: 0.9597 - val_loss: 0.0443 - val_accuracy: 0.9863\n",
            "Epoch 147/100500\n",
            "8559/8559 - 43s - loss: 0.1258 - accuracy: 0.9593 - val_loss: 0.0437 - val_accuracy: 0.9863\n",
            "Epoch 148/100500\n",
            "8559/8559 - 43s - loss: 0.1238 - accuracy: 0.9598 - val_loss: 0.0471 - val_accuracy: 0.9857\n",
            "Epoch 149/100500\n",
            "8559/8559 - 43s - loss: 0.1248 - accuracy: 0.9598 - val_loss: 0.0450 - val_accuracy: 0.9881\n",
            "Epoch 150/100500\n",
            "8559/8559 - 43s - loss: 0.1248 - accuracy: 0.9598 - val_loss: 0.0459 - val_accuracy: 0.9872\n",
            "Epoch 151/100500\n",
            "8559/8559 - 43s - loss: 0.1238 - accuracy: 0.9599 - val_loss: 0.0481 - val_accuracy: 0.9878\n",
            "Epoch 152/100500\n",
            "8559/8559 - 43s - loss: 0.1223 - accuracy: 0.9606 - val_loss: 0.0426 - val_accuracy: 0.9863\n",
            "Epoch 153/100500\n",
            "8559/8559 - 43s - loss: 0.1244 - accuracy: 0.9598 - val_loss: 0.0446 - val_accuracy: 0.9863\n",
            "Epoch 154/100500\n",
            "8559/8559 - 43s - loss: 0.1247 - accuracy: 0.9598 - val_loss: 0.0460 - val_accuracy: 0.9869\n",
            "Epoch 155/100500\n",
            "8559/8559 - 43s - loss: 0.1243 - accuracy: 0.9599 - val_loss: 0.0448 - val_accuracy: 0.9866\n",
            "Epoch 156/100500\n",
            "8559/8559 - 43s - loss: 0.1238 - accuracy: 0.9601 - val_loss: 0.0460 - val_accuracy: 0.9863\n",
            "Epoch 157/100500\n",
            "8559/8559 - 43s - loss: 0.1235 - accuracy: 0.9601 - val_loss: 0.0438 - val_accuracy: 0.9869\n",
            "Epoch 158/100500\n",
            "8559/8559 - 43s - loss: 0.1241 - accuracy: 0.9599 - val_loss: 0.0459 - val_accuracy: 0.9866\n",
            "Epoch 159/100500\n",
            "8559/8559 - 43s - loss: 0.1242 - accuracy: 0.9598 - val_loss: 0.0458 - val_accuracy: 0.9866\n",
            "Epoch 160/100500\n",
            "8559/8559 - 43s - loss: 0.1230 - accuracy: 0.9604 - val_loss: 0.0446 - val_accuracy: 0.9869\n",
            "Epoch 161/100500\n",
            "8559/8559 - 43s - loss: 0.1235 - accuracy: 0.9600 - val_loss: 0.0445 - val_accuracy: 0.9860\n",
            "Epoch 162/100500\n",
            "8559/8559 - 43s - loss: 0.1233 - accuracy: 0.9601 - val_loss: 0.0435 - val_accuracy: 0.9860\n",
            "Epoch 163/100500\n",
            "8559/8559 - 43s - loss: 0.1244 - accuracy: 0.9598 - val_loss: 0.0429 - val_accuracy: 0.9857\n",
            "Epoch 164/100500\n",
            "8559/8559 - 43s - loss: 0.1234 - accuracy: 0.9600 - val_loss: 0.0476 - val_accuracy: 0.9866\n",
            "Epoch 165/100500\n",
            "8559/8559 - 43s - loss: 0.1231 - accuracy: 0.9601 - val_loss: 0.0461 - val_accuracy: 0.9872\n",
            "Epoch 166/100500\n",
            "8559/8559 - 43s - loss: 0.1235 - accuracy: 0.9600 - val_loss: 0.0449 - val_accuracy: 0.9875\n",
            "Epoch 167/100500\n",
            "8559/8559 - 43s - loss: 0.1228 - accuracy: 0.9603 - val_loss: 0.0455 - val_accuracy: 0.9860\n",
            "Epoch 168/100500\n",
            "8559/8559 - 43s - loss: 0.1232 - accuracy: 0.9601 - val_loss: 0.0442 - val_accuracy: 0.9869\n",
            "Epoch 169/100500\n",
            "8559/8559 - 43s - loss: 0.1227 - accuracy: 0.9604 - val_loss: 0.0448 - val_accuracy: 0.9866\n",
            "Epoch 170/100500\n",
            "8559/8559 - 43s - loss: 0.1241 - accuracy: 0.9598 - val_loss: 0.0442 - val_accuracy: 0.9857\n",
            "Epoch 171/100500\n",
            "8559/8559 - 43s - loss: 0.1226 - accuracy: 0.9605 - val_loss: 0.0431 - val_accuracy: 0.9857\n",
            "Epoch 172/100500\n",
            "8559/8559 - 43s - loss: 0.1229 - accuracy: 0.9602 - val_loss: 0.0423 - val_accuracy: 0.9869\n",
            "Epoch 173/100500\n",
            "8559/8559 - 43s - loss: 0.1232 - accuracy: 0.9601 - val_loss: 0.0426 - val_accuracy: 0.9875\n",
            "Epoch 174/100500\n",
            "8559/8559 - 43s - loss: 0.1228 - accuracy: 0.9602 - val_loss: 0.0422 - val_accuracy: 0.9872\n",
            "Epoch 175/100500\n",
            "8559/8559 - 43s - loss: 0.1212 - accuracy: 0.9608 - val_loss: 0.0422 - val_accuracy: 0.9875\n",
            "Epoch 176/100500\n",
            "8559/8559 - 43s - loss: 0.1211 - accuracy: 0.9608 - val_loss: 0.0426 - val_accuracy: 0.9869\n",
            "Epoch 177/100500\n",
            "8559/8559 - 43s - loss: 0.1219 - accuracy: 0.9607 - val_loss: 0.0431 - val_accuracy: 0.9872\n",
            "Epoch 178/100500\n",
            "8559/8559 - 43s - loss: 0.1226 - accuracy: 0.9604 - val_loss: 0.0420 - val_accuracy: 0.9863\n",
            "Epoch 179/100500\n",
            "8559/8559 - 43s - loss: 0.1220 - accuracy: 0.9607 - val_loss: 0.0438 - val_accuracy: 0.9872\n",
            "Epoch 180/100500\n",
            "8559/8559 - 43s - loss: 0.1232 - accuracy: 0.9602 - val_loss: 0.0449 - val_accuracy: 0.9857\n",
            "Epoch 181/100500\n",
            "8559/8559 - 43s - loss: 0.1226 - accuracy: 0.9604 - val_loss: 0.0438 - val_accuracy: 0.9863\n",
            "Epoch 182/100500\n",
            "8559/8559 - 43s - loss: 0.1217 - accuracy: 0.9606 - val_loss: 0.0415 - val_accuracy: 0.9872\n",
            "Epoch 183/100500\n",
            "8559/8559 - 43s - loss: 0.1234 - accuracy: 0.9600 - val_loss: 0.0461 - val_accuracy: 0.9878\n",
            "Epoch 184/100500\n",
            "8559/8559 - 43s - loss: 0.1235 - accuracy: 0.9602 - val_loss: 0.0449 - val_accuracy: 0.9860\n",
            "Epoch 185/100500\n",
            "8559/8559 - 43s - loss: 0.1218 - accuracy: 0.9605 - val_loss: 0.0472 - val_accuracy: 0.9872\n",
            "Epoch 186/100500\n",
            "8559/8559 - 43s - loss: 0.1225 - accuracy: 0.9604 - val_loss: 0.0454 - val_accuracy: 0.9869\n",
            "Epoch 187/100500\n",
            "8559/8559 - 43s - loss: 0.1229 - accuracy: 0.9603 - val_loss: 0.0456 - val_accuracy: 0.9860\n",
            "Epoch 188/100500\n",
            "8559/8559 - 43s - loss: 0.1222 - accuracy: 0.9608 - val_loss: 0.0440 - val_accuracy: 0.9860\n",
            "Epoch 189/100500\n",
            "8559/8559 - 43s - loss: 0.1225 - accuracy: 0.9604 - val_loss: 0.0452 - val_accuracy: 0.9863\n",
            "Epoch 190/100500\n",
            "8559/8559 - 43s - loss: 0.1218 - accuracy: 0.9607 - val_loss: 0.0429 - val_accuracy: 0.9857\n",
            "Epoch 191/100500\n",
            "8559/8559 - 43s - loss: 0.1222 - accuracy: 0.9605 - val_loss: 0.0455 - val_accuracy: 0.9863\n",
            "Epoch 192/100500\n",
            "8559/8559 - 43s - loss: 0.1225 - accuracy: 0.9604 - val_loss: 0.0434 - val_accuracy: 0.9869\n",
            "Epoch 193/100500\n",
            "8559/8559 - 43s - loss: 0.1230 - accuracy: 0.9602 - val_loss: 0.0442 - val_accuracy: 0.9863\n",
            "Epoch 194/100500\n",
            "8559/8559 - 43s - loss: 0.1215 - accuracy: 0.9609 - val_loss: 0.0450 - val_accuracy: 0.9849\n",
            "Epoch 195/100500\n",
            "8559/8559 - 43s - loss: 0.1222 - accuracy: 0.9605 - val_loss: 0.0428 - val_accuracy: 0.9860\n",
            "Epoch 196/100500\n",
            "8559/8559 - 43s - loss: 0.1218 - accuracy: 0.9605 - val_loss: 0.0431 - val_accuracy: 0.9881\n",
            "Epoch 197/100500\n",
            "8559/8559 - 43s - loss: 0.1216 - accuracy: 0.9607 - val_loss: 0.0449 - val_accuracy: 0.9872\n",
            "Epoch 198/100500\n",
            "8559/8559 - 43s - loss: 0.1220 - accuracy: 0.9607 - val_loss: 0.0438 - val_accuracy: 0.9869\n",
            "Epoch 199/100500\n",
            "8559/8559 - 43s - loss: 0.1220 - accuracy: 0.9606 - val_loss: 0.0452 - val_accuracy: 0.9866\n",
            "Epoch 200/100500\n",
            "8559/8559 - 43s - loss: 0.1210 - accuracy: 0.9609 - val_loss: 0.0446 - val_accuracy: 0.9863\n",
            "Epoch 201/100500\n",
            "8559/8559 - 43s - loss: 0.1222 - accuracy: 0.9606 - val_loss: 0.0442 - val_accuracy: 0.9863\n",
            "Epoch 202/100500\n",
            "8559/8559 - 43s - loss: 0.1212 - accuracy: 0.9608 - val_loss: 0.0443 - val_accuracy: 0.9860\n",
            "Epoch 203/100500\n",
            "8559/8559 - 43s - loss: 0.1222 - accuracy: 0.9605 - val_loss: 0.0410 - val_accuracy: 0.9887\n",
            "Epoch 204/100500\n",
            "8559/8559 - 43s - loss: 0.1225 - accuracy: 0.9604 - val_loss: 0.0429 - val_accuracy: 0.9875\n",
            "Epoch 205/100500\n",
            "8559/8559 - 43s - loss: 0.1214 - accuracy: 0.9606 - val_loss: 0.0440 - val_accuracy: 0.9866\n",
            "Epoch 206/100500\n",
            "8559/8559 - 43s - loss: 0.1218 - accuracy: 0.9605 - val_loss: 0.0449 - val_accuracy: 0.9878\n",
            "Epoch 207/100500\n",
            "8559/8559 - 43s - loss: 0.1213 - accuracy: 0.9606 - val_loss: 0.0432 - val_accuracy: 0.9872\n",
            "Epoch 208/100500\n",
            "8559/8559 - 43s - loss: 0.1221 - accuracy: 0.9605 - val_loss: 0.0451 - val_accuracy: 0.9881\n",
            "Epoch 209/100500\n",
            "8559/8559 - 43s - loss: 0.1214 - accuracy: 0.9607 - val_loss: 0.0443 - val_accuracy: 0.9863\n",
            "Epoch 210/100500\n",
            "8559/8559 - 43s - loss: 0.1215 - accuracy: 0.9608 - val_loss: 0.0446 - val_accuracy: 0.9863\n",
            "Epoch 211/100500\n",
            "8559/8559 - 43s - loss: 0.1208 - accuracy: 0.9608 - val_loss: 0.0438 - val_accuracy: 0.9878\n",
            "Epoch 212/100500\n",
            "8559/8559 - 43s - loss: 0.1226 - accuracy: 0.9603 - val_loss: 0.0442 - val_accuracy: 0.9872\n",
            "Epoch 213/100500\n",
            "8559/8559 - 43s - loss: 0.1204 - accuracy: 0.9611 - val_loss: 0.0448 - val_accuracy: 0.9852\n",
            "Epoch 214/100500\n",
            "8559/8559 - 43s - loss: 0.1209 - accuracy: 0.9609 - val_loss: 0.0451 - val_accuracy: 0.9872\n",
            "Epoch 215/100500\n",
            "8559/8559 - 43s - loss: 0.1215 - accuracy: 0.9607 - val_loss: 0.0430 - val_accuracy: 0.9875\n",
            "Epoch 216/100500\n",
            "8559/8559 - 43s - loss: 0.1209 - accuracy: 0.9608 - val_loss: 0.0438 - val_accuracy: 0.9866\n",
            "Epoch 217/100500\n",
            "8559/8559 - 43s - loss: 0.1204 - accuracy: 0.9610 - val_loss: 0.0450 - val_accuracy: 0.9863\n",
            "Epoch 218/100500\n",
            "8559/8559 - 43s - loss: 0.1215 - accuracy: 0.9607 - val_loss: 0.0447 - val_accuracy: 0.9863\n",
            "Epoch 219/100500\n",
            "8559/8559 - 43s - loss: 0.1215 - accuracy: 0.9607 - val_loss: 0.0450 - val_accuracy: 0.9852\n",
            "Epoch 220/100500\n",
            "8559/8559 - 43s - loss: 0.1204 - accuracy: 0.9609 - val_loss: 0.0435 - val_accuracy: 0.9860\n",
            "Epoch 221/100500\n",
            "8559/8559 - 43s - loss: 0.1213 - accuracy: 0.9609 - val_loss: 0.0444 - val_accuracy: 0.9866\n",
            "Epoch 222/100500\n",
            "8559/8559 - 43s - loss: 0.1212 - accuracy: 0.9609 - val_loss: 0.0435 - val_accuracy: 0.9860\n",
            "Epoch 223/100500\n",
            "8559/8559 - 43s - loss: 0.1215 - accuracy: 0.9606 - val_loss: 0.0431 - val_accuracy: 0.9878\n",
            "Epoch 224/100500\n",
            "8559/8559 - 43s - loss: 0.1206 - accuracy: 0.9610 - val_loss: 0.0439 - val_accuracy: 0.9872\n",
            "Epoch 225/100500\n",
            "8559/8559 - 43s - loss: 0.1203 - accuracy: 0.9609 - val_loss: 0.0450 - val_accuracy: 0.9863\n",
            "Epoch 226/100500\n",
            "8559/8559 - 43s - loss: 0.1217 - accuracy: 0.9606 - val_loss: 0.0448 - val_accuracy: 0.9866\n",
            "Epoch 227/100500\n",
            "8559/8559 - 43s - loss: 0.1214 - accuracy: 0.9608 - val_loss: 0.0455 - val_accuracy: 0.9866\n",
            "Epoch 228/100500\n",
            "8559/8559 - 43s - loss: 0.1196 - accuracy: 0.9613 - val_loss: 0.0452 - val_accuracy: 0.9881\n",
            "Epoch 229/100500\n",
            "8559/8559 - 43s - loss: 0.1202 - accuracy: 0.9611 - val_loss: 0.0453 - val_accuracy: 0.9855\n",
            "Epoch 230/100500\n",
            "8559/8559 - 43s - loss: 0.1219 - accuracy: 0.9605 - val_loss: 0.0454 - val_accuracy: 0.9863\n",
            "Epoch 231/100500\n",
            "8559/8559 - 43s - loss: 0.1210 - accuracy: 0.9609 - val_loss: 0.0442 - val_accuracy: 0.9872\n",
            "Epoch 232/100500\n",
            "8559/8559 - 43s - loss: 0.1211 - accuracy: 0.9609 - val_loss: 0.0467 - val_accuracy: 0.9869\n",
            "Epoch 233/100500\n",
            "8559/8559 - 43s - loss: 0.1214 - accuracy: 0.9608 - val_loss: 0.0459 - val_accuracy: 0.9860\n",
            "Epoch 234/100500\n",
            "8559/8559 - 43s - loss: 0.1207 - accuracy: 0.9610 - val_loss: 0.0452 - val_accuracy: 0.9860\n",
            "Epoch 235/100500\n",
            "8559/8559 - 43s - loss: 0.1211 - accuracy: 0.9607 - val_loss: 0.0452 - val_accuracy: 0.9863\n",
            "Epoch 236/100500\n",
            "8559/8559 - 43s - loss: 0.1210 - accuracy: 0.9608 - val_loss: 0.0450 - val_accuracy: 0.9869\n",
            "Epoch 237/100500\n",
            "8559/8559 - 43s - loss: 0.1194 - accuracy: 0.9615 - val_loss: 0.0435 - val_accuracy: 0.9869\n",
            "Epoch 238/100500\n",
            "8559/8559 - 43s - loss: 0.1194 - accuracy: 0.9613 - val_loss: 0.0441 - val_accuracy: 0.9866\n",
            "Epoch 239/100500\n",
            "8559/8559 - 43s - loss: 0.1210 - accuracy: 0.9608 - val_loss: 0.0435 - val_accuracy: 0.9866\n",
            "Epoch 240/100500\n",
            "8559/8559 - 43s - loss: 0.1210 - accuracy: 0.9610 - val_loss: 0.0436 - val_accuracy: 0.9855\n",
            "Epoch 241/100500\n",
            "8559/8559 - 43s - loss: 0.1198 - accuracy: 0.9613 - val_loss: 0.0451 - val_accuracy: 0.9875\n",
            "Epoch 242/100500\n",
            "8559/8559 - 43s - loss: 0.1203 - accuracy: 0.9610 - val_loss: 0.0442 - val_accuracy: 0.9878\n",
            "Epoch 243/100500\n",
            "8559/8559 - 43s - loss: 0.1205 - accuracy: 0.9611 - val_loss: 0.0454 - val_accuracy: 0.9863\n",
            "Epoch 244/100500\n",
            "8559/8559 - 43s - loss: 0.1207 - accuracy: 0.9609 - val_loss: 0.0438 - val_accuracy: 0.9863\n",
            "Epoch 245/100500\n",
            "8559/8559 - 43s - loss: 0.1205 - accuracy: 0.9611 - val_loss: 0.0435 - val_accuracy: 0.9860\n",
            "Epoch 246/100500\n",
            "8559/8559 - 43s - loss: 0.1208 - accuracy: 0.9609 - val_loss: 0.0442 - val_accuracy: 0.9860\n",
            "Epoch 247/100500\n",
            "8559/8559 - 43s - loss: 0.1207 - accuracy: 0.9608 - val_loss: 0.0444 - val_accuracy: 0.9857\n",
            "Epoch 248/100500\n",
            "8559/8559 - 43s - loss: 0.1203 - accuracy: 0.9610 - val_loss: 0.0436 - val_accuracy: 0.9869\n",
            "Epoch 249/100500\n",
            "8559/8559 - 43s - loss: 0.1197 - accuracy: 0.9614 - val_loss: 0.0428 - val_accuracy: 0.9878\n",
            "Epoch 250/100500\n",
            "8559/8559 - 43s - loss: 0.1205 - accuracy: 0.9611 - val_loss: 0.0434 - val_accuracy: 0.9869\n",
            "Epoch 251/100500\n",
            "8559/8559 - 43s - loss: 0.1202 - accuracy: 0.9613 - val_loss: 0.0438 - val_accuracy: 0.9872\n",
            "Epoch 252/100500\n",
            "8559/8559 - 43s - loss: 0.1201 - accuracy: 0.9611 - val_loss: 0.0439 - val_accuracy: 0.9878\n",
            "Epoch 253/100500\n",
            "8559/8559 - 43s - loss: 0.1202 - accuracy: 0.9610 - val_loss: 0.0427 - val_accuracy: 0.9863\n",
            "Epoch 254/100500\n",
            "8559/8559 - 43s - loss: 0.1201 - accuracy: 0.9610 - val_loss: 0.0435 - val_accuracy: 0.9872\n",
            "Epoch 255/100500\n",
            "8559/8559 - 43s - loss: 0.1204 - accuracy: 0.9611 - val_loss: 0.0455 - val_accuracy: 0.9866\n",
            "Epoch 256/100500\n",
            "8559/8559 - 43s - loss: 0.1205 - accuracy: 0.9611 - val_loss: 0.0414 - val_accuracy: 0.9875\n",
            "Epoch 257/100500\n",
            "8559/8559 - 43s - loss: 0.1201 - accuracy: 0.9613 - val_loss: 0.0454 - val_accuracy: 0.9863\n",
            "Epoch 258/100500\n",
            "8559/8559 - 44s - loss: 0.1196 - accuracy: 0.9613 - val_loss: 0.0449 - val_accuracy: 0.9875\n",
            "Epoch 259/100500\n",
            "8559/8559 - 43s - loss: 0.1197 - accuracy: 0.9614 - val_loss: 0.0458 - val_accuracy: 0.9857\n",
            "Epoch 260/100500\n",
            "8559/8559 - 43s - loss: 0.1198 - accuracy: 0.9612 - val_loss: 0.0434 - val_accuracy: 0.9857\n",
            "Epoch 261/100500\n",
            "8559/8559 - 43s - loss: 0.1193 - accuracy: 0.9614 - val_loss: 0.0462 - val_accuracy: 0.9869\n",
            "Epoch 262/100500\n",
            "8559/8559 - 44s - loss: 0.1201 - accuracy: 0.9612 - val_loss: 0.0453 - val_accuracy: 0.9869\n",
            "Epoch 263/100500\n",
            "8559/8559 - 44s - loss: 0.1196 - accuracy: 0.9613 - val_loss: 0.0461 - val_accuracy: 0.9869\n",
            "Epoch 264/100500\n",
            "8559/8559 - 43s - loss: 0.1205 - accuracy: 0.9610 - val_loss: 0.0444 - val_accuracy: 0.9872\n",
            "Epoch 265/100500\n",
            "8559/8559 - 43s - loss: 0.1206 - accuracy: 0.9611 - val_loss: 0.0451 - val_accuracy: 0.9872\n",
            "Epoch 266/100500\n",
            "8559/8559 - 43s - loss: 0.1218 - accuracy: 0.9606 - val_loss: 0.0464 - val_accuracy: 0.9863\n",
            "Epoch 267/100500\n",
            "8559/8559 - 43s - loss: 0.1202 - accuracy: 0.9612 - val_loss: 0.0434 - val_accuracy: 0.9863\n",
            "Epoch 268/100500\n",
            "8559/8559 - 43s - loss: 0.1203 - accuracy: 0.9612 - val_loss: 0.0450 - val_accuracy: 0.9860\n",
            "Epoch 269/100500\n",
            "8559/8559 - 43s - loss: 0.1193 - accuracy: 0.9613 - val_loss: 0.0477 - val_accuracy: 0.9863\n",
            "Epoch 270/100500\n",
            "8559/8559 - 43s - loss: 0.1192 - accuracy: 0.9614 - val_loss: 0.0456 - val_accuracy: 0.9860\n",
            "Epoch 271/100500\n",
            "8559/8559 - 43s - loss: 0.1197 - accuracy: 0.9613 - val_loss: 0.0461 - val_accuracy: 0.9860\n",
            "Epoch 272/100500\n",
            "8559/8559 - 43s - loss: 0.1205 - accuracy: 0.9612 - val_loss: 0.0434 - val_accuracy: 0.9872\n",
            "Epoch 273/100500\n",
            "8559/8559 - 43s - loss: 0.1206 - accuracy: 0.9610 - val_loss: 0.0451 - val_accuracy: 0.9863\n",
            "Epoch 274/100500\n",
            "8559/8559 - 43s - loss: 0.1196 - accuracy: 0.9613 - val_loss: 0.0461 - val_accuracy: 0.9863\n",
            "Epoch 275/100500\n",
            "8559/8559 - 43s - loss: 0.1202 - accuracy: 0.9612 - val_loss: 0.0436 - val_accuracy: 0.9875\n",
            "Epoch 276/100500\n",
            "8559/8559 - 43s - loss: 0.1197 - accuracy: 0.9614 - val_loss: 0.0453 - val_accuracy: 0.9860\n",
            "Epoch 277/100500\n",
            "8559/8559 - 43s - loss: 0.1188 - accuracy: 0.9615 - val_loss: 0.0468 - val_accuracy: 0.9857\n",
            "Epoch 278/100500\n",
            "8559/8559 - 43s - loss: 0.1204 - accuracy: 0.9610 - val_loss: 0.0434 - val_accuracy: 0.9869\n",
            "Epoch 279/100500\n",
            "8559/8559 - 43s - loss: 0.1194 - accuracy: 0.9612 - val_loss: 0.0448 - val_accuracy: 0.9860\n",
            "Epoch 280/100500\n",
            "8559/8559 - 43s - loss: 0.1190 - accuracy: 0.9616 - val_loss: 0.0481 - val_accuracy: 0.9857\n",
            "Epoch 281/100500\n",
            "8559/8559 - 43s - loss: 0.1176 - accuracy: 0.9618 - val_loss: 0.0462 - val_accuracy: 0.9860\n",
            "Epoch 282/100500\n",
            "8559/8559 - 43s - loss: 0.1196 - accuracy: 0.9614 - val_loss: 0.0450 - val_accuracy: 0.9875\n",
            "Epoch 283/100500\n",
            "8559/8559 - 43s - loss: 0.1193 - accuracy: 0.9616 - val_loss: 0.0442 - val_accuracy: 0.9869\n",
            "Epoch 284/100500\n",
            "8559/8559 - 43s - loss: 0.1204 - accuracy: 0.9611 - val_loss: 0.0454 - val_accuracy: 0.9872\n",
            "Epoch 285/100500\n",
            "8559/8559 - 43s - loss: 0.1201 - accuracy: 0.9611 - val_loss: 0.0454 - val_accuracy: 0.9869\n",
            "Epoch 286/100500\n",
            "8559/8559 - 43s - loss: 0.1183 - accuracy: 0.9617 - val_loss: 0.0459 - val_accuracy: 0.9869\n",
            "Epoch 287/100500\n",
            "8559/8559 - 43s - loss: 0.1192 - accuracy: 0.9616 - val_loss: 0.0465 - val_accuracy: 0.9869\n",
            "Epoch 288/100500\n",
            "8559/8559 - 43s - loss: 0.1204 - accuracy: 0.9611 - val_loss: 0.0442 - val_accuracy: 0.9863\n",
            "Epoch 289/100500\n",
            "8559/8559 - 43s - loss: 0.1195 - accuracy: 0.9613 - val_loss: 0.0450 - val_accuracy: 0.9860\n",
            "Epoch 290/100500\n",
            "8559/8559 - 43s - loss: 0.1210 - accuracy: 0.9610 - val_loss: 0.0451 - val_accuracy: 0.9866\n",
            "Epoch 291/100500\n",
            "8559/8559 - 43s - loss: 0.1194 - accuracy: 0.9613 - val_loss: 0.0444 - val_accuracy: 0.9866\n",
            "Epoch 292/100500\n",
            "8559/8559 - 43s - loss: 0.1192 - accuracy: 0.9614 - val_loss: 0.0453 - val_accuracy: 0.9860\n",
            "Epoch 293/100500\n",
            "8559/8559 - 43s - loss: 0.1195 - accuracy: 0.9614 - val_loss: 0.0466 - val_accuracy: 0.9863\n",
            "Epoch 294/100500\n",
            "8559/8559 - 43s - loss: 0.1184 - accuracy: 0.9618 - val_loss: 0.0466 - val_accuracy: 0.9869\n",
            "Epoch 295/100500\n",
            "8559/8559 - 43s - loss: 0.1196 - accuracy: 0.9612 - val_loss: 0.0451 - val_accuracy: 0.9878\n",
            "Epoch 296/100500\n",
            "8559/8559 - 43s - loss: 0.1202 - accuracy: 0.9612 - val_loss: 0.0450 - val_accuracy: 0.9866\n",
            "Epoch 297/100500\n",
            "8559/8559 - 43s - loss: 0.1190 - accuracy: 0.9613 - val_loss: 0.0454 - val_accuracy: 0.9866\n",
            "Epoch 298/100500\n",
            "8559/8559 - 43s - loss: 0.1201 - accuracy: 0.9612 - val_loss: 0.0453 - val_accuracy: 0.9860\n",
            "Epoch 299/100500\n",
            "8559/8559 - 43s - loss: 0.1184 - accuracy: 0.9619 - val_loss: 0.0451 - val_accuracy: 0.9860\n",
            "Epoch 300/100500\n",
            "8559/8559 - 43s - loss: 0.1201 - accuracy: 0.9612 - val_loss: 0.0460 - val_accuracy: 0.9860\n",
            "Epoch 301/100500\n",
            "8559/8559 - 43s - loss: 0.1196 - accuracy: 0.9613 - val_loss: 0.0479 - val_accuracy: 0.9860\n",
            "Epoch 302/100500\n",
            "8559/8559 - 43s - loss: 0.1186 - accuracy: 0.9617 - val_loss: 0.0466 - val_accuracy: 0.9863\n",
            "Epoch 303/100500\n",
            "8559/8559 - 43s - loss: 0.1182 - accuracy: 0.9617 - val_loss: 0.0472 - val_accuracy: 0.9866\n",
            "Restoring model weights from the end of the best epoch.\n",
            "Epoch 00303: early stopping\n"
          ],
          "name": "stdout"
        }
      ]
    },
    {
      "cell_type": "code",
      "metadata": {
        "id": "MpFpu5bZeYj4",
        "colab": {
          "base_uri": "https://localhost:8080/",
          "height": 590
        },
        "outputId": "c78bab0e-68f4-421b-9fe3-0e3bdf57472f"
      },
      "source": [
        "print(history.history.keys())\n",
        "\n",
        "# Plot training & validation accuracy values\n",
        "plt.plot(history.history['accuracy'])\n",
        "plt.plot(history.history['val_accuracy'])\n",
        "plt.title('Model accuracy')\n",
        "plt.ylabel('Accuracy')\n",
        "plt.xlabel('Epoch')\n",
        "plt.legend(['Train', 'Valid'], loc='lower right')\n",
        "plt.show()\n",
        "\n",
        "# Plot training & validation loss values\n",
        "plt.plot(history.history['loss'])\n",
        "plt.plot(history.history['val_loss'])\n",
        "plt.title('Model loss')\n",
        "plt.ylabel('Loss')\n",
        "plt.xlabel('Epoch')\n",
        "plt.legend(['Train', 'Valid'], loc='upper right')\n",
        "plt.show()"
      ],
      "execution_count": 19,
      "outputs": [
        {
          "output_type": "stream",
          "text": [
            "dict_keys(['loss', 'accuracy', 'val_loss', 'val_accuracy'])\n"
          ],
          "name": "stdout"
        },
        {
          "output_type": "display_data",
          "data": {
            "image/png": "[encoded data removed]",
            "text/plain": [
              "<Figure size 936x288 with 1 Axes>"
            ]
          },
          "metadata": {
            "tags": [],
            "needs_background": "light"
          }
        },
        {
          "output_type": "display_data",
          "data": {
            "image/png": "[encoded data removed]",
            "text/plain": [
              "<Figure size 936x288 with 1 Axes>"
            ]
          },
          "metadata": {
            "tags": [],
            "needs_background": "light"
          }
        }
      ]
    },
    {
      "cell_type": "code",
      "metadata": {
        "id": "PRNTkY9zZlUA",
        "colab": {
          "base_uri": "https://localhost:8080/"
        },
        "outputId": "190a98f7-92a2-4db9-8b97-4791997dc588"
      },
      "source": [
        "results = model.evaluate(x_train, y_train, verbose=0)\n",
        "print('train loss, train acc:', results)\n",
        "\n",
        "results = model.evaluate(x_test, y_test, verbose=0)\n",
        "print('test loss, test acc:', results)\n",
        "\n",
        "results = model.evaluate(x_valid, y_valid, verbose=0)\n",
        "print('valid loss, valid acc:', results)"
      ],
      "execution_count": 20,
      "outputs": [
        {
          "output_type": "stream",
          "text": [
            "train loss, train acc: [0.034716565161943436, 0.9890047907829285]\n",
            "test loss, test acc: [0.06848850101232529, 0.9777365326881409]\n",
            "valid loss, valid acc: [0.04104166105389595, 0.9887173175811768]\n"
          ],
          "name": "stdout"
        }
      ]
    },
    {
      "cell_type": "code",
      "metadata": {
        "id": "7JE3mAdnX8MW",
        "colab": {
          "base_uri": "https://localhost:8080/"
        },
        "outputId": "c5f5348e-6a5a-4667-f708-56d0a8c1c7a2"
      },
      "source": [
        "assert(len(x_test) + len(x_valid) == 7141)\n",
        "pred = model.predict(x_test).argmax(axis=-1)\n",
        "print(np.sum(pred != y_test), len(pred))\n",
        "pred = model.predict(x_valid).argmax(axis=-1)\n",
        "print(np.sum(pred != y_valid), len(pred))"
      ],
      "execution_count": 21,
      "outputs": [
        {
          "output_type": "stream",
          "text": [
            "84 3773\n",
            "38 3368\n"
          ],
          "name": "stdout"
        }
      ]
    },
    {
      "cell_type": "code",
      "metadata": {
        "id": "jiBuvXWK4ehH",
        "colab": {
          "base_uri": "https://localhost:8080/"
        },
        "outputId": "412fd166-e1f9-4d1b-ba45-f3d700668e8d"
      },
      "source": [
        "stream_model = build_model(True)\n",
        "\n",
        "# copy weights from old model to new one\n",
        "for layer in stream_model.layers:\n",
        "    if layer.get_weights():\n",
        "      print(\"Transfer weights for layer {}\".format(layer.name))\n",
        "      layer.set_weights(model.get_layer(name=layer.name).get_weights())"
      ],
      "execution_count": 22,
      "outputs": [
        {
          "output_type": "stream",
          "text": [
            "Model: \"model\"\n",
            "__________________________________________________________________________________________________\n",
            "Layer (type)                    Output Shape         Param #     Connected to                     \n",
            "==================================================================================================\n",
            "input_6 (InputLayer)            [(None, 32, 1, 64)]  0                                            \n",
            "__________________________________________________________________________________________________\n",
            "average_pooling2d (AveragePooli (None, 1, 1, 64)     0           input_6[0][0]                    \n",
            "__________________________________________________________________________________________________\n",
            "flatten (Flatten)               (None, 64)           0           average_pooling2d[0][0]          \n",
            "__________________________________________________________________________________________________\n",
            "dense (Dense)                   (None, 32)           2048        flatten[0][0]                    \n",
            "__________________________________________________________________________________________________\n",
            "batch_normalization_5 (BatchNor (None, 32)           128         dense[0][0]                      \n",
            "__________________________________________________________________________________________________\n",
            "input_1 (InputLayer)            [(None, 1, 1, 13)]   0                                            \n",
            "__________________________________________________________________________________________________\n",
            "input_2 (InputLayer)            [(None, 2, 1, 64)]   0                                            \n",
            "__________________________________________________________________________________________________\n",
            "input_3 (InputLayer)            [(None, 2, 1, 64)]   0                                            \n",
            "__________________________________________________________________________________________________\n",
            "input_4 (InputLayer)            [(None, 2, 1, 64)]   0                                            \n",
            "__________________________________________________________________________________________________\n",
            "input_5 (InputLayer)            [(None, 2, 1, 64)]   0                                            \n",
            "__________________________________________________________________________________________________\n",
            "re_lu_5 (ReLU)                  (None, 32)           0           batch_normalization_5[0][0]      \n",
            "__________________________________________________________________________________________________\n",
            "conv2d (Conv2D)                 (None, 1, 1, 64)     832         input_1[0][0]                    \n",
            "__________________________________________________________________________________________________\n",
            "separable_conv2d (SeparableConv (None, 1, 1, 64)     4224        input_2[0][0]                    \n",
            "__________________________________________________________________________________________________\n",
            "separable_conv2d_1 (SeparableCo (None, 1, 1, 64)     4224        input_3[0][0]                    \n",
            "__________________________________________________________________________________________________\n",
            "separable_conv2d_2 (SeparableCo (None, 1, 1, 64)     4224        input_4[0][0]                    \n",
            "__________________________________________________________________________________________________\n",
            "separable_conv2d_3 (SeparableCo (None, 1, 1, 64)     4224        input_5[0][0]                    \n",
            "__________________________________________________________________________________________________\n",
            "dropout (Dropout)               (None, 32)           0           re_lu_5[0][0]                    \n",
            "__________________________________________________________________________________________________\n",
            "batch_normalization (BatchNorma (None, 1, 1, 64)     256         conv2d[0][0]                     \n",
            "__________________________________________________________________________________________________\n",
            "batch_normalization_1 (BatchNor (None, 1, 1, 64)     256         separable_conv2d[0][0]           \n",
            "__________________________________________________________________________________________________\n",
            "batch_normalization_2 (BatchNor (None, 1, 1, 64)     256         separable_conv2d_1[0][0]         \n",
            "__________________________________________________________________________________________________\n",
            "batch_normalization_3 (BatchNor (None, 1, 1, 64)     256         separable_conv2d_2[0][0]         \n",
            "__________________________________________________________________________________________________\n",
            "batch_normalization_4 (BatchNor (None, 1, 1, 64)     256         separable_conv2d_3[0][0]         \n",
            "__________________________________________________________________________________________________\n",
            "dense_1 (Dense)                 (None, 12)           396         dropout[0][0]                    \n",
            "__________________________________________________________________________________________________\n",
            "re_lu (ReLU)                    (None, 1, 1, 64)     0           batch_normalization[0][0]        \n",
            "__________________________________________________________________________________________________\n",
            "re_lu_1 (ReLU)                  (None, 1, 1, 64)     0           batch_normalization_1[0][0]      \n",
            "__________________________________________________________________________________________________\n",
            "re_lu_2 (ReLU)                  (None, 1, 1, 64)     0           batch_normalization_2[0][0]      \n",
            "__________________________________________________________________________________________________\n",
            "re_lu_3 (ReLU)                  (None, 1, 1, 64)     0           batch_normalization_3[0][0]      \n",
            "__________________________________________________________________________________________________\n",
            "re_lu_4 (ReLU)                  (None, 1, 1, 64)     0           batch_normalization_4[0][0]      \n",
            "__________________________________________________________________________________________________\n",
            "softmax (Softmax)               (None, 12)           0           dense_1[0][0]                    \n",
            "__________________________________________________________________________________________________\n",
            "spatial_dropout2d (SpatialDropo (None, 1, 1, 64)     0           re_lu[0][0]                      \n",
            "__________________________________________________________________________________________________\n",
            "spatial_dropout2d_1 (SpatialDro (None, 1, 1, 64)     0           re_lu_1[0][0]                    \n",
            "__________________________________________________________________________________________________\n",
            "spatial_dropout2d_2 (SpatialDro (None, 1, 1, 64)     0           re_lu_2[0][0]                    \n",
            "__________________________________________________________________________________________________\n",
            "spatial_dropout2d_3 (SpatialDro (None, 1, 1, 64)     0           re_lu_3[0][0]                    \n",
            "__________________________________________________________________________________________________\n",
            "spatial_dropout2d_4 (SpatialDro (None, 1, 1, 64)     0           re_lu_4[0][0]                    \n",
            "==================================================================================================\n",
            "Total params: 21,580\n",
            "Trainable params: 20,876\n",
            "Non-trainable params: 704\n",
            "__________________________________________________________________________________________________\n",
            "Transfer weights for layer dense\n",
            "Transfer weights for layer batch_normalization_5\n",
            "Transfer weights for layer conv2d\n",
            "Transfer weights for layer separable_conv2d\n",
            "Transfer weights for layer separable_conv2d_1\n",
            "Transfer weights for layer separable_conv2d_2\n",
            "Transfer weights for layer separable_conv2d_3\n",
            "Transfer weights for layer batch_normalization\n",
            "Transfer weights for layer batch_normalization_1\n",
            "Transfer weights for layer batch_normalization_2\n",
            "Transfer weights for layer batch_normalization_3\n",
            "Transfer weights for layer batch_normalization_4\n",
            "Transfer weights for layer dense_1\n"
          ],
          "name": "stdout"
        }
      ]
    },
    {
      "cell_type": "code",
      "metadata": {
        "id": "OkkN64i46Heb",
        "colab": {
          "base_uri": "https://localhost:8080/"
        },
        "outputId": "e159cf8a-ea04-424b-9d07-59fa1281693d"
      },
      "source": [
        "converter = tf.lite.TFLiteConverter.from_keras_model(stream_model)\n",
        "converter.experimental_new_converter = False\n",
        "tflite_model = converter.convert()\n",
        "with open(\"dcnn.tflite\", \"wb\") as f:\n",
        "  f.write(tflite_model)"
      ],
      "execution_count": 23,
      "outputs": [
        {
          "output_type": "stream",
          "text": [
            "INFO:tensorflow:Assets written to: /tmp/tmpfcbl3400/assets\n"
          ],
          "name": "stdout"
        },
        {
          "output_type": "stream",
          "text": [
            "WARNING:absl:Please consider switching to the new converter by setting experimental_new_converter=True. The old converter (TOCO) is deprecated.\n"
          ],
          "name": "stderr"
        }
      ]
    },
    {
      "cell_type": "code",
      "metadata": {
        "id": "Bvf_TObh0N_e"
      },
      "source": [
        "%%capture --no-stderr\n",
        "!apt install xxd\n",
        "!git clone https://github.com/tensorflow/tensorflow.git -b v2.3.1 --depth 1 tf\n",
        "!make -C tf/ -f tensorflow/lite/micro/tools/make/Makefile generate_hello_world_make_project\n",
        "!ln -s tf/tensorflow/lite/micro/tools/make/gen/linux_x86_64/prj/hello_world/make/tensorflow\n",
        "!ln -s tf/tensorflow/lite/micro/tools/make/gen/linux_x86_64/prj/hello_world/make/third_party"
      ],
      "execution_count": 24,
      "outputs": []
    },
    {
      "cell_type": "code",
      "metadata": {
        "id": "-C_IXmmb2jAt",
        "colab": {
          "base_uri": "https://localhost:8080/"
        },
        "outputId": "2eb6faff-f2d7-4b06-909e-1cf691023448"
      },
      "source": [
        "%%file guess.cc\n",
        "#include <fstream>\n",
        "#include <list>\n",
        "\n",
        "#include \"tensorflow/lite/micro/all_ops_resolver.h\"\n",
        "#include \"tensorflow/lite/micro/micro_error_reporter.h\"\n",
        "#include \"tensorflow/lite/micro/micro_interpreter.h\"\n",
        "#include \"tensorflow/lite/schema/schema_generated.h\"\n",
        "#include \"tensorflow/lite/version.h\"\n",
        "\n",
        "static_assert(sizeof(float) == 4, \"WTF\");\n",
        "\n",
        "#define TFLITE_MINIMAL_CHECK(x, ...)                                          \\\n",
        "  if (!(x)) {                                                                 \\\n",
        "    TF_LITE_REPORT_ERROR(error_reporter, __VA_ARGS__);                        \\\n",
        "    TF_LITE_REPORT_ERROR(error_reporter, \"Err at %s:%d\", __FILE__, __LINE__); \\\n",
        "    exit(1);                                                                  \\\n",
        "  }\n",
        "\n",
        "//-------------------------------------------------------------------//\n",
        "\n",
        "namespace {\n",
        "  char *buffer = nullptr;\n",
        "  tflite::ErrorReporter* error_reporter = nullptr;\n",
        "  constexpr size_t kTensorArenaSize = 1000 * 1024;\n",
        "  alignas(16) uint8_t tensor_arena[kTensorArenaSize];\n",
        "}\n",
        "\n",
        "//-------------------------------------------------------------------//\n",
        "\n",
        "class NonCopyable {\n",
        "protected:\n",
        "    NonCopyable(NonCopyable const&) = delete;\n",
        "    NonCopyable& operator=(NonCopyable const&) = delete;\n",
        "    NonCopyable() = default;\n",
        "};\n",
        "\n",
        "//-------------------------------------------------------------------//\n",
        "\n",
        "class StreamingState : NonCopyable\n",
        "{\n",
        "    char  *i, *o, *r;\n",
        "    size_t i_sz, o_sz, mv_sz;\n",
        "    void init(char* ii, size_t is, char* oo, size_t os);\n",
        "    void (*strategy)(StreamingState* self) = &default_strategy_impl;\n",
        "    static void default_strategy_impl(StreamingState* self);\n",
        "    static void dilated_strategy_impl(StreamingState* self);\n",
        "\n",
        "public:\n",
        "    StreamingState(TfLiteTensor* ii, TfLiteTensor* oo);\n",
        "    StreamingState(TfLiteTensor* ii, size_t ss);\n",
        "    StreamingState(TfLiteTensor* ii, TfLiteTensor* oo, size_t d);\n",
        "    ~StreamingState() { delete[] r; }\n",
        "    void stream() { strategy(this); }\n",
        "};\n",
        "\n",
        "void StreamingState::init(char* ii, size_t is, char* oo, size_t os)\n",
        "{\n",
        "    o = oo, i = ii, i_sz = is, o_sz = os;\n",
        "    TFLITE_MINIMAL_CHECK(i_sz > o_sz, \"WTF\");\n",
        "    memset(i, 0, i_sz);\n",
        "    r = new char[i_sz]();\n",
        "    TFLITE_MINIMAL_CHECK(r != nullptr, \"WTF\");\n",
        "    mv_sz = i_sz - o_sz; \n",
        "}\n",
        "\n",
        "StreamingState::StreamingState(TfLiteTensor* ii, TfLiteTensor* oo)\n",
        "{\n",
        "    TFLITE_MINIMAL_CHECK(oo->type == kTfLiteFloat32, \"WTF\");\n",
        "    TFLITE_MINIMAL_CHECK(ii->type == kTfLiteFloat32, \"WTF\");\n",
        "    TFLITE_MINIMAL_CHECK(ii->bytes % oo->bytes == 0, \"WTF\");\n",
        "    init(ii->data.raw, ii->bytes, oo->data.raw, oo->bytes);\n",
        "}\n",
        "\n",
        "StreamingState::StreamingState(TfLiteTensor* ii, TfLiteTensor* oo, size_t d)\n",
        "{\n",
        "    TFLITE_MINIMAL_CHECK(oo->type == kTfLiteFloat32, \"WTF\");\n",
        "    TFLITE_MINIMAL_CHECK(ii->type == kTfLiteFloat32, \"WTF\");\n",
        "    TFLITE_MINIMAL_CHECK(ii->bytes % oo->bytes == 0, \"WTF\");\n",
        "    TFLITE_MINIMAL_CHECK(ii->bytes / oo->bytes == 2, \"WTF\");\n",
        "    TFLITE_MINIMAL_CHECK(d > 1, \"WTF\");\n",
        "    size_t x = 1 + (1 << (d - 1));\n",
        "    init(ii->data.raw, x * oo->bytes, oo->data.raw, oo->bytes);\n",
        "    strategy = &dilated_strategy_impl;\n",
        "}\n",
        "\n",
        "void StreamingState::default_strategy_impl(StreamingState* self)\n",
        "{\n",
        "    memmove(self->r, &self->r[self->o_sz], self->mv_sz);\n",
        "    memcpy(&self->r[self->mv_sz], self->o, self->o_sz);\n",
        "    memcpy(self->i, self->r, self->i_sz);\n",
        "}\n",
        "\n",
        "void StreamingState::dilated_strategy_impl(StreamingState* self)\n",
        "{\n",
        "    memmove(self->r, &self->r[self->o_sz], self->mv_sz);\n",
        "    memcpy(&self->r[self->mv_sz], self->o, self->o_sz);\n",
        "    memcpy(self->i, self->r, self->o_sz);\n",
        "    memcpy(&self->i[self->o_sz], &self->r[self->mv_sz], self->o_sz);\n",
        "}\n",
        "\n",
        "//-------------------------------------------------------------------//\n",
        "\n",
        "static void print_tensor(TfLiteTensor* tensor)\n",
        "{\n",
        "  float* data = tensor->data.f;\n",
        "  size_t len = tensor->bytes / sizeof(*data);\n",
        "  for(size_t i = 0, j = len - 1; i < len; i++)\n",
        "  {\n",
        "    printf(\"%f%c\", (double)data[i], i == j ? '\\n' : ' ');\n",
        "  }\n",
        "}\n",
        "\n",
        "//-------------------------------------------------------------------//\n",
        "\n",
        "static float read_input()\n",
        "{\n",
        "  float value;\n",
        "  TFLITE_MINIMAL_CHECK(scanf(\"%f\", &value) == 1, \"WTF\");\n",
        "  return value;\n",
        "}\n",
        "\n",
        "//-------------------------------------------------------------------//\n",
        "\n",
        "void guess(size_t loop)\n",
        "{\n",
        "  const tflite::Model* model = nullptr;\n",
        "  tflite::MicroInterpreter* interpreter = nullptr;\n",
        "  TfLiteTensor* input = nullptr;\n",
        "  TfLiteTensor* output = nullptr;\n",
        "  std::list<StreamingState> streaming_state;\n",
        "\n",
        "  // Map the model into a usable data structure. This doesn't involve any\n",
        "  // copying or parsing, it's a very lightweight operation.\n",
        "  model = tflite::GetModel(buffer);\n",
        "  TFLITE_MINIMAL_CHECK(model->version() == TFLITE_SCHEMA_VERSION, \n",
        "                       \"Model provided is schema version %d not equal \"\n",
        "                       \"to supported version %d.\",\n",
        "                       model->version(), TFLITE_SCHEMA_VERSION);\n",
        "\n",
        "  // This pulls in all the operation implementations we need.\n",
        "  // NOLINTNEXTLINE(runtime-global-variables)\n",
        "  tflite::AllOpsResolver resolver;\n",
        "\n",
        "  // Build an interpreter to run the model with.\n",
        "  tflite::MicroInterpreter static_interpreter(\n",
        "        model, resolver, tensor_arena, kTensorArenaSize, error_reporter);\n",
        "  interpreter = &static_interpreter;\n",
        "\n",
        "  // Allocate memory from the tensor_arena for the model's tensors.\n",
        "  TfLiteStatus status = interpreter->AllocateTensors();\n",
        "  TFLITE_MINIMAL_CHECK(status == kTfLiteOk, \"AllocateTensors() failed\");\n",
        "\n",
        "  // Obtain pointers to the model's input and output tensors.\n",
        "  input  = interpreter->input(0);\n",
        "  output = interpreter->output(0);\n",
        "  TFLITE_MINIMAL_CHECK(input->type == kTfLiteFloat32, \"WTF\");\n",
        "  TFLITE_MINIMAL_CHECK(input->bytes == 1 * 13 * sizeof(float), \"WTF\");\n",
        "  TFLITE_MINIMAL_CHECK(output->type == kTfLiteFloat32, \"WTF\");\n",
        "  TFLITE_MINIMAL_CHECK(output->bytes == 12 * sizeof(float), \"WTF\");\n",
        "\n",
        "  TFLITE_MINIMAL_CHECK(interpreter->inputs_size() == interpreter->outputs_size(), \"WTF\");\n",
        "  TFLITE_MINIMAL_CHECK(interpreter->inputs_size() > 2, \"WTF\");\n",
        "\n",
        "  // first conv layer dilation == 1\n",
        "  streaming_state.emplace_back(interpreter->input(1), interpreter->output(1));\n",
        "\n",
        "  // conv dilation > 1 layers\n",
        "  size_t last = interpreter->inputs_size() - 1;\n",
        "  for(size_t i = 2; i < last; i++)\n",
        "    streaming_state.emplace_back(interpreter->input(i), interpreter->output(i), i);\n",
        "\n",
        "  // last pooling layer\n",
        "  streaming_state.emplace_back(interpreter->input(last), interpreter->output(last));\n",
        "\n",
        "loop:\n",
        "\n",
        "  for(size_t j = 0; j < 47; j++)\n",
        "  {\n",
        "    // Fill input\n",
        "    for(size_t i = 0; i < input->bytes / sizeof(float); i++)\n",
        "      input->data.f[i] = read_input();\n",
        "\n",
        "    // Does nothing for non-streaming model\n",
        "    for(auto& item : streaming_state)\n",
        "      item.stream();\n",
        "\n",
        "    // Run inference\n",
        "    TFLITE_MINIMAL_CHECK(interpreter->Invoke() == kTfLiteOk, \"WTF\");\n",
        "  }\n",
        "\n",
        "  // compensate streaming time delay \n",
        "  for(size_t j = streaming_state.size(); j--;)\n",
        "  {\n",
        "    for(auto& item : streaming_state)\n",
        "      item.stream();\n",
        "   \n",
        "    TFLITE_MINIMAL_CHECK(interpreter->Invoke() == kTfLiteOk, \"WTF\");\n",
        "  }\n",
        "\n",
        "  // Result\n",
        "  print_tensor(output);\n",
        "\n",
        "  if(--loop) goto loop;\n",
        " \n",
        "  TFLITE_MINIMAL_CHECK(getchar() == EOF, \"WTF\");\n",
        "}\n",
        "\n",
        "//-------------------------------------------------------------------//\n",
        "\n",
        "int main(int argc, char* argv[]) {\n",
        "\n",
        "  tflite::MicroErrorReporter micro_error_reporter;\n",
        "  error_reporter = &micro_error_reporter;\n",
        "\n",
        "  TFLITE_MINIMAL_CHECK(argc == 2 || argc == 3, \"guess <tflite model> [loop=1]\");\n",
        "\n",
        "  const size_t loop = argc == 2 ? 1 : atol(argv[2]);\n",
        "\n",
        "  // Load model\n",
        "  std::ifstream ifs(argv[1], std::ifstream::binary);\n",
        "  if (ifs) {\n",
        "    ifs.seekg (0, ifs.end);\n",
        "    int length = ifs.tellg();\n",
        "    ifs.seekg (0, ifs.beg);\n",
        "\n",
        "    buffer = new char[length];\n",
        "    TFLITE_MINIMAL_CHECK(buffer, \"can't allocate buffer\");\n",
        "\n",
        "    ifs.read(buffer, length);\n",
        "\n",
        "    TFLITE_MINIMAL_CHECK(ifs, \"only %d could be read\", ifs.gcount());\n",
        "\n",
        "    ifs.close();\n",
        "  }\n",
        "\n",
        "  guess(loop);\n",
        "\n",
        "  delete[] buffer;\n",
        "\n",
        "  return 0;\n",
        "}"
      ],
      "execution_count": 25,
      "outputs": [
        {
          "output_type": "stream",
          "text": [
            "Writing guess.cc\n"
          ],
          "name": "stdout"
        }
      ]
    },
    {
      "cell_type": "code",
      "metadata": {
        "id": "DdwPfLF_34dN",
        "colab": {
          "base_uri": "https://localhost:8080/"
        },
        "outputId": "8da6fc0f-238e-44c4-fe9b-3285cd713c47"
      },
      "source": [
        "%%file Makefile\n",
        "RM = rm -f\n",
        "\n",
        "SRCS := \\\n",
        "tensorflow/lite/micro/simple_memory_allocator.cc \\\n",
        "tensorflow/lite/micro/all_ops_resolver.cc \\\n",
        "tensorflow/lite/micro/memory_helpers.cc \\\n",
        "tensorflow/lite/micro/recording_micro_allocator.cc \\\n",
        "tensorflow/lite/micro/micro_error_reporter.cc \\\n",
        "tensorflow/lite/micro/micro_time.cc \\\n",
        "tensorflow/lite/micro/recording_simple_memory_allocator.cc \\\n",
        "tensorflow/lite/micro/micro_string.cc \\\n",
        "tensorflow/lite/micro/micro_profiler.cc \\\n",
        "tensorflow/lite/micro/micro_utils.cc \\\n",
        "tensorflow/lite/micro/micro_optional_debug_tools.cc \\\n",
        "tensorflow/lite/micro/debug_log.cc \\\n",
        "tensorflow/lite/micro/test_helpers.cc \\\n",
        "tensorflow/lite/micro/micro_interpreter.cc \\\n",
        "tensorflow/lite/micro/micro_allocator.cc \\\n",
        "tensorflow/lite/micro/benchmarks/keyword_scrambled_model_data.cc \\\n",
        "tensorflow/lite/micro/kernels/depthwise_conv.cc \\\n",
        "tensorflow/lite/micro/kernels/split.cc \\\n",
        "tensorflow/lite/micro/kernels/conv.cc \\\n",
        "tensorflow/lite/micro/kernels/strided_slice.cc \\\n",
        "tensorflow/lite/micro/kernels/concatenation.cc \\\n",
        "tensorflow/lite/micro/kernels/reshape.cc \\\n",
        "tensorflow/lite/micro/kernels/dequantize.cc \\\n",
        "tensorflow/lite/micro/kernels/prelu.cc \\\n",
        "tensorflow/lite/micro/kernels/pad.cc \\\n",
        "tensorflow/lite/micro/kernels/l2norm.cc \\\n",
        "tensorflow/lite/micro/kernels/tanh.cc \\\n",
        "tensorflow/lite/micro/kernels/resize_nearest_neighbor.cc \\\n",
        "tensorflow/lite/micro/kernels/pack.cc \\\n",
        "tensorflow/lite/micro/kernels/activations.cc \\\n",
        "tensorflow/lite/micro/kernels/ceil.cc \\\n",
        "tensorflow/lite/micro/kernels/arg_min_max.cc \\\n",
        "tensorflow/lite/micro/kernels/reduce.cc \\\n",
        "tensorflow/lite/micro/kernels/fully_connected.cc \\\n",
        "tensorflow/lite/micro/kernels/add.cc \\\n",
        "tensorflow/lite/micro/kernels/floor.cc \\\n",
        "tensorflow/lite/micro/kernels/circular_buffer.cc \\\n",
        "tensorflow/lite/micro/kernels/softmax.cc \\\n",
        "tensorflow/lite/micro/kernels/ethosu.cc \\\n",
        "tensorflow/lite/micro/kernels/sub.cc \\\n",
        "tensorflow/lite/micro/kernels/unpack.cc \\\n",
        "tensorflow/lite/micro/kernels/round.cc \\\n",
        "tensorflow/lite/micro/kernels/neg.cc \\\n",
        "tensorflow/lite/micro/kernels/quantize.cc \\\n",
        "tensorflow/lite/micro/kernels/elementwise.cc \\\n",
        "tensorflow/lite/micro/kernels/logistic.cc \\\n",
        "tensorflow/lite/micro/kernels/svdf.cc \\\n",
        "tensorflow/lite/micro/kernels/maximum_minimum.cc \\\n",
        "tensorflow/lite/micro/kernels/pooling.cc \\\n",
        "tensorflow/lite/micro/kernels/logical.cc \\\n",
        "tensorflow/lite/micro/kernels/mul.cc \\\n",
        "tensorflow/lite/micro/kernels/comparisons.cc \\\n",
        "tensorflow/lite/micro/memory_planner/linear_memory_planner.cc \\\n",
        "tensorflow/lite/micro/memory_planner/greedy_memory_planner.cc \\\n",
        "tensorflow/lite/micro/testing/test_conv_model.cc \\\n",
        "tensorflow/lite/c/common.c \\\n",
        "tensorflow/lite/core/api/error_reporter.cc \\\n",
        "tensorflow/lite/core/api/flatbuffer_conversions.cc \\\n",
        "tensorflow/lite/core/api/op_resolver.cc \\\n",
        "tensorflow/lite/core/api/tensor_utils.cc \\\n",
        "tensorflow/lite/kernels/internal/quantization_util.cc \\\n",
        "tensorflow/lite/kernels/kernel_util.cc \\\n",
        "tensorflow/lite/micro/testing/test_utils.cc \\\n",
        "guess.cc\n",
        "\n",
        "OBJS := \\\n",
        "$(patsubst %.cc,%.o,$(patsubst %.c,%.o,$(SRCS)))\n",
        "\n",
        "CXXFLAGS += -std=c++11 -DTF_LITE_STATIC_MEMORY -O3 -DTF_LITE_DISABLE_X86_NEON \\\n",
        "            -I. -I./third_party/gemmlowp -I./third_party/flatbuffers/include -I./third_party/ruy\n",
        "CCFLAGS +=  -std=c11 -DTF_LITE_STATIC_MEMORY -O3 -DTF_LITE_DISABLE_X86_NEON \\\n",
        "            -I. -I./third_party/gemmlowp -I./third_party/flatbuffers/include -I./third_party/ruy\n",
        "\n",
        "LDFLAGS +=  -lm\n",
        "\n",
        "%.o: %.cc\n",
        "\t$(CXX) $(CXXFLAGS) $(INCLUDES) -c $< -o $@\n",
        "\n",
        "%.o: %.c\n",
        "\t$(CC) $(CCFLAGS) $(INCLUDES) -c $< -o $@\n",
        "\n",
        "guess : $(OBJS)\n",
        "\t$(CXX) $(CXXFLAGS) -o $@ $(OBJS) $(LDFLAGS)\n",
        "\n",
        "all: guess\n",
        "\n",
        "clean:\n",
        "\t-$(RM) $(OBJS)\n",
        "\t-$(RM) guess"
      ],
      "execution_count": 26,
      "outputs": [
        {
          "output_type": "stream",
          "text": [
            "Writing Makefile\n"
          ],
          "name": "stdout"
        }
      ]
    },
    {
      "cell_type": "code",
      "metadata": {
        "id": "mIx55wCj7WBr",
        "colab": {
          "base_uri": "https://localhost:8080/"
        },
        "outputId": "6b306e26-81d6-409b-ce68-7b5175a636b6"
      },
      "source": [
        "!make"
      ],
      "execution_count": 27,
      "outputs": [
        {
          "output_type": "stream",
          "text": [
            "g++ -std=c++11 -DTF_LITE_STATIC_MEMORY -O3 -DTF_LITE_DISABLE_X86_NEON -I. -I./third_party/gemmlowp -I./third_party/flatbuffers/include -I./third_party/ruy  -c tensorflow/lite/micro/simple_memory_allocator.cc -o tensorflow/lite/micro/simple_memory_allocator.o\n",
            "g++ -std=c++11 -DTF_LITE_STATIC_MEMORY -O3 -DTF_LITE_DISABLE_X86_NEON -I. -I./third_party/gemmlowp -I./third_party/flatbuffers/include -I./third_party/ruy  -c tensorflow/lite/micro/all_ops_resolver.cc -o tensorflow/lite/micro/all_ops_resolver.o\n",
            "g++ -std=c++11 -DTF_LITE_STATIC_MEMORY -O3 -DTF_LITE_DISABLE_X86_NEON -I. -I./third_party/gemmlowp -I./third_party/flatbuffers/include -I./third_party/ruy  -c tensorflow/lite/micro/memory_helpers.cc -o tensorflow/lite/micro/memory_helpers.o\n",
            "g++ -std=c++11 -DTF_LITE_STATIC_MEMORY -O3 -DTF_LITE_DISABLE_X86_NEON -I. -I./third_party/gemmlowp -I./third_party/flatbuffers/include -I./third_party/ruy  -c tensorflow/lite/micro/recording_micro_allocator.cc -o tensorflow/lite/micro/recording_micro_allocator.o\n",
            "g++ -std=c++11 -DTF_LITE_STATIC_MEMORY -O3 -DTF_LITE_DISABLE_X86_NEON -I. -I./third_party/gemmlowp -I./third_party/flatbuffers/include -I./third_party/ruy  -c tensorflow/lite/micro/micro_error_reporter.cc -o tensorflow/lite/micro/micro_error_reporter.o\n",
            "g++ -std=c++11 -DTF_LITE_STATIC_MEMORY -O3 -DTF_LITE_DISABLE_X86_NEON -I. -I./third_party/gemmlowp -I./third_party/flatbuffers/include -I./third_party/ruy  -c tensorflow/lite/micro/micro_time.cc -o tensorflow/lite/micro/micro_time.o\n",
            "g++ -std=c++11 -DTF_LITE_STATIC_MEMORY -O3 -DTF_LITE_DISABLE_X86_NEON -I. -I./third_party/gemmlowp -I./third_party/flatbuffers/include -I./third_party/ruy  -c tensorflow/lite/micro/recording_simple_memory_allocator.cc -o tensorflow/lite/micro/recording_simple_memory_allocator.o\n",
            "g++ -std=c++11 -DTF_LITE_STATIC_MEMORY -O3 -DTF_LITE_DISABLE_X86_NEON -I. -I./third_party/gemmlowp -I./third_party/flatbuffers/include -I./third_party/ruy  -c tensorflow/lite/micro/micro_string.cc -o tensorflow/lite/micro/micro_string.o\n",
            "g++ -std=c++11 -DTF_LITE_STATIC_MEMORY -O3 -DTF_LITE_DISABLE_X86_NEON -I. -I./third_party/gemmlowp -I./third_party/flatbuffers/include -I./third_party/ruy  -c tensorflow/lite/micro/micro_profiler.cc -o tensorflow/lite/micro/micro_profiler.o\n",
            "g++ -std=c++11 -DTF_LITE_STATIC_MEMORY -O3 -DTF_LITE_DISABLE_X86_NEON -I. -I./third_party/gemmlowp -I./third_party/flatbuffers/include -I./third_party/ruy  -c tensorflow/lite/micro/micro_utils.cc -o tensorflow/lite/micro/micro_utils.o\n",
            "g++ -std=c++11 -DTF_LITE_STATIC_MEMORY -O3 -DTF_LITE_DISABLE_X86_NEON -I. -I./third_party/gemmlowp -I./third_party/flatbuffers/include -I./third_party/ruy  -c tensorflow/lite/micro/micro_optional_debug_tools.cc -o tensorflow/lite/micro/micro_optional_debug_tools.o\n",
            "g++ -std=c++11 -DTF_LITE_STATIC_MEMORY -O3 -DTF_LITE_DISABLE_X86_NEON -I. -I./third_party/gemmlowp -I./third_party/flatbuffers/include -I./third_party/ruy  -c tensorflow/lite/micro/debug_log.cc -o tensorflow/lite/micro/debug_log.o\n",
            "g++ -std=c++11 -DTF_LITE_STATIC_MEMORY -O3 -DTF_LITE_DISABLE_X86_NEON -I. -I./third_party/gemmlowp -I./third_party/flatbuffers/include -I./third_party/ruy  -c tensorflow/lite/micro/test_helpers.cc -o tensorflow/lite/micro/test_helpers.o\n",
            "g++ -std=c++11 -DTF_LITE_STATIC_MEMORY -O3 -DTF_LITE_DISABLE_X86_NEON -I. -I./third_party/gemmlowp -I./third_party/flatbuffers/include -I./third_party/ruy  -c tensorflow/lite/micro/micro_interpreter.cc -o tensorflow/lite/micro/micro_interpreter.o\n",
            "g++ -std=c++11 -DTF_LITE_STATIC_MEMORY -O3 -DTF_LITE_DISABLE_X86_NEON -I. -I./third_party/gemmlowp -I./third_party/flatbuffers/include -I./third_party/ruy  -c tensorflow/lite/micro/micro_allocator.cc -o tensorflow/lite/micro/micro_allocator.o\n",
            "g++ -std=c++11 -DTF_LITE_STATIC_MEMORY -O3 -DTF_LITE_DISABLE_X86_NEON -I. -I./third_party/gemmlowp -I./third_party/flatbuffers/include -I./third_party/ruy  -c tensorflow/lite/micro/benchmarks/keyword_scrambled_model_data.cc -o tensorflow/lite/micro/benchmarks/keyword_scrambled_model_data.o\n",
            "g++ -std=c++11 -DTF_LITE_STATIC_MEMORY -O3 -DTF_LITE_DISABLE_X86_NEON -I. -I./third_party/gemmlowp -I./third_party/flatbuffers/include -I./third_party/ruy  -c tensorflow/lite/micro/kernels/depthwise_conv.cc -o tensorflow/lite/micro/kernels/depthwise_conv.o\n",
            "g++ -std=c++11 -DTF_LITE_STATIC_MEMORY -O3 -DTF_LITE_DISABLE_X86_NEON -I. -I./third_party/gemmlowp -I./third_party/flatbuffers/include -I./third_party/ruy  -c tensorflow/lite/micro/kernels/split.cc -o tensorflow/lite/micro/kernels/split.o\n",
            "g++ -std=c++11 -DTF_LITE_STATIC_MEMORY -O3 -DTF_LITE_DISABLE_X86_NEON -I. -I./third_party/gemmlowp -I./third_party/flatbuffers/include -I./third_party/ruy  -c tensorflow/lite/micro/kernels/conv.cc -o tensorflow/lite/micro/kernels/conv.o\n",
            "g++ -std=c++11 -DTF_LITE_STATIC_MEMORY -O3 -DTF_LITE_DISABLE_X86_NEON -I. -I./third_party/gemmlowp -I./third_party/flatbuffers/include -I./third_party/ruy  -c tensorflow/lite/micro/kernels/strided_slice.cc -o tensorflow/lite/micro/kernels/strided_slice.o\n",
            "g++ -std=c++11 -DTF_LITE_STATIC_MEMORY -O3 -DTF_LITE_DISABLE_X86_NEON -I. -I./third_party/gemmlowp -I./third_party/flatbuffers/include -I./third_party/ruy  -c tensorflow/lite/micro/kernels/concatenation.cc -o tensorflow/lite/micro/kernels/concatenation.o\n",
            "g++ -std=c++11 -DTF_LITE_STATIC_MEMORY -O3 -DTF_LITE_DISABLE_X86_NEON -I. -I./third_party/gemmlowp -I./third_party/flatbuffers/include -I./third_party/ruy  -c tensorflow/lite/micro/kernels/reshape.cc -o tensorflow/lite/micro/kernels/reshape.o\n",
            "g++ -std=c++11 -DTF_LITE_STATIC_MEMORY -O3 -DTF_LITE_DISABLE_X86_NEON -I. -I./third_party/gemmlowp -I./third_party/flatbuffers/include -I./third_party/ruy  -c tensorflow/lite/micro/kernels/dequantize.cc -o tensorflow/lite/micro/kernels/dequantize.o\n",
            "g++ -std=c++11 -DTF_LITE_STATIC_MEMORY -O3 -DTF_LITE_DISABLE_X86_NEON -I. -I./third_party/gemmlowp -I./third_party/flatbuffers/include -I./third_party/ruy  -c tensorflow/lite/micro/kernels/prelu.cc -o tensorflow/lite/micro/kernels/prelu.o\n",
            "g++ -std=c++11 -DTF_LITE_STATIC_MEMORY -O3 -DTF_LITE_DISABLE_X86_NEON -I. -I./third_party/gemmlowp -I./third_party/flatbuffers/include -I./third_party/ruy  -c tensorflow/lite/micro/kernels/pad.cc -o tensorflow/lite/micro/kernels/pad.o\n",
            "g++ -std=c++11 -DTF_LITE_STATIC_MEMORY -O3 -DTF_LITE_DISABLE_X86_NEON -I. -I./third_party/gemmlowp -I./third_party/flatbuffers/include -I./third_party/ruy  -c tensorflow/lite/micro/kernels/l2norm.cc -o tensorflow/lite/micro/kernels/l2norm.o\n",
            "g++ -std=c++11 -DTF_LITE_STATIC_MEMORY -O3 -DTF_LITE_DISABLE_X86_NEON -I. -I./third_party/gemmlowp -I./third_party/flatbuffers/include -I./third_party/ruy  -c tensorflow/lite/micro/kernels/tanh.cc -o tensorflow/lite/micro/kernels/tanh.o\n",
            "g++ -std=c++11 -DTF_LITE_STATIC_MEMORY -O3 -DTF_LITE_DISABLE_X86_NEON -I. -I./third_party/gemmlowp -I./third_party/flatbuffers/include -I./third_party/ruy  -c tensorflow/lite/micro/kernels/resize_nearest_neighbor.cc -o tensorflow/lite/micro/kernels/resize_nearest_neighbor.o\n",
            "g++ -std=c++11 -DTF_LITE_STATIC_MEMORY -O3 -DTF_LITE_DISABLE_X86_NEON -I. -I./third_party/gemmlowp -I./third_party/flatbuffers/include -I./third_party/ruy  -c tensorflow/lite/micro/kernels/pack.cc -o tensorflow/lite/micro/kernels/pack.o\n",
            "g++ -std=c++11 -DTF_LITE_STATIC_MEMORY -O3 -DTF_LITE_DISABLE_X86_NEON -I. -I./third_party/gemmlowp -I./third_party/flatbuffers/include -I./third_party/ruy  -c tensorflow/lite/micro/kernels/activations.cc -o tensorflow/lite/micro/kernels/activations.o\n",
            "g++ -std=c++11 -DTF_LITE_STATIC_MEMORY -O3 -DTF_LITE_DISABLE_X86_NEON -I. -I./third_party/gemmlowp -I./third_party/flatbuffers/include -I./third_party/ruy  -c tensorflow/lite/micro/kernels/ceil.cc -o tensorflow/lite/micro/kernels/ceil.o\n",
            "g++ -std=c++11 -DTF_LITE_STATIC_MEMORY -O3 -DTF_LITE_DISABLE_X86_NEON -I. -I./third_party/gemmlowp -I./third_party/flatbuffers/include -I./third_party/ruy  -c tensorflow/lite/micro/kernels/arg_min_max.cc -o tensorflow/lite/micro/kernels/arg_min_max.o\n",
            "g++ -std=c++11 -DTF_LITE_STATIC_MEMORY -O3 -DTF_LITE_DISABLE_X86_NEON -I. -I./third_party/gemmlowp -I./third_party/flatbuffers/include -I./third_party/ruy  -c tensorflow/lite/micro/kernels/reduce.cc -o tensorflow/lite/micro/kernels/reduce.o\n",
            "g++ -std=c++11 -DTF_LITE_STATIC_MEMORY -O3 -DTF_LITE_DISABLE_X86_NEON -I. -I./third_party/gemmlowp -I./third_party/flatbuffers/include -I./third_party/ruy  -c tensorflow/lite/micro/kernels/fully_connected.cc -o tensorflow/lite/micro/kernels/fully_connected.o\n",
            "g++ -std=c++11 -DTF_LITE_STATIC_MEMORY -O3 -DTF_LITE_DISABLE_X86_NEON -I. -I./third_party/gemmlowp -I./third_party/flatbuffers/include -I./third_party/ruy  -c tensorflow/lite/micro/kernels/add.cc -o tensorflow/lite/micro/kernels/add.o\n",
            "g++ -std=c++11 -DTF_LITE_STATIC_MEMORY -O3 -DTF_LITE_DISABLE_X86_NEON -I. -I./third_party/gemmlowp -I./third_party/flatbuffers/include -I./third_party/ruy  -c tensorflow/lite/micro/kernels/floor.cc -o tensorflow/lite/micro/kernels/floor.o\n",
            "g++ -std=c++11 -DTF_LITE_STATIC_MEMORY -O3 -DTF_LITE_DISABLE_X86_NEON -I. -I./third_party/gemmlowp -I./third_party/flatbuffers/include -I./third_party/ruy  -c tensorflow/lite/micro/kernels/circular_buffer.cc -o tensorflow/lite/micro/kernels/circular_buffer.o\n",
            "g++ -std=c++11 -DTF_LITE_STATIC_MEMORY -O3 -DTF_LITE_DISABLE_X86_NEON -I. -I./third_party/gemmlowp -I./third_party/flatbuffers/include -I./third_party/ruy  -c tensorflow/lite/micro/kernels/softmax.cc -o tensorflow/lite/micro/kernels/softmax.o\n",
            "g++ -std=c++11 -DTF_LITE_STATIC_MEMORY -O3 -DTF_LITE_DISABLE_X86_NEON -I. -I./third_party/gemmlowp -I./third_party/flatbuffers/include -I./third_party/ruy  -c tensorflow/lite/micro/kernels/ethosu.cc -o tensorflow/lite/micro/kernels/ethosu.o\n",
            "g++ -std=c++11 -DTF_LITE_STATIC_MEMORY -O3 -DTF_LITE_DISABLE_X86_NEON -I. -I./third_party/gemmlowp -I./third_party/flatbuffers/include -I./third_party/ruy  -c tensorflow/lite/micro/kernels/sub.cc -o tensorflow/lite/micro/kernels/sub.o\n",
            "g++ -std=c++11 -DTF_LITE_STATIC_MEMORY -O3 -DTF_LITE_DISABLE_X86_NEON -I. -I./third_party/gemmlowp -I./third_party/flatbuffers/include -I./third_party/ruy  -c tensorflow/lite/micro/kernels/unpack.cc -o tensorflow/lite/micro/kernels/unpack.o\n",
            "g++ -std=c++11 -DTF_LITE_STATIC_MEMORY -O3 -DTF_LITE_DISABLE_X86_NEON -I. -I./third_party/gemmlowp -I./third_party/flatbuffers/include -I./third_party/ruy  -c tensorflow/lite/micro/kernels/round.cc -o tensorflow/lite/micro/kernels/round.o\n",
            "g++ -std=c++11 -DTF_LITE_STATIC_MEMORY -O3 -DTF_LITE_DISABLE_X86_NEON -I. -I./third_party/gemmlowp -I./third_party/flatbuffers/include -I./third_party/ruy  -c tensorflow/lite/micro/kernels/neg.cc -o tensorflow/lite/micro/kernels/neg.o\n",
            "g++ -std=c++11 -DTF_LITE_STATIC_MEMORY -O3 -DTF_LITE_DISABLE_X86_NEON -I. -I./third_party/gemmlowp -I./third_party/flatbuffers/include -I./third_party/ruy  -c tensorflow/lite/micro/kernels/quantize.cc -o tensorflow/lite/micro/kernels/quantize.o\n",
            "g++ -std=c++11 -DTF_LITE_STATIC_MEMORY -O3 -DTF_LITE_DISABLE_X86_NEON -I. -I./third_party/gemmlowp -I./third_party/flatbuffers/include -I./third_party/ruy  -c tensorflow/lite/micro/kernels/elementwise.cc -o tensorflow/lite/micro/kernels/elementwise.o\n",
            "g++ -std=c++11 -DTF_LITE_STATIC_MEMORY -O3 -DTF_LITE_DISABLE_X86_NEON -I. -I./third_party/gemmlowp -I./third_party/flatbuffers/include -I./third_party/ruy  -c tensorflow/lite/micro/kernels/logistic.cc -o tensorflow/lite/micro/kernels/logistic.o\n",
            "g++ -std=c++11 -DTF_LITE_STATIC_MEMORY -O3 -DTF_LITE_DISABLE_X86_NEON -I. -I./third_party/gemmlowp -I./third_party/flatbuffers/include -I./third_party/ruy  -c tensorflow/lite/micro/kernels/svdf.cc -o tensorflow/lite/micro/kernels/svdf.o\n",
            "g++ -std=c++11 -DTF_LITE_STATIC_MEMORY -O3 -DTF_LITE_DISABLE_X86_NEON -I. -I./third_party/gemmlowp -I./third_party/flatbuffers/include -I./third_party/ruy  -c tensorflow/lite/micro/kernels/maximum_minimum.cc -o tensorflow/lite/micro/kernels/maximum_minimum.o\n",
            "g++ -std=c++11 -DTF_LITE_STATIC_MEMORY -O3 -DTF_LITE_DISABLE_X86_NEON -I. -I./third_party/gemmlowp -I./third_party/flatbuffers/include -I./third_party/ruy  -c tensorflow/lite/micro/kernels/pooling.cc -o tensorflow/lite/micro/kernels/pooling.o\n",
            "g++ -std=c++11 -DTF_LITE_STATIC_MEMORY -O3 -DTF_LITE_DISABLE_X86_NEON -I. -I./third_party/gemmlowp -I./third_party/flatbuffers/include -I./third_party/ruy  -c tensorflow/lite/micro/kernels/logical.cc -o tensorflow/lite/micro/kernels/logical.o\n",
            "g++ -std=c++11 -DTF_LITE_STATIC_MEMORY -O3 -DTF_LITE_DISABLE_X86_NEON -I. -I./third_party/gemmlowp -I./third_party/flatbuffers/include -I./third_party/ruy  -c tensorflow/lite/micro/kernels/mul.cc -o tensorflow/lite/micro/kernels/mul.o\n",
            "g++ -std=c++11 -DTF_LITE_STATIC_MEMORY -O3 -DTF_LITE_DISABLE_X86_NEON -I. -I./third_party/gemmlowp -I./third_party/flatbuffers/include -I./third_party/ruy  -c tensorflow/lite/micro/kernels/comparisons.cc -o tensorflow/lite/micro/kernels/comparisons.o\n",
            "g++ -std=c++11 -DTF_LITE_STATIC_MEMORY -O3 -DTF_LITE_DISABLE_X86_NEON -I. -I./third_party/gemmlowp -I./third_party/flatbuffers/include -I./third_party/ruy  -c tensorflow/lite/micro/memory_planner/linear_memory_planner.cc -o tensorflow/lite/micro/memory_planner/linear_memory_planner.o\n",
            "g++ -std=c++11 -DTF_LITE_STATIC_MEMORY -O3 -DTF_LITE_DISABLE_X86_NEON -I. -I./third_party/gemmlowp -I./third_party/flatbuffers/include -I./third_party/ruy  -c tensorflow/lite/micro/memory_planner/greedy_memory_planner.cc -o tensorflow/lite/micro/memory_planner/greedy_memory_planner.o\n",
            "g++ -std=c++11 -DTF_LITE_STATIC_MEMORY -O3 -DTF_LITE_DISABLE_X86_NEON -I. -I./third_party/gemmlowp -I./third_party/flatbuffers/include -I./third_party/ruy  -c tensorflow/lite/micro/testing/test_conv_model.cc -o tensorflow/lite/micro/testing/test_conv_model.o\n",
            "cc -std=c11 -DTF_LITE_STATIC_MEMORY -O3 -DTF_LITE_DISABLE_X86_NEON -I. -I./third_party/gemmlowp -I./third_party/flatbuffers/include -I./third_party/ruy  -c tensorflow/lite/c/common.c -o tensorflow/lite/c/common.o\n",
            "g++ -std=c++11 -DTF_LITE_STATIC_MEMORY -O3 -DTF_LITE_DISABLE_X86_NEON -I. -I./third_party/gemmlowp -I./third_party/flatbuffers/include -I./third_party/ruy  -c tensorflow/lite/core/api/error_reporter.cc -o tensorflow/lite/core/api/error_reporter.o\n",
            "g++ -std=c++11 -DTF_LITE_STATIC_MEMORY -O3 -DTF_LITE_DISABLE_X86_NEON -I. -I./third_party/gemmlowp -I./third_party/flatbuffers/include -I./third_party/ruy  -c tensorflow/lite/core/api/flatbuffer_conversions.cc -o tensorflow/lite/core/api/flatbuffer_conversions.o\n",
            "g++ -std=c++11 -DTF_LITE_STATIC_MEMORY -O3 -DTF_LITE_DISABLE_X86_NEON -I. -I./third_party/gemmlowp -I./third_party/flatbuffers/include -I./third_party/ruy  -c tensorflow/lite/core/api/op_resolver.cc -o tensorflow/lite/core/api/op_resolver.o\n",
            "g++ -std=c++11 -DTF_LITE_STATIC_MEMORY -O3 -DTF_LITE_DISABLE_X86_NEON -I. -I./third_party/gemmlowp -I./third_party/flatbuffers/include -I./third_party/ruy  -c tensorflow/lite/core/api/tensor_utils.cc -o tensorflow/lite/core/api/tensor_utils.o\n",
            "g++ -std=c++11 -DTF_LITE_STATIC_MEMORY -O3 -DTF_LITE_DISABLE_X86_NEON -I. -I./third_party/gemmlowp -I./third_party/flatbuffers/include -I./third_party/ruy  -c tensorflow/lite/kernels/internal/quantization_util.cc -o tensorflow/lite/kernels/internal/quantization_util.o\n",
            "g++ -std=c++11 -DTF_LITE_STATIC_MEMORY -O3 -DTF_LITE_DISABLE_X86_NEON -I. -I./third_party/gemmlowp -I./third_party/flatbuffers/include -I./third_party/ruy  -c tensorflow/lite/kernels/kernel_util.cc -o tensorflow/lite/kernels/kernel_util.o\n",
            "g++ -std=c++11 -DTF_LITE_STATIC_MEMORY -O3 -DTF_LITE_DISABLE_X86_NEON -I. -I./third_party/gemmlowp -I./third_party/flatbuffers/include -I./third_party/ruy  -c tensorflow/lite/micro/testing/test_utils.cc -o tensorflow/lite/micro/testing/test_utils.o\n",
            "g++ -std=c++11 -DTF_LITE_STATIC_MEMORY -O3 -DTF_LITE_DISABLE_X86_NEON -I. -I./third_party/gemmlowp -I./third_party/flatbuffers/include -I./third_party/ruy  -c guess.cc -o guess.o\n",
            "g++ -std=c++11 -DTF_LITE_STATIC_MEMORY -O3 -DTF_LITE_DISABLE_X86_NEON -I. -I./third_party/gemmlowp -I./third_party/flatbuffers/include -I./third_party/ruy -o guess tensorflow/lite/micro/simple_memory_allocator.o tensorflow/lite/micro/all_ops_resolver.o tensorflow/lite/micro/memory_helpers.o tensorflow/lite/micro/recording_micro_allocator.o tensorflow/lite/micro/micro_error_reporter.o tensorflow/lite/micro/micro_time.o tensorflow/lite/micro/recording_simple_memory_allocator.o tensorflow/lite/micro/micro_string.o tensorflow/lite/micro/micro_profiler.o tensorflow/lite/micro/micro_utils.o tensorflow/lite/micro/micro_optional_debug_tools.o tensorflow/lite/micro/debug_log.o tensorflow/lite/micro/test_helpers.o tensorflow/lite/micro/micro_interpreter.o tensorflow/lite/micro/micro_allocator.o tensorflow/lite/micro/benchmarks/keyword_scrambled_model_data.o tensorflow/lite/micro/kernels/depthwise_conv.o tensorflow/lite/micro/kernels/split.o tensorflow/lite/micro/kernels/conv.o tensorflow/lite/micro/kernels/strided_slice.o tensorflow/lite/micro/kernels/concatenation.o tensorflow/lite/micro/kernels/reshape.o tensorflow/lite/micro/kernels/dequantize.o tensorflow/lite/micro/kernels/prelu.o tensorflow/lite/micro/kernels/pad.o tensorflow/lite/micro/kernels/l2norm.o tensorflow/lite/micro/kernels/tanh.o tensorflow/lite/micro/kernels/resize_nearest_neighbor.o tensorflow/lite/micro/kernels/pack.o tensorflow/lite/micro/kernels/activations.o tensorflow/lite/micro/kernels/ceil.o tensorflow/lite/micro/kernels/arg_min_max.o tensorflow/lite/micro/kernels/reduce.o tensorflow/lite/micro/kernels/fully_connected.o tensorflow/lite/micro/kernels/add.o tensorflow/lite/micro/kernels/floor.o tensorflow/lite/micro/kernels/circular_buffer.o tensorflow/lite/micro/kernels/softmax.o tensorflow/lite/micro/kernels/ethosu.o tensorflow/lite/micro/kernels/sub.o tensorflow/lite/micro/kernels/unpack.o tensorflow/lite/micro/kernels/round.o tensorflow/lite/micro/kernels/neg.o tensorflow/lite/micro/kernels/quantize.o tensorflow/lite/micro/kernels/elementwise.o tensorflow/lite/micro/kernels/logistic.o tensorflow/lite/micro/kernels/svdf.o tensorflow/lite/micro/kernels/maximum_minimum.o tensorflow/lite/micro/kernels/pooling.o tensorflow/lite/micro/kernels/logical.o tensorflow/lite/micro/kernels/mul.o tensorflow/lite/micro/kernels/comparisons.o tensorflow/lite/micro/memory_planner/linear_memory_planner.o tensorflow/lite/micro/memory_planner/greedy_memory_planner.o tensorflow/lite/micro/testing/test_conv_model.o tensorflow/lite/c/common.o tensorflow/lite/core/api/error_reporter.o tensorflow/lite/core/api/flatbuffer_conversions.o tensorflow/lite/core/api/op_resolver.o tensorflow/lite/core/api/tensor_utils.o tensorflow/lite/kernels/internal/quantization_util.o tensorflow/lite/kernels/kernel_util.o tensorflow/lite/micro/testing/test_utils.o guess.o -lm\n"
          ],
          "name": "stdout"
        }
      ]
    },
    {
      "cell_type": "code",
      "metadata": {
        "id": "bAVawGHTTPU0"
      },
      "source": [
        "x  = x_valid[:1]\n",
        "y1 = model.predict(x)[0]\n",
        "y1 = ' '.join('{:.6f}'.format(i) for i in y1)\n",
        "x  = ' '.join(x.flatten().astype(np.str))\n",
        "y2 = !echo -n \"$x\" | ./guess \"dcnn.tflite\"\n",
        "assert y1 == y2[0], y2"
      ],
      "execution_count": 28,
      "outputs": []
    },
    {
      "cell_type": "code",
      "metadata": {
        "id": "T32jbdCVNwwW"
      },
      "source": [
        "def test_micro_model():\n",
        "\n",
        "  x = np.concatenate((x_valid, x_test), axis=0)\n",
        "  y = np.concatenate((y_valid, y_test), axis=0)\n",
        "\n",
        "  pred = model.predict(x).argmax(axis=-1)\n",
        "  print(np.sum(pred != y), len(pred))\n",
        "\n",
        "  with open(\"valid_test_x.txt\", \"w\") as txt:\n",
        "    for i in x:\n",
        "      txt.write('\\n' + ' '.join(i.flatten().astype(np.str)))\n",
        "\n",
        "  !./guess 'dcnn.tflite' '7141' < 'valid_test_x.txt' > 'valid_test_y.txt'\n",
        "  pred = np.loadtxt(\"valid_test_y.txt\").argmax(axis=-1)\n",
        "  assert(len(pred) == 7141)\n",
        "\n",
        "  print(np.sum(pred != y), len(pred))\n",
        "\n",
        "  true = y.astype(np.int)\n",
        "  K = len(np.unique(true))\n",
        "  assert(K == 12)\n",
        "  matrix = np.zeros((K, K), dtype=np.int)\n",
        "\n",
        "  for i in range(len(true)):\n",
        "    matrix[true[i]][pred[i]] += 1\n",
        "\n",
        "  for r in matrix:\n",
        "    l = np.sum(r)\n",
        "    for i in r:\n",
        "      print('%.2f' % (i / l), end = ' ')\n",
        "    print(\"|\", l)\n",
        "\n",
        "  print()"
      ],
      "execution_count": 29,
      "outputs": []
    },
    {
      "cell_type": "code",
      "metadata": {
        "id": "o5nCro_9f574",
        "colab": {
          "base_uri": "https://localhost:8080/"
        },
        "outputId": "184549f3-32e7-45ea-ae0a-768c528af064"
      },
      "source": [
        "%%time\n",
        "test_micro_model()"
      ],
      "execution_count": 30,
      "outputs": [
        {
          "output_type": "stream",
          "text": [
            "122 7141\n",
            "122 7141\n",
            "0.99 0.00 0.00 0.00 0.00 0.00 0.00 0.00 0.00 0.00 0.00 0.00 | 603\n",
            "0.00 0.98 0.00 0.00 0.00 0.00 0.00 0.00 0.00 0.01 0.01 0.00 | 575\n",
            "0.00 0.00 0.98 0.00 0.00 0.00 0.00 0.00 0.00 0.00 0.01 0.00 | 564\n",
            "0.00 0.00 0.00 0.98 0.00 0.00 0.01 0.00 0.01 0.00 0.01 0.00 | 548\n",
            "0.00 0.00 0.00 0.00 0.99 0.00 0.00 0.00 0.00 0.00 0.01 0.00 | 605\n",
            "0.00 0.00 0.00 0.00 0.00 0.99 0.00 0.00 0.00 0.00 0.00 0.00 | 607\n",
            "0.00 0.00 0.00 0.00 0.00 0.00 1.00 0.00 0.00 0.00 0.00 0.00 | 462\n",
            "0.00 0.00 0.00 0.00 0.00 0.00 0.00 1.00 0.00 0.00 0.00 0.00 | 574\n",
            "0.00 0.00 0.00 0.00 0.00 0.00 0.00 0.00 0.99 0.00 0.01 0.00 | 547\n",
            "0.00 0.00 0.00 0.00 0.00 0.00 0.00 0.00 0.00 0.99 0.01 0.00 | 596\n",
            "0.00 0.01 0.00 0.01 0.01 0.00 0.00 0.00 0.00 0.01 0.95 0.00 | 730\n",
            "0.00 0.00 0.00 0.00 0.00 0.00 0.00 0.00 0.00 0.00 0.00 0.99 | 730\n",
            "\n",
            "CPU times: user 3.39 s, sys: 162 ms, total: 3.55 s\n",
            "Wall time: 20.6 s\n"
          ],
          "name": "stdout"
        }
      ]
    },
    {
      "cell_type": "code",
      "metadata": {
        "id": "poOpt-k7ftvy"
      },
      "source": [
        "from google.colab import drive\n",
        "drive.mount('/content/gdrive')"
      ],
      "execution_count": null,
      "outputs": []
    },
    {
      "cell_type": "code",
      "metadata": {
        "id": "kqQTwS1xfutn",
        "colab": {
          "base_uri": "https://localhost:8080/"
        },
        "outputId": "9a874ce9-74e5-4548-bc30-62736aca5698"
      },
      "source": [
        "!md5sum 'dcnn.tflite'\n",
        "!mv 'dcnn.tflite' '/content/gdrive/My Drive/0-9.dcnn.streaming.tflite'"
      ],
      "execution_count": 32,
      "outputs": [
        {
          "output_type": "stream",
          "text": [
            "b59c633f88a2350235ccf428b94f45be  dcnn.tflite\n"
          ],
          "name": "stdout"
        }
      ]
    }
  ]
}