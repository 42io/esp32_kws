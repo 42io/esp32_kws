{
  "nbformat": 4,
  "nbformat_minor": 0,
  "metadata": {
    "accelerator": "TPU",
    "colab": {
      "name": "esp32-dcnn13.bin_tpu.ipynb",
      "provenance": [],
      "collapsed_sections": [],
      "machine_shape": "hm"
    },
    "kernelspec": {
      "display_name": "Python 3",
      "name": "python3"
    }
  },
  "cells": [
    {
      "cell_type": "code",
      "source": [
        "KERAS_MODELS_ABSOLUTE_PATH = '/content/gdrive/My Drive/esp32-dcnn13'"
      ],
      "metadata": {
        "id": "V1FddPuJXWR2"
      },
      "execution_count": 1,
      "outputs": []
    },
    {
      "cell_type": "code",
      "source": [
        "from google.colab import drive\n",
        "drive.mount('/content/gdrive')"
      ],
      "metadata": {
        "id": "x8s5x3zcXX73",
        "outputId": "01d66bed-7f84-46bd-c781-e309700f17b8",
        "colab": {
          "base_uri": "https://localhost:8080/"
        }
      },
      "execution_count": 2,
      "outputs": [
        {
          "output_type": "stream",
          "name": "stdout",
          "text": [
            "Drive already mounted at /content/gdrive; to attempt to forcibly remount, call drive.mount(\"/content/gdrive\", force_remount=True).\n"
          ]
        }
      ]
    },
    {
      "cell_type": "code",
      "source": [
        "!pip install -qq tensorflow-datasets -U\n",
        "!tfds --version"
      ],
      "metadata": {
        "id": "y-r6JcXiXaLp",
        "outputId": "1ed2dd9c-12b8-4a91-de1b-74829b5cb7ea",
        "colab": {
          "base_uri": "https://localhost:8080/"
        }
      },
      "execution_count": 3,
      "outputs": [
        {
          "output_type": "stream",
          "name": "stdout",
          "text": [
            "TensorFlow Datasets: 4.4.0\n"
          ]
        }
      ]
    },
    {
      "cell_type": "code",
      "metadata": {
        "colab": {
          "base_uri": "https://localhost:8080/"
        },
        "id": "5T3UOLCpGUmg",
        "outputId": "0008fa32-9e96-4635-a55d-16a185ad9881"
      },
      "source": [
        "import matplotlib.pyplot as plt\n",
        "import numpy as np\n",
        "from tensorflow import keras\n",
        "import tensorflow as tf\n",
        "import tensorflow_datasets as tfds\n",
        "print(tf.__version__)\n",
        "plt.rc('figure', figsize=(13, 4))"
      ],
      "execution_count": 4,
      "outputs": [
        {
          "output_type": "stream",
          "name": "stdout",
          "text": [
            "2.7.0\n"
          ]
        }
      ]
    },
    {
      "cell_type": "code",
      "source": [
        "if not tf.io.gfile.exists(KERAS_MODELS_ABSOLUTE_PATH):\n",
        "  print('You should create', KERAS_MODELS_ABSOLUTE_PATH, 'directory manually')\n",
        "  assert False"
      ],
      "metadata": {
        "id": "3cYKpcKvXm2e"
      },
      "execution_count": 5,
      "outputs": []
    },
    {
      "cell_type": "code",
      "source": [
        "resolver = tf.distribute.cluster_resolver.TPUClusterResolver()\n",
        "tf.config.experimental_connect_to_cluster(resolver)\n",
        "# This is the TPU initialization code that has to be at the beginning.\n",
        "tf.tpu.experimental.initialize_tpu_system(resolver)\n",
        "print(\"All devices: \", tf.config.list_logical_devices('TPU'))\n",
        "strategy = tf.distribute.TPUStrategy(resolver)"
      ],
      "metadata": {
        "id": "nZMStJ0XXrzW",
        "outputId": "050d66b3-7807-422c-f2a8-add34402c688",
        "colab": {
          "base_uri": "https://localhost:8080/"
        }
      },
      "execution_count": 6,
      "outputs": [
        {
          "output_type": "stream",
          "name": "stdout",
          "text": [
            "INFO:tensorflow:Deallocate tpu buffers before initializing tpu system.\n"
          ]
        },
        {
          "output_type": "stream",
          "name": "stderr",
          "text": [
            "INFO:tensorflow:Deallocate tpu buffers before initializing tpu system.\n"
          ]
        },
        {
          "output_type": "stream",
          "name": "stdout",
          "text": [
            "INFO:tensorflow:Initializing the TPU system: grpc://10.42.41.146:8470\n"
          ]
        },
        {
          "output_type": "stream",
          "name": "stderr",
          "text": [
            "INFO:tensorflow:Initializing the TPU system: grpc://10.42.41.146:8470\n"
          ]
        },
        {
          "output_type": "stream",
          "name": "stdout",
          "text": [
            "INFO:tensorflow:Finished initializing TPU system.\n"
          ]
        },
        {
          "output_type": "stream",
          "name": "stderr",
          "text": [
            "INFO:tensorflow:Finished initializing TPU system.\n"
          ]
        },
        {
          "output_type": "stream",
          "name": "stdout",
          "text": [
            "All devices:  [LogicalDevice(name='/job:worker/replica:0/task:0/device:TPU:0', device_type='TPU'), LogicalDevice(name='/job:worker/replica:0/task:0/device:TPU:1', device_type='TPU'), LogicalDevice(name='/job:worker/replica:0/task:0/device:TPU:2', device_type='TPU'), LogicalDevice(name='/job:worker/replica:0/task:0/device:TPU:3', device_type='TPU'), LogicalDevice(name='/job:worker/replica:0/task:0/device:TPU:4', device_type='TPU'), LogicalDevice(name='/job:worker/replica:0/task:0/device:TPU:5', device_type='TPU'), LogicalDevice(name='/job:worker/replica:0/task:0/device:TPU:6', device_type='TPU'), LogicalDevice(name='/job:worker/replica:0/task:0/device:TPU:7', device_type='TPU')]\n",
            "INFO:tensorflow:Found TPU system:\n"
          ]
        },
        {
          "output_type": "stream",
          "name": "stderr",
          "text": [
            "INFO:tensorflow:Found TPU system:\n"
          ]
        },
        {
          "output_type": "stream",
          "name": "stdout",
          "text": [
            "INFO:tensorflow:*** Num TPU Cores: 8\n"
          ]
        },
        {
          "output_type": "stream",
          "name": "stderr",
          "text": [
            "INFO:tensorflow:*** Num TPU Cores: 8\n"
          ]
        },
        {
          "output_type": "stream",
          "name": "stdout",
          "text": [
            "INFO:tensorflow:*** Num TPU Workers: 1\n"
          ]
        },
        {
          "output_type": "stream",
          "name": "stderr",
          "text": [
            "INFO:tensorflow:*** Num TPU Workers: 1\n"
          ]
        },
        {
          "output_type": "stream",
          "name": "stdout",
          "text": [
            "INFO:tensorflow:*** Num TPU Cores Per Worker: 8\n"
          ]
        },
        {
          "output_type": "stream",
          "name": "stderr",
          "text": [
            "INFO:tensorflow:*** Num TPU Cores Per Worker: 8\n"
          ]
        },
        {
          "output_type": "stream",
          "name": "stdout",
          "text": [
            "INFO:tensorflow:*** Available Device: _DeviceAttributes(/job:localhost/replica:0/task:0/device:CPU:0, CPU, 0, 0)\n"
          ]
        },
        {
          "output_type": "stream",
          "name": "stderr",
          "text": [
            "INFO:tensorflow:*** Available Device: _DeviceAttributes(/job:localhost/replica:0/task:0/device:CPU:0, CPU, 0, 0)\n"
          ]
        },
        {
          "output_type": "stream",
          "name": "stdout",
          "text": [
            "INFO:tensorflow:*** Available Device: _DeviceAttributes(/job:worker/replica:0/task:0/device:CPU:0, CPU, 0, 0)\n"
          ]
        },
        {
          "output_type": "stream",
          "name": "stderr",
          "text": [
            "INFO:tensorflow:*** Available Device: _DeviceAttributes(/job:worker/replica:0/task:0/device:CPU:0, CPU, 0, 0)\n"
          ]
        },
        {
          "output_type": "stream",
          "name": "stdout",
          "text": [
            "INFO:tensorflow:*** Available Device: _DeviceAttributes(/job:worker/replica:0/task:0/device:TPU:0, TPU, 0, 0)\n"
          ]
        },
        {
          "output_type": "stream",
          "name": "stderr",
          "text": [
            "INFO:tensorflow:*** Available Device: _DeviceAttributes(/job:worker/replica:0/task:0/device:TPU:0, TPU, 0, 0)\n"
          ]
        },
        {
          "output_type": "stream",
          "name": "stdout",
          "text": [
            "INFO:tensorflow:*** Available Device: _DeviceAttributes(/job:worker/replica:0/task:0/device:TPU:1, TPU, 0, 0)\n"
          ]
        },
        {
          "output_type": "stream",
          "name": "stderr",
          "text": [
            "INFO:tensorflow:*** Available Device: _DeviceAttributes(/job:worker/replica:0/task:0/device:TPU:1, TPU, 0, 0)\n"
          ]
        },
        {
          "output_type": "stream",
          "name": "stdout",
          "text": [
            "INFO:tensorflow:*** Available Device: _DeviceAttributes(/job:worker/replica:0/task:0/device:TPU:2, TPU, 0, 0)\n"
          ]
        },
        {
          "output_type": "stream",
          "name": "stderr",
          "text": [
            "INFO:tensorflow:*** Available Device: _DeviceAttributes(/job:worker/replica:0/task:0/device:TPU:2, TPU, 0, 0)\n"
          ]
        },
        {
          "output_type": "stream",
          "name": "stdout",
          "text": [
            "INFO:tensorflow:*** Available Device: _DeviceAttributes(/job:worker/replica:0/task:0/device:TPU:3, TPU, 0, 0)\n"
          ]
        },
        {
          "output_type": "stream",
          "name": "stderr",
          "text": [
            "INFO:tensorflow:*** Available Device: _DeviceAttributes(/job:worker/replica:0/task:0/device:TPU:3, TPU, 0, 0)\n"
          ]
        },
        {
          "output_type": "stream",
          "name": "stdout",
          "text": [
            "INFO:tensorflow:*** Available Device: _DeviceAttributes(/job:worker/replica:0/task:0/device:TPU:4, TPU, 0, 0)\n"
          ]
        },
        {
          "output_type": "stream",
          "name": "stderr",
          "text": [
            "INFO:tensorflow:*** Available Device: _DeviceAttributes(/job:worker/replica:0/task:0/device:TPU:4, TPU, 0, 0)\n"
          ]
        },
        {
          "output_type": "stream",
          "name": "stdout",
          "text": [
            "INFO:tensorflow:*** Available Device: _DeviceAttributes(/job:worker/replica:0/task:0/device:TPU:5, TPU, 0, 0)\n"
          ]
        },
        {
          "output_type": "stream",
          "name": "stderr",
          "text": [
            "INFO:tensorflow:*** Available Device: _DeviceAttributes(/job:worker/replica:0/task:0/device:TPU:5, TPU, 0, 0)\n"
          ]
        },
        {
          "output_type": "stream",
          "name": "stdout",
          "text": [
            "INFO:tensorflow:*** Available Device: _DeviceAttributes(/job:worker/replica:0/task:0/device:TPU:6, TPU, 0, 0)\n"
          ]
        },
        {
          "output_type": "stream",
          "name": "stderr",
          "text": [
            "INFO:tensorflow:*** Available Device: _DeviceAttributes(/job:worker/replica:0/task:0/device:TPU:6, TPU, 0, 0)\n"
          ]
        },
        {
          "output_type": "stream",
          "name": "stdout",
          "text": [
            "INFO:tensorflow:*** Available Device: _DeviceAttributes(/job:worker/replica:0/task:0/device:TPU:7, TPU, 0, 0)\n"
          ]
        },
        {
          "output_type": "stream",
          "name": "stderr",
          "text": [
            "INFO:tensorflow:*** Available Device: _DeviceAttributes(/job:worker/replica:0/task:0/device:TPU:7, TPU, 0, 0)\n"
          ]
        },
        {
          "output_type": "stream",
          "name": "stdout",
          "text": [
            "INFO:tensorflow:*** Available Device: _DeviceAttributes(/job:worker/replica:0/task:0/device:TPU_SYSTEM:0, TPU_SYSTEM, 0, 0)\n"
          ]
        },
        {
          "output_type": "stream",
          "name": "stderr",
          "text": [
            "INFO:tensorflow:*** Available Device: _DeviceAttributes(/job:worker/replica:0/task:0/device:TPU_SYSTEM:0, TPU_SYSTEM, 0, 0)\n"
          ]
        },
        {
          "output_type": "stream",
          "name": "stdout",
          "text": [
            "INFO:tensorflow:*** Available Device: _DeviceAttributes(/job:worker/replica:0/task:0/device:XLA_CPU:0, XLA_CPU, 0, 0)\n"
          ]
        },
        {
          "output_type": "stream",
          "name": "stderr",
          "text": [
            "INFO:tensorflow:*** Available Device: _DeviceAttributes(/job:worker/replica:0/task:0/device:XLA_CPU:0, XLA_CPU, 0, 0)\n"
          ]
        }
      ]
    },
    {
      "cell_type": "code",
      "metadata": {
        "id": "Xcj5MHTAKYwv"
      },
      "source": [
        "def spectrogram_masking(spectrogram, dim=1, masks_number=2, mask_max_size=5):\n",
        "  \"\"\"Spectrogram masking on frequency or time dimension.\n",
        "  Args:\n",
        "    spectrogram: Input spectrum [batch, time, frequency]\n",
        "    dim: dimension on which masking will be applied: 1 - time; 2 - frequency\n",
        "    masks_number: number of masks\n",
        "    mask_max_size: mask max size\n",
        "  Returns:\n",
        "    masked spectrogram\n",
        "  \"\"\"\n",
        "  if dim not in (1, 2):\n",
        "    raise ValueError('Wrong dim value: %d' % dim)\n",
        "  input_shape = spectrogram.shape\n",
        "  time_size, frequency_size = input_shape[1:3]\n",
        "  dim_size = input_shape[dim]  # size of dimension on which mask is applied\n",
        "  stripe_shape = [1, time_size, frequency_size]\n",
        "  for _ in range(masks_number):\n",
        "    mask_end = tf.random.uniform([], 0, mask_max_size, tf.int32)\n",
        "    mask_start = tf.random.uniform([], 0, dim_size - mask_end, tf.int32)\n",
        "\n",
        "    # initialize stripes with stripe_shape\n",
        "    stripe_ones_left = list(stripe_shape)\n",
        "    stripe_zeros_center = list(stripe_shape)\n",
        "    stripe_ones_right = list(stripe_shape)\n",
        "\n",
        "    # update stripes dim\n",
        "    stripe_ones_left[dim] = dim_size - mask_start - mask_end\n",
        "    stripe_zeros_center[dim] = mask_end\n",
        "    stripe_ones_right[dim] = mask_start\n",
        "\n",
        "    # generate mask\n",
        "    mask = tf.concat((\n",
        "        tf.ones(stripe_ones_left, spectrogram.dtype),\n",
        "        tf.zeros(stripe_zeros_center, spectrogram.dtype),\n",
        "        tf.ones(stripe_ones_right, spectrogram.dtype),\n",
        "    ), dim)\n",
        "    spectrogram = spectrogram * mask\n",
        "  return spectrogram"
      ],
      "execution_count": 7,
      "outputs": []
    },
    {
      "cell_type": "code",
      "metadata": {
        "id": "x5m9wOJwCxxA"
      },
      "source": [
        "def train_model(model, train_dataset, valid_dataset):\n",
        "\n",
        "  with strategy.scope():\n",
        "    tpu_model = keras.Model.from_config(model.get_config())\n",
        "    tpu_model.compile(\n",
        "      loss=keras.losses.BinaryCrossentropy(from_logits=True),\n",
        "      optimizer=keras.optimizers.Adam(),\n",
        "      metrics=['accuracy'])\n",
        "\n",
        "  early_stopping = keras.callbacks.EarlyStopping(\n",
        "        monitor='val_loss',\n",
        "        mode='min',\n",
        "        verbose=1,\n",
        "        patience=100,\n",
        "        restore_best_weights=True)\n",
        "\n",
        "  tpu_num_cores = resolver.get_tpu_system_metadata().num_cores\n",
        "\n",
        "  train_batch = train_dataset.shuffle(train_dataset.cardinality())\n",
        "  train_batch = train_batch.batch(tpu_num_cores * 64, drop_remainder=True)\n",
        "  train_batch = train_batch.map(lambda x, y: (spectrogram_masking(x, 1, 3, 3), y))\n",
        "  train_batch = train_batch.map(lambda x, y: (spectrogram_masking(x, 2, 2, 2), y))\n",
        "  train_batch = train_batch.prefetch(tf.data.AUTOTUNE)\n",
        "\n",
        "  valid_batch = valid_dataset.batch(8, drop_remainder=True)\n",
        "  valid_batch = valid_batch.prefetch(tf.data.AUTOTUNE)\n",
        "\n",
        "  # plt.imshow(list(train_batch.take(1))[0][0][0].numpy().T)\n",
        "  # plt.show()\n",
        "\n",
        "  history = tpu_model.fit(train_batch,\n",
        "                          validation_data=valid_batch,\n",
        "                          callbacks=[early_stopping],\n",
        "                          verbose=2,\n",
        "                          epochs=1000) # play with google colab time limit\n",
        "\n",
        "  model.set_weights(early_stopping.best_weights)\n",
        "  return history"
      ],
      "execution_count": 8,
      "outputs": []
    },
    {
      "cell_type": "code",
      "metadata": {
        "id": "zbLWMOGgVqhv"
      },
      "source": [
        "# https://arxiv.org/pdf/2005.06720.pdf\n",
        "\n",
        "def streaming_input_output(streaming, t, inputs, otputs, x):\n",
        "  if streaming:\n",
        "    otputs.append(x)\n",
        "    x = keras.Input(shape=[t] + x.shape[2:])\n",
        "    inputs.append(x)\n",
        "  return x\n",
        "\n",
        "def build_model(streaming=False):\n",
        "\n",
        "  # resetting the layer name generation counter\n",
        "  keras.backend.clear_session()\n",
        "\n",
        "  inputs  = []\n",
        "  outputs = []\n",
        "\n",
        "  x_in = keras.Input(shape=[1, 1, 13] if streaming else [47, 13])\n",
        "  x = x_in if streaming else keras.backend.expand_dims(x_in, -2)\n",
        "\n",
        "  x = keras.layers.Conv2D(32, 1, use_bias=False)(x)\n",
        "  x = keras.layers.BatchNormalization()(x)\n",
        "  x = keras.layers.ReLU()(x)\n",
        "  x = keras.layers.SpatialDropout2D(x.shape[-1]/1280.0)(x)\n",
        "\n",
        "  for i in range(4):\n",
        "    x = streaming_input_output(streaming, 2, inputs, outputs, x)\n",
        "    x = keras.layers.SeparableConv2D(x.shape[-1], kernel_size=[2, 1], \n",
        "                                     dilation_rate=[1 if streaming else 2**i, 1], \n",
        "                                     use_bias=False)(x)\n",
        "    x = keras.layers.BatchNormalization()(x)\n",
        "    x = keras.layers.ReLU()(x)\n",
        "    x = keras.layers.SpatialDropout2D(x.shape[-1]/1280.0)(x)\n",
        "\n",
        "  x = streaming_input_output(streaming, 32, inputs, outputs, x)\n",
        "  x = keras.layers.AveragePooling2D([x.shape[1], 1])(x)\n",
        "  x = keras.layers.Flatten()(x)\n",
        "\n",
        "  x = keras.layers.Dense(x.shape[-1] // 2, use_bias=False)(x)\n",
        "  x = keras.layers.BatchNormalization()(x)\n",
        "  x = keras.layers.ReLU()(x)\n",
        "  x = keras.layers.Dropout(x.shape[-1]/1280.0)(x)\n",
        "\n",
        "  x = keras.layers.Dense(1)(x)\n",
        "\n",
        "  model = keras.Model(inputs=[x_in] + inputs, outputs=[x] + outputs)\n",
        "\n",
        "  return model"
      ],
      "execution_count": 9,
      "outputs": []
    },
    {
      "cell_type": "code",
      "metadata": {
        "id": "hP5H5d2z_SpG",
        "colab": {
          "base_uri": "https://localhost:8080/"
        },
        "outputId": "e799676c-6acd-47e4-fb24-ded5d2112514"
      },
      "source": [
        "model = build_model()\n",
        "model.summary()"
      ],
      "execution_count": 10,
      "outputs": [
        {
          "output_type": "stream",
          "name": "stdout",
          "text": [
            "Model: \"model\"\n",
            "_________________________________________________________________\n",
            " Layer (type)                Output Shape              Param #   \n",
            "=================================================================\n",
            " input_1 (InputLayer)        [(None, 47, 13)]          0         \n",
            "                                                                 \n",
            " tf.expand_dims (TFOpLambda)  (None, 47, 1, 13)        0         \n",
            "                                                                 \n",
            " conv2d (Conv2D)             (None, 47, 1, 32)         416       \n",
            "                                                                 \n",
            " batch_normalization (BatchN  (None, 47, 1, 32)        128       \n",
            " ormalization)                                                   \n",
            "                                                                 \n",
            " re_lu (ReLU)                (None, 47, 1, 32)         0         \n",
            "                                                                 \n",
            " spatial_dropout2d (SpatialD  (None, 47, 1, 32)        0         \n",
            " ropout2D)                                                       \n",
            "                                                                 \n",
            " separable_conv2d (Separable  (None, 46, 1, 32)        1088      \n",
            " Conv2D)                                                         \n",
            "                                                                 \n",
            " batch_normalization_1 (Batc  (None, 46, 1, 32)        128       \n",
            " hNormalization)                                                 \n",
            "                                                                 \n",
            " re_lu_1 (ReLU)              (None, 46, 1, 32)         0         \n",
            "                                                                 \n",
            " spatial_dropout2d_1 (Spatia  (None, 46, 1, 32)        0         \n",
            " lDropout2D)                                                     \n",
            "                                                                 \n",
            " separable_conv2d_1 (Separab  (None, 44, 1, 32)        1088      \n",
            " leConv2D)                                                       \n",
            "                                                                 \n",
            " batch_normalization_2 (Batc  (None, 44, 1, 32)        128       \n",
            " hNormalization)                                                 \n",
            "                                                                 \n",
            " re_lu_2 (ReLU)              (None, 44, 1, 32)         0         \n",
            "                                                                 \n",
            " spatial_dropout2d_2 (Spatia  (None, 44, 1, 32)        0         \n",
            " lDropout2D)                                                     \n",
            "                                                                 \n",
            " separable_conv2d_2 (Separab  (None, 40, 1, 32)        1088      \n",
            " leConv2D)                                                       \n",
            "                                                                 \n",
            " batch_normalization_3 (Batc  (None, 40, 1, 32)        128       \n",
            " hNormalization)                                                 \n",
            "                                                                 \n",
            " re_lu_3 (ReLU)              (None, 40, 1, 32)         0         \n",
            "                                                                 \n",
            " spatial_dropout2d_3 (Spatia  (None, 40, 1, 32)        0         \n",
            " lDropout2D)                                                     \n",
            "                                                                 \n",
            " separable_conv2d_3 (Separab  (None, 32, 1, 32)        1088      \n",
            " leConv2D)                                                       \n",
            "                                                                 \n",
            " batch_normalization_4 (Batc  (None, 32, 1, 32)        128       \n",
            " hNormalization)                                                 \n",
            "                                                                 \n",
            " re_lu_4 (ReLU)              (None, 32, 1, 32)         0         \n",
            "                                                                 \n",
            " spatial_dropout2d_4 (Spatia  (None, 32, 1, 32)        0         \n",
            " lDropout2D)                                                     \n",
            "                                                                 \n",
            " average_pooling2d (AverageP  (None, 1, 1, 32)         0         \n",
            " ooling2D)                                                       \n",
            "                                                                 \n",
            " flatten (Flatten)           (None, 32)                0         \n",
            "                                                                 \n",
            " dense (Dense)               (None, 16)                512       \n",
            "                                                                 \n",
            " batch_normalization_5 (Batc  (None, 16)               64        \n",
            " hNormalization)                                                 \n",
            "                                                                 \n",
            " re_lu_5 (ReLU)              (None, 16)                0         \n",
            "                                                                 \n",
            " dropout (Dropout)           (None, 16)                0         \n",
            "                                                                 \n",
            " dense_1 (Dense)             (None, 1)                 17        \n",
            "                                                                 \n",
            "=================================================================\n",
            "Total params: 6,001\n",
            "Trainable params: 5,649\n",
            "Non-trainable params: 352\n",
            "_________________________________________________________________\n"
          ]
        }
      ]
    },
    {
      "cell_type": "code",
      "source": [
        "(train_dataset, test_dataset, valid_dataset), info = tfds.load(\n",
        "    name='my_dataset', split=['train', 'test', 'valid'],\n",
        "    data_dir='gs://tfds-libri-1.appspot.com',\n",
        "    as_supervised=True, try_gcs=True, with_info=True)\n",
        "assert info.homepage == 'https://github.com/42io/dataset/tree/master/openslr_libri'\n",
        "train_dataset.cardinality().numpy()"
      ],
      "metadata": {
        "id": "QVQ2UTHoYuxp",
        "colab": {
          "base_uri": "https://localhost:8080/"
        },
        "outputId": "927e09cb-c8b8-4065-dd59-92dfd2e6dc69"
      },
      "execution_count": 11,
      "outputs": [
        {
          "output_type": "execute_result",
          "data": {
            "text/plain": [
              "1825800"
            ]
          },
          "metadata": {},
          "execution_count": 11
        }
      ]
    },
    {
      "cell_type": "code",
      "source": [
        "train_dataset = train_dataset.map(lambda x, y: (x[1:-1], y))\n",
        "test_dataset  = test_dataset.map(lambda x, y:  (x[1:-1], y))\n",
        "valid_dataset = valid_dataset.map(lambda x, y: (x[1:-1], y))"
      ],
      "metadata": {
        "id": "CEcms5dXZKJk"
      },
      "execution_count": 12,
      "outputs": []
    },
    {
      "cell_type": "code",
      "metadata": {
        "id": "MpFpu5bZeYj4",
        "colab": {
          "base_uri": "https://localhost:8080/"
        },
        "outputId": "8cb6ffcb-8889-44c3-cc45-50f9d8629c83"
      },
      "source": [
        "history = train_model(model, train_dataset, valid_dataset)"
      ],
      "execution_count": 13,
      "outputs": [
        {
          "output_type": "stream",
          "name": "stdout",
          "text": [
            "INFO:tensorflow:Found TPU system:\n"
          ]
        },
        {
          "output_type": "stream",
          "name": "stderr",
          "text": [
            "INFO:tensorflow:Found TPU system:\n"
          ]
        },
        {
          "output_type": "stream",
          "name": "stdout",
          "text": [
            "INFO:tensorflow:*** Num TPU Cores: 8\n"
          ]
        },
        {
          "output_type": "stream",
          "name": "stderr",
          "text": [
            "INFO:tensorflow:*** Num TPU Cores: 8\n"
          ]
        },
        {
          "output_type": "stream",
          "name": "stdout",
          "text": [
            "INFO:tensorflow:*** Num TPU Workers: 1\n"
          ]
        },
        {
          "output_type": "stream",
          "name": "stderr",
          "text": [
            "INFO:tensorflow:*** Num TPU Workers: 1\n"
          ]
        },
        {
          "output_type": "stream",
          "name": "stdout",
          "text": [
            "INFO:tensorflow:*** Num TPU Cores Per Worker: 8\n"
          ]
        },
        {
          "output_type": "stream",
          "name": "stderr",
          "text": [
            "INFO:tensorflow:*** Num TPU Cores Per Worker: 8\n"
          ]
        },
        {
          "output_type": "stream",
          "name": "stdout",
          "text": [
            "INFO:tensorflow:*** Available Device: _DeviceAttributes(/job:localhost/replica:0/task:0/device:CPU:0, CPU, 0, 0)\n"
          ]
        },
        {
          "output_type": "stream",
          "name": "stderr",
          "text": [
            "INFO:tensorflow:*** Available Device: _DeviceAttributes(/job:localhost/replica:0/task:0/device:CPU:0, CPU, 0, 0)\n"
          ]
        },
        {
          "output_type": "stream",
          "name": "stdout",
          "text": [
            "INFO:tensorflow:*** Available Device: _DeviceAttributes(/job:worker/replica:0/task:0/device:CPU:0, CPU, 0, 0)\n"
          ]
        },
        {
          "output_type": "stream",
          "name": "stderr",
          "text": [
            "INFO:tensorflow:*** Available Device: _DeviceAttributes(/job:worker/replica:0/task:0/device:CPU:0, CPU, 0, 0)\n"
          ]
        },
        {
          "output_type": "stream",
          "name": "stdout",
          "text": [
            "INFO:tensorflow:*** Available Device: _DeviceAttributes(/job:worker/replica:0/task:0/device:TPU:0, TPU, 0, 0)\n"
          ]
        },
        {
          "output_type": "stream",
          "name": "stderr",
          "text": [
            "INFO:tensorflow:*** Available Device: _DeviceAttributes(/job:worker/replica:0/task:0/device:TPU:0, TPU, 0, 0)\n"
          ]
        },
        {
          "output_type": "stream",
          "name": "stdout",
          "text": [
            "INFO:tensorflow:*** Available Device: _DeviceAttributes(/job:worker/replica:0/task:0/device:TPU:1, TPU, 0, 0)\n"
          ]
        },
        {
          "output_type": "stream",
          "name": "stderr",
          "text": [
            "INFO:tensorflow:*** Available Device: _DeviceAttributes(/job:worker/replica:0/task:0/device:TPU:1, TPU, 0, 0)\n"
          ]
        },
        {
          "output_type": "stream",
          "name": "stdout",
          "text": [
            "INFO:tensorflow:*** Available Device: _DeviceAttributes(/job:worker/replica:0/task:0/device:TPU:2, TPU, 0, 0)\n"
          ]
        },
        {
          "output_type": "stream",
          "name": "stderr",
          "text": [
            "INFO:tensorflow:*** Available Device: _DeviceAttributes(/job:worker/replica:0/task:0/device:TPU:2, TPU, 0, 0)\n"
          ]
        },
        {
          "output_type": "stream",
          "name": "stdout",
          "text": [
            "INFO:tensorflow:*** Available Device: _DeviceAttributes(/job:worker/replica:0/task:0/device:TPU:3, TPU, 0, 0)\n"
          ]
        },
        {
          "output_type": "stream",
          "name": "stderr",
          "text": [
            "INFO:tensorflow:*** Available Device: _DeviceAttributes(/job:worker/replica:0/task:0/device:TPU:3, TPU, 0, 0)\n"
          ]
        },
        {
          "output_type": "stream",
          "name": "stdout",
          "text": [
            "INFO:tensorflow:*** Available Device: _DeviceAttributes(/job:worker/replica:0/task:0/device:TPU:4, TPU, 0, 0)\n"
          ]
        },
        {
          "output_type": "stream",
          "name": "stderr",
          "text": [
            "INFO:tensorflow:*** Available Device: _DeviceAttributes(/job:worker/replica:0/task:0/device:TPU:4, TPU, 0, 0)\n"
          ]
        },
        {
          "output_type": "stream",
          "name": "stdout",
          "text": [
            "INFO:tensorflow:*** Available Device: _DeviceAttributes(/job:worker/replica:0/task:0/device:TPU:5, TPU, 0, 0)\n"
          ]
        },
        {
          "output_type": "stream",
          "name": "stderr",
          "text": [
            "INFO:tensorflow:*** Available Device: _DeviceAttributes(/job:worker/replica:0/task:0/device:TPU:5, TPU, 0, 0)\n"
          ]
        },
        {
          "output_type": "stream",
          "name": "stdout",
          "text": [
            "INFO:tensorflow:*** Available Device: _DeviceAttributes(/job:worker/replica:0/task:0/device:TPU:6, TPU, 0, 0)\n"
          ]
        },
        {
          "output_type": "stream",
          "name": "stderr",
          "text": [
            "INFO:tensorflow:*** Available Device: _DeviceAttributes(/job:worker/replica:0/task:0/device:TPU:6, TPU, 0, 0)\n"
          ]
        },
        {
          "output_type": "stream",
          "name": "stdout",
          "text": [
            "INFO:tensorflow:*** Available Device: _DeviceAttributes(/job:worker/replica:0/task:0/device:TPU:7, TPU, 0, 0)\n"
          ]
        },
        {
          "output_type": "stream",
          "name": "stderr",
          "text": [
            "INFO:tensorflow:*** Available Device: _DeviceAttributes(/job:worker/replica:0/task:0/device:TPU:7, TPU, 0, 0)\n"
          ]
        },
        {
          "output_type": "stream",
          "name": "stdout",
          "text": [
            "INFO:tensorflow:*** Available Device: _DeviceAttributes(/job:worker/replica:0/task:0/device:TPU_SYSTEM:0, TPU_SYSTEM, 0, 0)\n"
          ]
        },
        {
          "output_type": "stream",
          "name": "stderr",
          "text": [
            "INFO:tensorflow:*** Available Device: _DeviceAttributes(/job:worker/replica:0/task:0/device:TPU_SYSTEM:0, TPU_SYSTEM, 0, 0)\n"
          ]
        },
        {
          "output_type": "stream",
          "name": "stdout",
          "text": [
            "INFO:tensorflow:*** Available Device: _DeviceAttributes(/job:worker/replica:0/task:0/device:XLA_CPU:0, XLA_CPU, 0, 0)\n"
          ]
        },
        {
          "output_type": "stream",
          "name": "stderr",
          "text": [
            "INFO:tensorflow:*** Available Device: _DeviceAttributes(/job:worker/replica:0/task:0/device:XLA_CPU:0, XLA_CPU, 0, 0)\n"
          ]
        },
        {
          "output_type": "stream",
          "name": "stdout",
          "text": [
            "Epoch 1/1000\n",
            "WARNING:tensorflow:From /usr/local/lib/python3.7/dist-packages/keras/engine/training.py:2970: StrategyBase.unwrap (from tensorflow.python.distribute.distribute_lib) is deprecated and will be removed in a future version.\n",
            "Instructions for updating:\n",
            "use `experimental_local_results` instead.\n"
          ]
        },
        {
          "output_type": "stream",
          "name": "stderr",
          "text": [
            "WARNING:tensorflow:From /usr/local/lib/python3.7/dist-packages/keras/engine/training.py:2970: StrategyBase.unwrap (from tensorflow.python.distribute.distribute_lib) is deprecated and will be removed in a future version.\n",
            "Instructions for updating:\n",
            "use `experimental_local_results` instead.\n"
          ]
        },
        {
          "output_type": "stream",
          "name": "stdout",
          "text": [
            "3566/3566 - 70s - loss: 0.1608 - accuracy: 0.9303 - val_loss: 0.0612 - val_accuracy: 0.9791 - 70s/epoch - 20ms/step\n",
            "Epoch 2/1000\n",
            "3566/3566 - 57s - loss: 0.0898 - accuracy: 0.9654 - val_loss: 0.0485 - val_accuracy: 0.9852 - 57s/epoch - 16ms/step\n",
            "Epoch 3/1000\n",
            "3566/3566 - 54s - loss: 0.0805 - accuracy: 0.9694 - val_loss: 0.0394 - val_accuracy: 0.9875 - 54s/epoch - 15ms/step\n",
            "Epoch 4/1000\n",
            "3566/3566 - 54s - loss: 0.0749 - accuracy: 0.9716 - val_loss: 0.0381 - val_accuracy: 0.9881 - 54s/epoch - 15ms/step\n",
            "Epoch 5/1000\n",
            "3566/3566 - 56s - loss: 0.0717 - accuracy: 0.9730 - val_loss: 0.0370 - val_accuracy: 0.9869 - 56s/epoch - 16ms/step\n",
            "Epoch 6/1000\n",
            "3566/3566 - 53s - loss: 0.0692 - accuracy: 0.9741 - val_loss: 0.0390 - val_accuracy: 0.9884 - 53s/epoch - 15ms/step\n",
            "Epoch 7/1000\n",
            "3566/3566 - 61s - loss: 0.0678 - accuracy: 0.9746 - val_loss: 0.0336 - val_accuracy: 0.9898 - 61s/epoch - 17ms/step\n",
            "Epoch 8/1000\n",
            "3566/3566 - 55s - loss: 0.0666 - accuracy: 0.9751 - val_loss: 0.0360 - val_accuracy: 0.9879 - 55s/epoch - 16ms/step\n",
            "Epoch 9/1000\n",
            "3566/3566 - 57s - loss: 0.0655 - accuracy: 0.9756 - val_loss: 0.0319 - val_accuracy: 0.9898 - 57s/epoch - 16ms/step\n",
            "Epoch 10/1000\n",
            "3566/3566 - 58s - loss: 0.0643 - accuracy: 0.9760 - val_loss: 0.0350 - val_accuracy: 0.9875 - 58s/epoch - 16ms/step\n",
            "Epoch 11/1000\n",
            "3566/3566 - 70s - loss: 0.0637 - accuracy: 0.9763 - val_loss: 0.0301 - val_accuracy: 0.9907 - 70s/epoch - 20ms/step\n",
            "Epoch 12/1000\n",
            "3566/3566 - 55s - loss: 0.0623 - accuracy: 0.9767 - val_loss: 0.0362 - val_accuracy: 0.9875 - 55s/epoch - 15ms/step\n",
            "Epoch 13/1000\n",
            "3566/3566 - 58s - loss: 0.0617 - accuracy: 0.9770 - val_loss: 0.0349 - val_accuracy: 0.9886 - 58s/epoch - 16ms/step\n",
            "Epoch 14/1000\n",
            "3566/3566 - 56s - loss: 0.0603 - accuracy: 0.9776 - val_loss: 0.0360 - val_accuracy: 0.9890 - 56s/epoch - 16ms/step\n",
            "Epoch 15/1000\n",
            "3566/3566 - 53s - loss: 0.0604 - accuracy: 0.9777 - val_loss: 0.0322 - val_accuracy: 0.9898 - 53s/epoch - 15ms/step\n",
            "Epoch 16/1000\n",
            "3566/3566 - 56s - loss: 0.0601 - accuracy: 0.9776 - val_loss: 0.0310 - val_accuracy: 0.9903 - 56s/epoch - 16ms/step\n",
            "Epoch 17/1000\n",
            "3566/3566 - 56s - loss: 0.0592 - accuracy: 0.9782 - val_loss: 0.0297 - val_accuracy: 0.9905 - 56s/epoch - 16ms/step\n",
            "Epoch 18/1000\n",
            "3566/3566 - 57s - loss: 0.0593 - accuracy: 0.9781 - val_loss: 0.0324 - val_accuracy: 0.9890 - 57s/epoch - 16ms/step\n",
            "Epoch 19/1000\n",
            "3566/3566 - 56s - loss: 0.0585 - accuracy: 0.9784 - val_loss: 0.0312 - val_accuracy: 0.9896 - 56s/epoch - 16ms/step\n",
            "Epoch 20/1000\n",
            "3566/3566 - 56s - loss: 0.0578 - accuracy: 0.9786 - val_loss: 0.0330 - val_accuracy: 0.9892 - 56s/epoch - 16ms/step\n",
            "Epoch 21/1000\n",
            "3566/3566 - 56s - loss: 0.0579 - accuracy: 0.9786 - val_loss: 0.0279 - val_accuracy: 0.9918 - 56s/epoch - 16ms/step\n",
            "Epoch 22/1000\n",
            "3566/3566 - 58s - loss: 0.0576 - accuracy: 0.9787 - val_loss: 0.0292 - val_accuracy: 0.9909 - 58s/epoch - 16ms/step\n",
            "Epoch 23/1000\n",
            "3566/3566 - 56s - loss: 0.0572 - accuracy: 0.9788 - val_loss: 0.0294 - val_accuracy: 0.9911 - 56s/epoch - 16ms/step\n",
            "Epoch 24/1000\n",
            "3566/3566 - 56s - loss: 0.0575 - accuracy: 0.9786 - val_loss: 0.0301 - val_accuracy: 0.9909 - 56s/epoch - 16ms/step\n",
            "Epoch 25/1000\n",
            "3566/3566 - 66s - loss: 0.0563 - accuracy: 0.9792 - val_loss: 0.0297 - val_accuracy: 0.9894 - 66s/epoch - 18ms/step\n",
            "Epoch 26/1000\n",
            "3566/3566 - 56s - loss: 0.0567 - accuracy: 0.9792 - val_loss: 0.0307 - val_accuracy: 0.9898 - 56s/epoch - 16ms/step\n",
            "Epoch 27/1000\n",
            "3566/3566 - 55s - loss: 0.0559 - accuracy: 0.9793 - val_loss: 0.0279 - val_accuracy: 0.9909 - 55s/epoch - 16ms/step\n",
            "Epoch 28/1000\n",
            "3566/3566 - 54s - loss: 0.0555 - accuracy: 0.9795 - val_loss: 0.0295 - val_accuracy: 0.9898 - 54s/epoch - 15ms/step\n",
            "Epoch 29/1000\n",
            "3566/3566 - 58s - loss: 0.0556 - accuracy: 0.9795 - val_loss: 0.0308 - val_accuracy: 0.9905 - 58s/epoch - 16ms/step\n",
            "Epoch 30/1000\n",
            "3566/3566 - 56s - loss: 0.0552 - accuracy: 0.9796 - val_loss: 0.0327 - val_accuracy: 0.9896 - 56s/epoch - 16ms/step\n",
            "Epoch 31/1000\n",
            "3566/3566 - 58s - loss: 0.0554 - accuracy: 0.9797 - val_loss: 0.0310 - val_accuracy: 0.9909 - 58s/epoch - 16ms/step\n",
            "Epoch 32/1000\n",
            "3566/3566 - 53s - loss: 0.0553 - accuracy: 0.9796 - val_loss: 0.0289 - val_accuracy: 0.9899 - 53s/epoch - 15ms/step\n",
            "Epoch 33/1000\n",
            "3566/3566 - 56s - loss: 0.0550 - accuracy: 0.9797 - val_loss: 0.0278 - val_accuracy: 0.9909 - 56s/epoch - 16ms/step\n",
            "Epoch 34/1000\n",
            "3566/3566 - 57s - loss: 0.0551 - accuracy: 0.9797 - val_loss: 0.0301 - val_accuracy: 0.9907 - 57s/epoch - 16ms/step\n",
            "Epoch 35/1000\n",
            "3566/3566 - 53s - loss: 0.0546 - accuracy: 0.9798 - val_loss: 0.0283 - val_accuracy: 0.9917 - 53s/epoch - 15ms/step\n",
            "Epoch 36/1000\n",
            "3566/3566 - 58s - loss: 0.0538 - accuracy: 0.9802 - val_loss: 0.0274 - val_accuracy: 0.9913 - 58s/epoch - 16ms/step\n",
            "Epoch 37/1000\n",
            "3566/3566 - 58s - loss: 0.0545 - accuracy: 0.9799 - val_loss: 0.0300 - val_accuracy: 0.9909 - 58s/epoch - 16ms/step\n",
            "Epoch 38/1000\n",
            "3566/3566 - 53s - loss: 0.0546 - accuracy: 0.9798 - val_loss: 0.0274 - val_accuracy: 0.9913 - 53s/epoch - 15ms/step\n",
            "Epoch 39/1000\n",
            "3566/3566 - 57s - loss: 0.0539 - accuracy: 0.9802 - val_loss: 0.0285 - val_accuracy: 0.9911 - 57s/epoch - 16ms/step\n",
            "Epoch 40/1000\n",
            "3566/3566 - 57s - loss: 0.0540 - accuracy: 0.9800 - val_loss: 0.0301 - val_accuracy: 0.9903 - 57s/epoch - 16ms/step\n",
            "Epoch 41/1000\n",
            "3566/3566 - 58s - loss: 0.0532 - accuracy: 0.9804 - val_loss: 0.0291 - val_accuracy: 0.9909 - 58s/epoch - 16ms/step\n",
            "Epoch 42/1000\n",
            "3566/3566 - 58s - loss: 0.0533 - accuracy: 0.9804 - val_loss: 0.0302 - val_accuracy: 0.9898 - 58s/epoch - 16ms/step\n",
            "Epoch 43/1000\n",
            "3566/3566 - 56s - loss: 0.0534 - accuracy: 0.9803 - val_loss: 0.0293 - val_accuracy: 0.9917 - 56s/epoch - 16ms/step\n",
            "Epoch 44/1000\n",
            "3566/3566 - 55s - loss: 0.0531 - accuracy: 0.9805 - val_loss: 0.0273 - val_accuracy: 0.9917 - 55s/epoch - 15ms/step\n",
            "Epoch 45/1000\n",
            "3566/3566 - 56s - loss: 0.0532 - accuracy: 0.9805 - val_loss: 0.0297 - val_accuracy: 0.9903 - 56s/epoch - 16ms/step\n",
            "Epoch 46/1000\n",
            "3566/3566 - 57s - loss: 0.0531 - accuracy: 0.9805 - val_loss: 0.0321 - val_accuracy: 0.9894 - 57s/epoch - 16ms/step\n",
            "Epoch 47/1000\n",
            "3566/3566 - 56s - loss: 0.0531 - accuracy: 0.9805 - val_loss: 0.0276 - val_accuracy: 0.9911 - 56s/epoch - 16ms/step\n",
            "Epoch 48/1000\n",
            "3566/3566 - 55s - loss: 0.0531 - accuracy: 0.9805 - val_loss: 0.0299 - val_accuracy: 0.9909 - 55s/epoch - 15ms/step\n",
            "Epoch 49/1000\n",
            "3566/3566 - 56s - loss: 0.0529 - accuracy: 0.9806 - val_loss: 0.0323 - val_accuracy: 0.9903 - 56s/epoch - 16ms/step\n",
            "Epoch 50/1000\n",
            "3566/3566 - 56s - loss: 0.0531 - accuracy: 0.9804 - val_loss: 0.0299 - val_accuracy: 0.9909 - 56s/epoch - 16ms/step\n",
            "Epoch 51/1000\n",
            "3566/3566 - 59s - loss: 0.0527 - accuracy: 0.9805 - val_loss: 0.0293 - val_accuracy: 0.9903 - 59s/epoch - 17ms/step\n",
            "Epoch 52/1000\n",
            "3566/3566 - 56s - loss: 0.0525 - accuracy: 0.9807 - val_loss: 0.0285 - val_accuracy: 0.9917 - 56s/epoch - 16ms/step\n",
            "Epoch 53/1000\n",
            "3566/3566 - 59s - loss: 0.0525 - accuracy: 0.9807 - val_loss: 0.0302 - val_accuracy: 0.9909 - 59s/epoch - 17ms/step\n",
            "Epoch 54/1000\n",
            "3566/3566 - 59s - loss: 0.0526 - accuracy: 0.9807 - val_loss: 0.0273 - val_accuracy: 0.9909 - 59s/epoch - 16ms/step\n",
            "Epoch 55/1000\n",
            "3566/3566 - 57s - loss: 0.0524 - accuracy: 0.9807 - val_loss: 0.0314 - val_accuracy: 0.9905 - 57s/epoch - 16ms/step\n",
            "Epoch 56/1000\n",
            "3566/3566 - 56s - loss: 0.0521 - accuracy: 0.9807 - val_loss: 0.0265 - val_accuracy: 0.9917 - 56s/epoch - 16ms/step\n",
            "Epoch 57/1000\n",
            "3566/3566 - 57s - loss: 0.0522 - accuracy: 0.9808 - val_loss: 0.0283 - val_accuracy: 0.9911 - 57s/epoch - 16ms/step\n",
            "Epoch 58/1000\n",
            "3566/3566 - 59s - loss: 0.0522 - accuracy: 0.9808 - val_loss: 0.0275 - val_accuracy: 0.9917 - 59s/epoch - 16ms/step\n",
            "Epoch 59/1000\n",
            "3566/3566 - 56s - loss: 0.0515 - accuracy: 0.9811 - val_loss: 0.0277 - val_accuracy: 0.9909 - 56s/epoch - 16ms/step\n",
            "Epoch 60/1000\n",
            "3566/3566 - 52s - loss: 0.0519 - accuracy: 0.9809 - val_loss: 0.0262 - val_accuracy: 0.9917 - 52s/epoch - 15ms/step\n",
            "Epoch 61/1000\n",
            "3566/3566 - 57s - loss: 0.0517 - accuracy: 0.9809 - val_loss: 0.0288 - val_accuracy: 0.9909 - 57s/epoch - 16ms/step\n",
            "Epoch 62/1000\n",
            "3566/3566 - 55s - loss: 0.0515 - accuracy: 0.9811 - val_loss: 0.0285 - val_accuracy: 0.9909 - 55s/epoch - 15ms/step\n",
            "Epoch 63/1000\n",
            "3566/3566 - 58s - loss: 0.0522 - accuracy: 0.9808 - val_loss: 0.0285 - val_accuracy: 0.9909 - 58s/epoch - 16ms/step\n",
            "Epoch 64/1000\n",
            "3566/3566 - 55s - loss: 0.0516 - accuracy: 0.9811 - val_loss: 0.0291 - val_accuracy: 0.9905 - 55s/epoch - 15ms/step\n",
            "Epoch 65/1000\n",
            "3566/3566 - 57s - loss: 0.0515 - accuracy: 0.9811 - val_loss: 0.0283 - val_accuracy: 0.9905 - 57s/epoch - 16ms/step\n",
            "Epoch 66/1000\n",
            "3566/3566 - 54s - loss: 0.0516 - accuracy: 0.9811 - val_loss: 0.0267 - val_accuracy: 0.9922 - 54s/epoch - 15ms/step\n",
            "Epoch 67/1000\n",
            "3566/3566 - 55s - loss: 0.0513 - accuracy: 0.9811 - val_loss: 0.0255 - val_accuracy: 0.9917 - 55s/epoch - 15ms/step\n",
            "Epoch 68/1000\n",
            "3566/3566 - 58s - loss: 0.0514 - accuracy: 0.9811 - val_loss: 0.0272 - val_accuracy: 0.9911 - 58s/epoch - 16ms/step\n",
            "Epoch 69/1000\n",
            "3566/3566 - 55s - loss: 0.0516 - accuracy: 0.9812 - val_loss: 0.0327 - val_accuracy: 0.9896 - 55s/epoch - 15ms/step\n",
            "Epoch 70/1000\n",
            "3566/3566 - 58s - loss: 0.0511 - accuracy: 0.9813 - val_loss: 0.0258 - val_accuracy: 0.9907 - 58s/epoch - 16ms/step\n",
            "Epoch 71/1000\n",
            "3566/3566 - 59s - loss: 0.0515 - accuracy: 0.9810 - val_loss: 0.0276 - val_accuracy: 0.9913 - 59s/epoch - 16ms/step\n",
            "Epoch 72/1000\n",
            "3566/3566 - 57s - loss: 0.0514 - accuracy: 0.9812 - val_loss: 0.0297 - val_accuracy: 0.9913 - 57s/epoch - 16ms/step\n",
            "Epoch 73/1000\n",
            "3566/3566 - 56s - loss: 0.0511 - accuracy: 0.9812 - val_loss: 0.0267 - val_accuracy: 0.9918 - 56s/epoch - 16ms/step\n",
            "Epoch 74/1000\n",
            "3566/3566 - 58s - loss: 0.0510 - accuracy: 0.9813 - val_loss: 0.0256 - val_accuracy: 0.9915 - 58s/epoch - 16ms/step\n",
            "Epoch 75/1000\n",
            "3566/3566 - 57s - loss: 0.0509 - accuracy: 0.9814 - val_loss: 0.0276 - val_accuracy: 0.9911 - 57s/epoch - 16ms/step\n",
            "Epoch 76/1000\n",
            "3566/3566 - 55s - loss: 0.0510 - accuracy: 0.9814 - val_loss: 0.0281 - val_accuracy: 0.9915 - 55s/epoch - 16ms/step\n",
            "Epoch 77/1000\n",
            "3566/3566 - 56s - loss: 0.0512 - accuracy: 0.9812 - val_loss: 0.0255 - val_accuracy: 0.9922 - 56s/epoch - 16ms/step\n",
            "Epoch 78/1000\n",
            "3566/3566 - 56s - loss: 0.0507 - accuracy: 0.9814 - val_loss: 0.0276 - val_accuracy: 0.9915 - 56s/epoch - 16ms/step\n",
            "Epoch 79/1000\n",
            "3566/3566 - 58s - loss: 0.0507 - accuracy: 0.9814 - val_loss: 0.0288 - val_accuracy: 0.9915 - 58s/epoch - 16ms/step\n",
            "Epoch 80/1000\n",
            "3566/3566 - 57s - loss: 0.0506 - accuracy: 0.9815 - val_loss: 0.0269 - val_accuracy: 0.9911 - 57s/epoch - 16ms/step\n",
            "Epoch 81/1000\n",
            "3566/3566 - 57s - loss: 0.0507 - accuracy: 0.9814 - val_loss: 0.0285 - val_accuracy: 0.9915 - 57s/epoch - 16ms/step\n",
            "Epoch 82/1000\n",
            "3566/3566 - 56s - loss: 0.0508 - accuracy: 0.9814 - val_loss: 0.0245 - val_accuracy: 0.9928 - 56s/epoch - 16ms/step\n",
            "Epoch 83/1000\n",
            "3566/3566 - 56s - loss: 0.0501 - accuracy: 0.9816 - val_loss: 0.0290 - val_accuracy: 0.9907 - 56s/epoch - 16ms/step\n",
            "Epoch 84/1000\n",
            "3566/3566 - 58s - loss: 0.0504 - accuracy: 0.9815 - val_loss: 0.0267 - val_accuracy: 0.9915 - 58s/epoch - 16ms/step\n",
            "Epoch 85/1000\n",
            "3566/3566 - 58s - loss: 0.0510 - accuracy: 0.9813 - val_loss: 0.0266 - val_accuracy: 0.9915 - 58s/epoch - 16ms/step\n",
            "Epoch 86/1000\n",
            "3566/3566 - 53s - loss: 0.0504 - accuracy: 0.9815 - val_loss: 0.0281 - val_accuracy: 0.9913 - 53s/epoch - 15ms/step\n",
            "Epoch 87/1000\n",
            "3566/3566 - 57s - loss: 0.0500 - accuracy: 0.9816 - val_loss: 0.0309 - val_accuracy: 0.9905 - 57s/epoch - 16ms/step\n",
            "Epoch 88/1000\n",
            "3566/3566 - 60s - loss: 0.0501 - accuracy: 0.9816 - val_loss: 0.0276 - val_accuracy: 0.9915 - 60s/epoch - 17ms/step\n",
            "Epoch 89/1000\n",
            "3566/3566 - 56s - loss: 0.0498 - accuracy: 0.9818 - val_loss: 0.0311 - val_accuracy: 0.9913 - 56s/epoch - 16ms/step\n",
            "Epoch 90/1000\n",
            "3566/3566 - 58s - loss: 0.0503 - accuracy: 0.9815 - val_loss: 0.0249 - val_accuracy: 0.9924 - 58s/epoch - 16ms/step\n",
            "Epoch 91/1000\n",
            "3566/3566 - 55s - loss: 0.0505 - accuracy: 0.9816 - val_loss: 0.0277 - val_accuracy: 0.9917 - 55s/epoch - 15ms/step\n",
            "Epoch 92/1000\n",
            "3566/3566 - 58s - loss: 0.0502 - accuracy: 0.9816 - val_loss: 0.0271 - val_accuracy: 0.9915 - 58s/epoch - 16ms/step\n",
            "Epoch 93/1000\n",
            "3566/3566 - 58s - loss: 0.0498 - accuracy: 0.9817 - val_loss: 0.0286 - val_accuracy: 0.9905 - 58s/epoch - 16ms/step\n",
            "Epoch 94/1000\n",
            "3566/3566 - 56s - loss: 0.0504 - accuracy: 0.9815 - val_loss: 0.0271 - val_accuracy: 0.9915 - 56s/epoch - 16ms/step\n",
            "Epoch 95/1000\n",
            "3566/3566 - 55s - loss: 0.0498 - accuracy: 0.9817 - val_loss: 0.0273 - val_accuracy: 0.9909 - 55s/epoch - 15ms/step\n",
            "Epoch 96/1000\n",
            "3566/3566 - 64s - loss: 0.0501 - accuracy: 0.9816 - val_loss: 0.0279 - val_accuracy: 0.9924 - 64s/epoch - 18ms/step\n",
            "Epoch 97/1000\n",
            "3566/3566 - 56s - loss: 0.0497 - accuracy: 0.9818 - val_loss: 0.0268 - val_accuracy: 0.9915 - 56s/epoch - 16ms/step\n",
            "Epoch 98/1000\n",
            "3566/3566 - 58s - loss: 0.0498 - accuracy: 0.9817 - val_loss: 0.0264 - val_accuracy: 0.9918 - 58s/epoch - 16ms/step\n",
            "Epoch 99/1000\n",
            "3566/3566 - 61s - loss: 0.0500 - accuracy: 0.9816 - val_loss: 0.0255 - val_accuracy: 0.9924 - 61s/epoch - 17ms/step\n",
            "Epoch 100/1000\n",
            "3566/3566 - 56s - loss: 0.0498 - accuracy: 0.9817 - val_loss: 0.0270 - val_accuracy: 0.9922 - 56s/epoch - 16ms/step\n",
            "Epoch 101/1000\n",
            "3566/3566 - 54s - loss: 0.0500 - accuracy: 0.9818 - val_loss: 0.0252 - val_accuracy: 0.9924 - 54s/epoch - 15ms/step\n",
            "Epoch 102/1000\n",
            "3566/3566 - 58s - loss: 0.0498 - accuracy: 0.9818 - val_loss: 0.0251 - val_accuracy: 0.9915 - 58s/epoch - 16ms/step\n",
            "Epoch 103/1000\n",
            "3566/3566 - 56s - loss: 0.0497 - accuracy: 0.9818 - val_loss: 0.0255 - val_accuracy: 0.9928 - 56s/epoch - 16ms/step\n",
            "Epoch 104/1000\n",
            "3566/3566 - 56s - loss: 0.0496 - accuracy: 0.9819 - val_loss: 0.0262 - val_accuracy: 0.9917 - 56s/epoch - 16ms/step\n",
            "Epoch 105/1000\n",
            "3566/3566 - 57s - loss: 0.0489 - accuracy: 0.9820 - val_loss: 0.0246 - val_accuracy: 0.9924 - 57s/epoch - 16ms/step\n",
            "Epoch 106/1000\n",
            "3566/3566 - 60s - loss: 0.0498 - accuracy: 0.9817 - val_loss: 0.0275 - val_accuracy: 0.9917 - 60s/epoch - 17ms/step\n",
            "Epoch 107/1000\n",
            "3566/3566 - 70s - loss: 0.0494 - accuracy: 0.9819 - val_loss: 0.0261 - val_accuracy: 0.9918 - 70s/epoch - 20ms/step\n",
            "Epoch 108/1000\n",
            "3566/3566 - 57s - loss: 0.0499 - accuracy: 0.9818 - val_loss: 0.0262 - val_accuracy: 0.9918 - 57s/epoch - 16ms/step\n",
            "Epoch 109/1000\n",
            "3566/3566 - 57s - loss: 0.0497 - accuracy: 0.9818 - val_loss: 0.0270 - val_accuracy: 0.9918 - 57s/epoch - 16ms/step\n",
            "Epoch 110/1000\n",
            "3566/3566 - 58s - loss: 0.0500 - accuracy: 0.9818 - val_loss: 0.0246 - val_accuracy: 0.9920 - 58s/epoch - 16ms/step\n",
            "Epoch 111/1000\n",
            "3566/3566 - 58s - loss: 0.0493 - accuracy: 0.9820 - val_loss: 0.0274 - val_accuracy: 0.9917 - 58s/epoch - 16ms/step\n",
            "Epoch 112/1000\n",
            "3566/3566 - 53s - loss: 0.0496 - accuracy: 0.9820 - val_loss: 0.0257 - val_accuracy: 0.9924 - 53s/epoch - 15ms/step\n",
            "Epoch 113/1000\n",
            "3566/3566 - 57s - loss: 0.0495 - accuracy: 0.9819 - val_loss: 0.0288 - val_accuracy: 0.9901 - 57s/epoch - 16ms/step\n",
            "Epoch 114/1000\n",
            "3566/3566 - 53s - loss: 0.0501 - accuracy: 0.9817 - val_loss: 0.0270 - val_accuracy: 0.9928 - 53s/epoch - 15ms/step\n",
            "Epoch 115/1000\n",
            "3566/3566 - 52s - loss: 0.0496 - accuracy: 0.9817 - val_loss: 0.0260 - val_accuracy: 0.9924 - 52s/epoch - 15ms/step\n",
            "Epoch 116/1000\n",
            "3566/3566 - 58s - loss: 0.0495 - accuracy: 0.9818 - val_loss: 0.0255 - val_accuracy: 0.9932 - 58s/epoch - 16ms/step\n",
            "Epoch 117/1000\n",
            "3566/3566 - 53s - loss: 0.0493 - accuracy: 0.9820 - val_loss: 0.0260 - val_accuracy: 0.9926 - 53s/epoch - 15ms/step\n",
            "Epoch 118/1000\n",
            "3566/3566 - 55s - loss: 0.0490 - accuracy: 0.9821 - val_loss: 0.0246 - val_accuracy: 0.9924 - 55s/epoch - 15ms/step\n",
            "Epoch 119/1000\n",
            "3566/3566 - 56s - loss: 0.0491 - accuracy: 0.9821 - val_loss: 0.0254 - val_accuracy: 0.9922 - 56s/epoch - 16ms/step\n",
            "Epoch 120/1000\n",
            "3566/3566 - 59s - loss: 0.0492 - accuracy: 0.9821 - val_loss: 0.0265 - val_accuracy: 0.9924 - 59s/epoch - 17ms/step\n",
            "Epoch 121/1000\n",
            "3566/3566 - 58s - loss: 0.0493 - accuracy: 0.9820 - val_loss: 0.0262 - val_accuracy: 0.9926 - 58s/epoch - 16ms/step\n",
            "Epoch 122/1000\n",
            "3566/3566 - 56s - loss: 0.0493 - accuracy: 0.9819 - val_loss: 0.0278 - val_accuracy: 0.9924 - 56s/epoch - 16ms/step\n",
            "Epoch 123/1000\n",
            "3566/3566 - 58s - loss: 0.0492 - accuracy: 0.9820 - val_loss: 0.0256 - val_accuracy: 0.9926 - 58s/epoch - 16ms/step\n",
            "Epoch 124/1000\n",
            "3566/3566 - 57s - loss: 0.0493 - accuracy: 0.9818 - val_loss: 0.0268 - val_accuracy: 0.9928 - 57s/epoch - 16ms/step\n",
            "Epoch 125/1000\n",
            "3566/3566 - 53s - loss: 0.0496 - accuracy: 0.9820 - val_loss: 0.0265 - val_accuracy: 0.9920 - 53s/epoch - 15ms/step\n",
            "Epoch 126/1000\n",
            "3566/3566 - 57s - loss: 0.0490 - accuracy: 0.9821 - val_loss: 0.0265 - val_accuracy: 0.9918 - 57s/epoch - 16ms/step\n",
            "Epoch 127/1000\n",
            "3566/3566 - 55s - loss: 0.0493 - accuracy: 0.9819 - val_loss: 0.0254 - val_accuracy: 0.9918 - 55s/epoch - 15ms/step\n",
            "Epoch 128/1000\n",
            "3566/3566 - 56s - loss: 0.0486 - accuracy: 0.9823 - val_loss: 0.0250 - val_accuracy: 0.9920 - 56s/epoch - 16ms/step\n",
            "Epoch 129/1000\n",
            "3566/3566 - 56s - loss: 0.0492 - accuracy: 0.9820 - val_loss: 0.0253 - val_accuracy: 0.9928 - 56s/epoch - 16ms/step\n",
            "Epoch 130/1000\n",
            "3566/3566 - 57s - loss: 0.0489 - accuracy: 0.9821 - val_loss: 0.0244 - val_accuracy: 0.9932 - 57s/epoch - 16ms/step\n",
            "Epoch 131/1000\n",
            "3566/3566 - 57s - loss: 0.0489 - accuracy: 0.9821 - val_loss: 0.0250 - val_accuracy: 0.9926 - 57s/epoch - 16ms/step\n",
            "Epoch 132/1000\n",
            "3566/3566 - 59s - loss: 0.0491 - accuracy: 0.9820 - val_loss: 0.0281 - val_accuracy: 0.9922 - 59s/epoch - 16ms/step\n",
            "Epoch 133/1000\n",
            "3566/3566 - 57s - loss: 0.0487 - accuracy: 0.9822 - val_loss: 0.0257 - val_accuracy: 0.9930 - 57s/epoch - 16ms/step\n",
            "Epoch 134/1000\n",
            "3566/3566 - 56s - loss: 0.0486 - accuracy: 0.9822 - val_loss: 0.0264 - val_accuracy: 0.9926 - 56s/epoch - 16ms/step\n",
            "Epoch 135/1000\n",
            "3566/3566 - 56s - loss: 0.0490 - accuracy: 0.9821 - val_loss: 0.0250 - val_accuracy: 0.9934 - 56s/epoch - 16ms/step\n",
            "Epoch 136/1000\n",
            "3566/3566 - 64s - loss: 0.0489 - accuracy: 0.9821 - val_loss: 0.0260 - val_accuracy: 0.9918 - 64s/epoch - 18ms/step\n",
            "Epoch 137/1000\n",
            "3566/3566 - 56s - loss: 0.0487 - accuracy: 0.9822 - val_loss: 0.0265 - val_accuracy: 0.9920 - 56s/epoch - 16ms/step\n",
            "Epoch 138/1000\n",
            "3566/3566 - 56s - loss: 0.0492 - accuracy: 0.9820 - val_loss: 0.0273 - val_accuracy: 0.9920 - 56s/epoch - 16ms/step\n",
            "Epoch 139/1000\n",
            "3566/3566 - 56s - loss: 0.0488 - accuracy: 0.9821 - val_loss: 0.0251 - val_accuracy: 0.9926 - 56s/epoch - 16ms/step\n",
            "Epoch 140/1000\n",
            "3566/3566 - 52s - loss: 0.0486 - accuracy: 0.9822 - val_loss: 0.0252 - val_accuracy: 0.9930 - 52s/epoch - 15ms/step\n",
            "Epoch 141/1000\n",
            "3566/3566 - 61s - loss: 0.0484 - accuracy: 0.9823 - val_loss: 0.0261 - val_accuracy: 0.9926 - 61s/epoch - 17ms/step\n",
            "Epoch 142/1000\n",
            "3566/3566 - 56s - loss: 0.0491 - accuracy: 0.9820 - val_loss: 0.0262 - val_accuracy: 0.9920 - 56s/epoch - 16ms/step\n",
            "Epoch 143/1000\n",
            "3566/3566 - 57s - loss: 0.0488 - accuracy: 0.9821 - val_loss: 0.0237 - val_accuracy: 0.9934 - 57s/epoch - 16ms/step\n",
            "Epoch 144/1000\n",
            "3566/3566 - 54s - loss: 0.0484 - accuracy: 0.9822 - val_loss: 0.0269 - val_accuracy: 0.9928 - 54s/epoch - 15ms/step\n",
            "Epoch 145/1000\n",
            "3566/3566 - 57s - loss: 0.0489 - accuracy: 0.9822 - val_loss: 0.0281 - val_accuracy: 0.9920 - 57s/epoch - 16ms/step\n",
            "Epoch 146/1000\n",
            "3566/3566 - 58s - loss: 0.0486 - accuracy: 0.9823 - val_loss: 0.0256 - val_accuracy: 0.9926 - 58s/epoch - 16ms/step\n",
            "Epoch 147/1000\n",
            "3566/3566 - 55s - loss: 0.0484 - accuracy: 0.9824 - val_loss: 0.0246 - val_accuracy: 0.9934 - 55s/epoch - 15ms/step\n",
            "Epoch 148/1000\n",
            "3566/3566 - 56s - loss: 0.0482 - accuracy: 0.9823 - val_loss: 0.0272 - val_accuracy: 0.9926 - 56s/epoch - 16ms/step\n",
            "Epoch 149/1000\n",
            "3566/3566 - 59s - loss: 0.0485 - accuracy: 0.9823 - val_loss: 0.0251 - val_accuracy: 0.9934 - 59s/epoch - 17ms/step\n",
            "Epoch 150/1000\n",
            "3566/3566 - 53s - loss: 0.0489 - accuracy: 0.9822 - val_loss: 0.0245 - val_accuracy: 0.9930 - 53s/epoch - 15ms/step\n",
            "Epoch 151/1000\n",
            "3566/3566 - 58s - loss: 0.0486 - accuracy: 0.9821 - val_loss: 0.0245 - val_accuracy: 0.9930 - 58s/epoch - 16ms/step\n",
            "Epoch 152/1000\n",
            "3566/3566 - 62s - loss: 0.0487 - accuracy: 0.9822 - val_loss: 0.0266 - val_accuracy: 0.9920 - 62s/epoch - 17ms/step\n",
            "Epoch 153/1000\n",
            "3566/3566 - 57s - loss: 0.0488 - accuracy: 0.9821 - val_loss: 0.0261 - val_accuracy: 0.9930 - 57s/epoch - 16ms/step\n",
            "Epoch 154/1000\n",
            "3566/3566 - 57s - loss: 0.0490 - accuracy: 0.9821 - val_loss: 0.0256 - val_accuracy: 0.9934 - 57s/epoch - 16ms/step\n",
            "Epoch 155/1000\n",
            "3566/3566 - 61s - loss: 0.0483 - accuracy: 0.9823 - val_loss: 0.0257 - val_accuracy: 0.9932 - 61s/epoch - 17ms/step\n",
            "Epoch 156/1000\n",
            "3566/3566 - 55s - loss: 0.0487 - accuracy: 0.9821 - val_loss: 0.0249 - val_accuracy: 0.9926 - 55s/epoch - 15ms/step\n",
            "Epoch 157/1000\n",
            "3566/3566 - 56s - loss: 0.0481 - accuracy: 0.9824 - val_loss: 0.0275 - val_accuracy: 0.9922 - 56s/epoch - 16ms/step\n",
            "Epoch 158/1000\n",
            "3566/3566 - 55s - loss: 0.0484 - accuracy: 0.9824 - val_loss: 0.0257 - val_accuracy: 0.9928 - 55s/epoch - 15ms/step\n",
            "Epoch 159/1000\n",
            "3566/3566 - 57s - loss: 0.0485 - accuracy: 0.9822 - val_loss: 0.0248 - val_accuracy: 0.9936 - 57s/epoch - 16ms/step\n",
            "Epoch 160/1000\n",
            "3566/3566 - 56s - loss: 0.0481 - accuracy: 0.9824 - val_loss: 0.0263 - val_accuracy: 0.9920 - 56s/epoch - 16ms/step\n",
            "Epoch 161/1000\n",
            "3566/3566 - 54s - loss: 0.0479 - accuracy: 0.9826 - val_loss: 0.0261 - val_accuracy: 0.9928 - 54s/epoch - 15ms/step\n",
            "Epoch 162/1000\n",
            "3566/3566 - 53s - loss: 0.0484 - accuracy: 0.9823 - val_loss: 0.0256 - val_accuracy: 0.9922 - 53s/epoch - 15ms/step\n",
            "Epoch 163/1000\n",
            "3566/3566 - 57s - loss: 0.0477 - accuracy: 0.9825 - val_loss: 0.0253 - val_accuracy: 0.9928 - 57s/epoch - 16ms/step\n",
            "Epoch 164/1000\n",
            "3566/3566 - 65s - loss: 0.0487 - accuracy: 0.9821 - val_loss: 0.0276 - val_accuracy: 0.9920 - 65s/epoch - 18ms/step\n",
            "Epoch 165/1000\n",
            "3566/3566 - 53s - loss: 0.0479 - accuracy: 0.9825 - val_loss: 0.0260 - val_accuracy: 0.9922 - 53s/epoch - 15ms/step\n",
            "Epoch 166/1000\n",
            "3566/3566 - 59s - loss: 0.0483 - accuracy: 0.9823 - val_loss: 0.0269 - val_accuracy: 0.9934 - 59s/epoch - 16ms/step\n",
            "Epoch 167/1000\n",
            "3566/3566 - 55s - loss: 0.0483 - accuracy: 0.9824 - val_loss: 0.0255 - val_accuracy: 0.9924 - 55s/epoch - 16ms/step\n",
            "Epoch 168/1000\n",
            "3566/3566 - 55s - loss: 0.0482 - accuracy: 0.9823 - val_loss: 0.0277 - val_accuracy: 0.9918 - 55s/epoch - 16ms/step\n",
            "Epoch 169/1000\n",
            "3566/3566 - 59s - loss: 0.0477 - accuracy: 0.9827 - val_loss: 0.0291 - val_accuracy: 0.9920 - 59s/epoch - 16ms/step\n",
            "Epoch 170/1000\n",
            "3566/3566 - 57s - loss: 0.0487 - accuracy: 0.9822 - val_loss: 0.0277 - val_accuracy: 0.9924 - 57s/epoch - 16ms/step\n",
            "Epoch 171/1000\n",
            "3566/3566 - 57s - loss: 0.0483 - accuracy: 0.9822 - val_loss: 0.0263 - val_accuracy: 0.9924 - 57s/epoch - 16ms/step\n",
            "Epoch 172/1000\n",
            "3566/3566 - 57s - loss: 0.0483 - accuracy: 0.9822 - val_loss: 0.0254 - val_accuracy: 0.9922 - 57s/epoch - 16ms/step\n",
            "Epoch 173/1000\n",
            "3566/3566 - 53s - loss: 0.0487 - accuracy: 0.9822 - val_loss: 0.0246 - val_accuracy: 0.9924 - 53s/epoch - 15ms/step\n",
            "Epoch 174/1000\n",
            "3566/3566 - 54s - loss: 0.0481 - accuracy: 0.9824 - val_loss: 0.0249 - val_accuracy: 0.9934 - 54s/epoch - 15ms/step\n",
            "Epoch 175/1000\n",
            "3566/3566 - 58s - loss: 0.0478 - accuracy: 0.9825 - val_loss: 0.0274 - val_accuracy: 0.9920 - 58s/epoch - 16ms/step\n",
            "Epoch 176/1000\n",
            "3566/3566 - 58s - loss: 0.0481 - accuracy: 0.9824 - val_loss: 0.0265 - val_accuracy: 0.9932 - 58s/epoch - 16ms/step\n",
            "Epoch 177/1000\n",
            "3566/3566 - 57s - loss: 0.0481 - accuracy: 0.9824 - val_loss: 0.0244 - val_accuracy: 0.9926 - 57s/epoch - 16ms/step\n",
            "Epoch 178/1000\n",
            "3566/3566 - 56s - loss: 0.0480 - accuracy: 0.9825 - val_loss: 0.0254 - val_accuracy: 0.9920 - 56s/epoch - 16ms/step\n",
            "Epoch 179/1000\n",
            "3566/3566 - 57s - loss: 0.0480 - accuracy: 0.9825 - val_loss: 0.0241 - val_accuracy: 0.9936 - 57s/epoch - 16ms/step\n",
            "Epoch 180/1000\n",
            "3566/3566 - 55s - loss: 0.0483 - accuracy: 0.9822 - val_loss: 0.0255 - val_accuracy: 0.9928 - 55s/epoch - 15ms/step\n",
            "Epoch 181/1000\n",
            "3566/3566 - 55s - loss: 0.0477 - accuracy: 0.9826 - val_loss: 0.0259 - val_accuracy: 0.9930 - 55s/epoch - 15ms/step\n",
            "Epoch 182/1000\n",
            "3566/3566 - 58s - loss: 0.0480 - accuracy: 0.9826 - val_loss: 0.0273 - val_accuracy: 0.9926 - 58s/epoch - 16ms/step\n",
            "Epoch 183/1000\n",
            "3566/3566 - 57s - loss: 0.0478 - accuracy: 0.9824 - val_loss: 0.0265 - val_accuracy: 0.9928 - 57s/epoch - 16ms/step\n",
            "Epoch 184/1000\n",
            "3566/3566 - 57s - loss: 0.0480 - accuracy: 0.9824 - val_loss: 0.0253 - val_accuracy: 0.9926 - 57s/epoch - 16ms/step\n",
            "Epoch 185/1000\n",
            "3566/3566 - 62s - loss: 0.0483 - accuracy: 0.9823 - val_loss: 0.0267 - val_accuracy: 0.9924 - 62s/epoch - 17ms/step\n",
            "Epoch 186/1000\n",
            "3566/3566 - 59s - loss: 0.0480 - accuracy: 0.9824 - val_loss: 0.0280 - val_accuracy: 0.9930 - 59s/epoch - 17ms/step\n",
            "Epoch 187/1000\n",
            "3566/3566 - 58s - loss: 0.0476 - accuracy: 0.9826 - val_loss: 0.0267 - val_accuracy: 0.9932 - 58s/epoch - 16ms/step\n",
            "Epoch 188/1000\n",
            "3566/3566 - 55s - loss: 0.0475 - accuracy: 0.9827 - val_loss: 0.0298 - val_accuracy: 0.9918 - 55s/epoch - 15ms/step\n",
            "Epoch 189/1000\n",
            "3566/3566 - 58s - loss: 0.0485 - accuracy: 0.9823 - val_loss: 0.0270 - val_accuracy: 0.9920 - 58s/epoch - 16ms/step\n",
            "Epoch 190/1000\n",
            "3566/3566 - 55s - loss: 0.0481 - accuracy: 0.9825 - val_loss: 0.0265 - val_accuracy: 0.9920 - 55s/epoch - 16ms/step\n",
            "Epoch 191/1000\n",
            "3566/3566 - 58s - loss: 0.0479 - accuracy: 0.9825 - val_loss: 0.0269 - val_accuracy: 0.9920 - 58s/epoch - 16ms/step\n",
            "Epoch 192/1000\n",
            "3566/3566 - 53s - loss: 0.0480 - accuracy: 0.9824 - val_loss: 0.0285 - val_accuracy: 0.9922 - 53s/epoch - 15ms/step\n",
            "Epoch 193/1000\n",
            "3566/3566 - 56s - loss: 0.0478 - accuracy: 0.9824 - val_loss: 0.0266 - val_accuracy: 0.9930 - 56s/epoch - 16ms/step\n",
            "Epoch 194/1000\n",
            "3566/3566 - 56s - loss: 0.0481 - accuracy: 0.9825 - val_loss: 0.0259 - val_accuracy: 0.9917 - 56s/epoch - 16ms/step\n",
            "Epoch 195/1000\n",
            "3566/3566 - 61s - loss: 0.0475 - accuracy: 0.9827 - val_loss: 0.0253 - val_accuracy: 0.9928 - 61s/epoch - 17ms/step\n",
            "Epoch 196/1000\n",
            "3566/3566 - 56s - loss: 0.0475 - accuracy: 0.9826 - val_loss: 0.0266 - val_accuracy: 0.9928 - 56s/epoch - 16ms/step\n",
            "Epoch 197/1000\n",
            "3566/3566 - 55s - loss: 0.0476 - accuracy: 0.9826 - val_loss: 0.0265 - val_accuracy: 0.9922 - 55s/epoch - 16ms/step\n",
            "Epoch 198/1000\n",
            "3566/3566 - 62s - loss: 0.0480 - accuracy: 0.9824 - val_loss: 0.0238 - val_accuracy: 0.9936 - 62s/epoch - 17ms/step\n",
            "Epoch 199/1000\n",
            "3566/3566 - 55s - loss: 0.0480 - accuracy: 0.9824 - val_loss: 0.0273 - val_accuracy: 0.9928 - 55s/epoch - 16ms/step\n",
            "Epoch 200/1000\n",
            "3566/3566 - 57s - loss: 0.0476 - accuracy: 0.9826 - val_loss: 0.0268 - val_accuracy: 0.9922 - 57s/epoch - 16ms/step\n",
            "Epoch 201/1000\n",
            "3566/3566 - 56s - loss: 0.0477 - accuracy: 0.9826 - val_loss: 0.0264 - val_accuracy: 0.9915 - 56s/epoch - 16ms/step\n",
            "Epoch 202/1000\n",
            "3566/3566 - 58s - loss: 0.0479 - accuracy: 0.9825 - val_loss: 0.0280 - val_accuracy: 0.9922 - 58s/epoch - 16ms/step\n",
            "Epoch 203/1000\n",
            "3566/3566 - 60s - loss: 0.0471 - accuracy: 0.9828 - val_loss: 0.0248 - val_accuracy: 0.9915 - 60s/epoch - 17ms/step\n",
            "Epoch 204/1000\n",
            "3566/3566 - 53s - loss: 0.0473 - accuracy: 0.9827 - val_loss: 0.0281 - val_accuracy: 0.9917 - 53s/epoch - 15ms/step\n",
            "Epoch 205/1000\n",
            "3566/3566 - 57s - loss: 0.0475 - accuracy: 0.9826 - val_loss: 0.0285 - val_accuracy: 0.9918 - 57s/epoch - 16ms/step\n",
            "Epoch 206/1000\n",
            "3566/3566 - 57s - loss: 0.0477 - accuracy: 0.9825 - val_loss: 0.0249 - val_accuracy: 0.9926 - 57s/epoch - 16ms/step\n",
            "Epoch 207/1000\n",
            "3566/3566 - 61s - loss: 0.0479 - accuracy: 0.9826 - val_loss: 0.0248 - val_accuracy: 0.9917 - 61s/epoch - 17ms/step\n",
            "Epoch 208/1000\n",
            "3566/3566 - 57s - loss: 0.0476 - accuracy: 0.9825 - val_loss: 0.0255 - val_accuracy: 0.9924 - 57s/epoch - 16ms/step\n",
            "Epoch 209/1000\n",
            "3566/3566 - 58s - loss: 0.0473 - accuracy: 0.9828 - val_loss: 0.0260 - val_accuracy: 0.9928 - 58s/epoch - 16ms/step\n",
            "Epoch 210/1000\n",
            "3566/3566 - 56s - loss: 0.0477 - accuracy: 0.9827 - val_loss: 0.0264 - val_accuracy: 0.9924 - 56s/epoch - 16ms/step\n",
            "Epoch 211/1000\n",
            "3566/3566 - 56s - loss: 0.0472 - accuracy: 0.9827 - val_loss: 0.0287 - val_accuracy: 0.9920 - 56s/epoch - 16ms/step\n",
            "Epoch 212/1000\n",
            "3566/3566 - 58s - loss: 0.0476 - accuracy: 0.9826 - val_loss: 0.0247 - val_accuracy: 0.9934 - 58s/epoch - 16ms/step\n",
            "Epoch 213/1000\n",
            "3566/3566 - 58s - loss: 0.0477 - accuracy: 0.9825 - val_loss: 0.0296 - val_accuracy: 0.9924 - 58s/epoch - 16ms/step\n",
            "Epoch 214/1000\n",
            "3566/3566 - 57s - loss: 0.0476 - accuracy: 0.9826 - val_loss: 0.0266 - val_accuracy: 0.9915 - 57s/epoch - 16ms/step\n",
            "Epoch 215/1000\n",
            "3566/3566 - 55s - loss: 0.0475 - accuracy: 0.9827 - val_loss: 0.0264 - val_accuracy: 0.9922 - 55s/epoch - 15ms/step\n",
            "Epoch 216/1000\n",
            "3566/3566 - 68s - loss: 0.0474 - accuracy: 0.9828 - val_loss: 0.0258 - val_accuracy: 0.9924 - 68s/epoch - 19ms/step\n",
            "Epoch 217/1000\n",
            "3566/3566 - 60s - loss: 0.0476 - accuracy: 0.9825 - val_loss: 0.0267 - val_accuracy: 0.9926 - 60s/epoch - 17ms/step\n",
            "Epoch 218/1000\n",
            "3566/3566 - 57s - loss: 0.0475 - accuracy: 0.9827 - val_loss: 0.0282 - val_accuracy: 0.9915 - 57s/epoch - 16ms/step\n",
            "Epoch 219/1000\n",
            "3566/3566 - 55s - loss: 0.0473 - accuracy: 0.9827 - val_loss: 0.0264 - val_accuracy: 0.9922 - 55s/epoch - 15ms/step\n",
            "Epoch 220/1000\n",
            "3566/3566 - 55s - loss: 0.0476 - accuracy: 0.9827 - val_loss: 0.0267 - val_accuracy: 0.9922 - 55s/epoch - 15ms/step\n",
            "Epoch 221/1000\n",
            "3566/3566 - 60s - loss: 0.0475 - accuracy: 0.9827 - val_loss: 0.0264 - val_accuracy: 0.9932 - 60s/epoch - 17ms/step\n",
            "Epoch 222/1000\n",
            "3566/3566 - 58s - loss: 0.0475 - accuracy: 0.9827 - val_loss: 0.0267 - val_accuracy: 0.9934 - 58s/epoch - 16ms/step\n",
            "Epoch 223/1000\n",
            "3566/3566 - 54s - loss: 0.0477 - accuracy: 0.9826 - val_loss: 0.0268 - val_accuracy: 0.9917 - 54s/epoch - 15ms/step\n",
            "Epoch 224/1000\n",
            "3566/3566 - 55s - loss: 0.0468 - accuracy: 0.9827 - val_loss: 0.0259 - val_accuracy: 0.9926 - 55s/epoch - 15ms/step\n",
            "Epoch 225/1000\n",
            "3566/3566 - 70s - loss: 0.0475 - accuracy: 0.9827 - val_loss: 0.0264 - val_accuracy: 0.9926 - 70s/epoch - 20ms/step\n",
            "Epoch 226/1000\n",
            "3566/3566 - 57s - loss: 0.0476 - accuracy: 0.9826 - val_loss: 0.0257 - val_accuracy: 0.9924 - 57s/epoch - 16ms/step\n",
            "Epoch 227/1000\n",
            "3566/3566 - 58s - loss: 0.0475 - accuracy: 0.9826 - val_loss: 0.0253 - val_accuracy: 0.9932 - 58s/epoch - 16ms/step\n",
            "Epoch 228/1000\n",
            "3566/3566 - 55s - loss: 0.0472 - accuracy: 0.9827 - val_loss: 0.0267 - val_accuracy: 0.9930 - 55s/epoch - 15ms/step\n",
            "Epoch 229/1000\n",
            "3566/3566 - 66s - loss: 0.0474 - accuracy: 0.9826 - val_loss: 0.0274 - val_accuracy: 0.9922 - 66s/epoch - 18ms/step\n",
            "Epoch 230/1000\n",
            "3566/3566 - 59s - loss: 0.0476 - accuracy: 0.9826 - val_loss: 0.0267 - val_accuracy: 0.9922 - 59s/epoch - 17ms/step\n",
            "Epoch 231/1000\n",
            "3566/3566 - 58s - loss: 0.0471 - accuracy: 0.9829 - val_loss: 0.0245 - val_accuracy: 0.9928 - 58s/epoch - 16ms/step\n",
            "Epoch 232/1000\n",
            "3566/3566 - 56s - loss: 0.0470 - accuracy: 0.9828 - val_loss: 0.0263 - val_accuracy: 0.9930 - 56s/epoch - 16ms/step\n",
            "Epoch 233/1000\n",
            "3566/3566 - 57s - loss: 0.0471 - accuracy: 0.9828 - val_loss: 0.0263 - val_accuracy: 0.9926 - 57s/epoch - 16ms/step\n",
            "Epoch 234/1000\n",
            "3566/3566 - 58s - loss: 0.0473 - accuracy: 0.9827 - val_loss: 0.0243 - val_accuracy: 0.9928 - 58s/epoch - 16ms/step\n",
            "Epoch 235/1000\n",
            "3566/3566 - 55s - loss: 0.0473 - accuracy: 0.9827 - val_loss: 0.0243 - val_accuracy: 0.9924 - 55s/epoch - 15ms/step\n",
            "Epoch 236/1000\n",
            "3566/3566 - 75s - loss: 0.0474 - accuracy: 0.9826 - val_loss: 0.0268 - val_accuracy: 0.9934 - 75s/epoch - 21ms/step\n",
            "Epoch 237/1000\n",
            "3566/3566 - 58s - loss: 0.0466 - accuracy: 0.9830 - val_loss: 0.0261 - val_accuracy: 0.9922 - 58s/epoch - 16ms/step\n",
            "Epoch 238/1000\n",
            "3566/3566 - 57s - loss: 0.0473 - accuracy: 0.9826 - val_loss: 0.0260 - val_accuracy: 0.9920 - 57s/epoch - 16ms/step\n",
            "Epoch 239/1000\n",
            "3566/3566 - 70s - loss: 0.0474 - accuracy: 0.9826 - val_loss: 0.0270 - val_accuracy: 0.9920 - 70s/epoch - 20ms/step\n",
            "Epoch 240/1000\n",
            "3566/3566 - 57s - loss: 0.0473 - accuracy: 0.9827 - val_loss: 0.0292 - val_accuracy: 0.9913 - 57s/epoch - 16ms/step\n",
            "Epoch 241/1000\n",
            "3566/3566 - 58s - loss: 0.0471 - accuracy: 0.9828 - val_loss: 0.0269 - val_accuracy: 0.9926 - 58s/epoch - 16ms/step\n",
            "Epoch 242/1000\n",
            "3566/3566 - 55s - loss: 0.0473 - accuracy: 0.9827 - val_loss: 0.0267 - val_accuracy: 0.9924 - 55s/epoch - 15ms/step\n",
            "Epoch 243/1000\n",
            "Restoring model weights from the end of the best epoch: 143.\n",
            "3566/3566 - 57s - loss: 0.0475 - accuracy: 0.9827 - val_loss: 0.0247 - val_accuracy: 0.9930 - 57s/epoch - 16ms/step\n",
            "Epoch 00243: early stopping\n"
          ]
        }
      ]
    },
    {
      "cell_type": "code",
      "metadata": {
        "id": "2t2H8UlDWSBA",
        "colab": {
          "base_uri": "https://localhost:8080/",
          "height": 295
        },
        "outputId": "2354c2cd-80a5-4721-fbdd-db3652a4ee70"
      },
      "source": [
        "plt.plot(history.history['loss'])\n",
        "plt.plot(history.history['val_loss'])\n",
        "plt.title('Model loss')\n",
        "plt.ylabel('Loss')\n",
        "plt.xlabel('Epoch')\n",
        "assert plt.legend(['Train', 'Valid'], loc='upper right')"
      ],
      "execution_count": 14,
      "outputs": [
        {
          "output_type": "display_data",
          "data": {
            "image/png": "[encoded data removed]",
            "text/plain": [
              "<Figure size 936x288 with 1 Axes>"
            ]
          },
          "metadata": {
            "needs_background": "light"
          }
        }
      ]
    },
    {
      "cell_type": "code",
      "metadata": {
        "id": "XLAAQk3KWTkq",
        "colab": {
          "base_uri": "https://localhost:8080/",
          "height": 295
        },
        "outputId": "2ed7c949-951b-40c2-e800-ce37ec1021ba"
      },
      "source": [
        "plt.plot(history.history['accuracy'])\n",
        "plt.plot(history.history['val_accuracy'])\n",
        "plt.title('Model accuracy')\n",
        "plt.ylabel('Accuracy')\n",
        "plt.xlabel('Epoch')\n",
        "assert plt.legend(['Train', 'Valid'], loc='lower right')"
      ],
      "execution_count": 15,
      "outputs": [
        {
          "output_type": "display_data",
          "data": {
            "image/png": "[encoded data removed]",
            "text/plain": [
              "<Figure size 936x288 with 1 Axes>"
            ]
          },
          "metadata": {
            "needs_background": "light"
          }
        }
      ]
    },
    {
      "cell_type": "code",
      "metadata": {
        "id": "RSIMDvP7XL0z",
        "colab": {
          "base_uri": "https://localhost:8080/"
        },
        "outputId": "8d2cc51b-2139-440e-9efd-fdc806ee95e1"
      },
      "source": [
        "pred = model.predict(test_dataset.batch(512)).squeeze(-1) > 0\n",
        "print(np.sum(pred != list(test_dataset.map(lambda x, y: y))), test_dataset.cardinality().numpy())\n",
        "pred = model.predict(valid_dataset.batch(512)).squeeze(-1) > 0\n",
        "print(np.sum(pred != list(valid_dataset.map(lambda x, y: y))), valid_dataset.cardinality().numpy())"
      ],
      "execution_count": 17,
      "outputs": [
        {
          "output_type": "stream",
          "name": "stdout",
          "text": [
            "57 6086\n",
            "37 5276\n"
          ]
        }
      ]
    },
    {
      "cell_type": "code",
      "metadata": {
        "id": "chpjeHQVWazQ",
        "colab": {
          "base_uri": "https://localhost:8080/"
        },
        "outputId": "cd259754-8612-458e-f7ea-5d27abcf1884"
      },
      "source": [
        "stream_model = build_model(True)\n",
        "for layer in stream_model.layers:\n",
        "  if layer.get_weights():\n",
        "    print(\"Transfer weights for layer {}\".format(layer.name))\n",
        "    layer.set_weights(model.get_layer(name=layer.name).get_weights())"
      ],
      "execution_count": 18,
      "outputs": [
        {
          "output_type": "stream",
          "name": "stdout",
          "text": [
            "Transfer weights for layer dense\n",
            "Transfer weights for layer batch_normalization_5\n",
            "Transfer weights for layer conv2d\n",
            "Transfer weights for layer separable_conv2d\n",
            "Transfer weights for layer separable_conv2d_1\n",
            "Transfer weights for layer separable_conv2d_2\n",
            "Transfer weights for layer separable_conv2d_3\n",
            "Transfer weights for layer batch_normalization\n",
            "Transfer weights for layer batch_normalization_1\n",
            "Transfer weights for layer batch_normalization_2\n",
            "Transfer weights for layer batch_normalization_3\n",
            "Transfer weights for layer batch_normalization_4\n",
            "Transfer weights for layer dense_1\n"
          ]
        }
      ]
    },
    {
      "cell_type": "code",
      "metadata": {
        "id": "w_UWOOb72I06",
        "colab": {
          "base_uri": "https://localhost:8080/"
        },
        "outputId": "60167f2c-a394-4920-c396-f500076c86d2"
      },
      "source": [
        "converter = tf.lite.TFLiteConverter.from_keras_model(stream_model)\n",
        "tflite_model = converter.convert()\n",
        "with open(\"dcnn13.bin.libri.tflite\", \"wb\") as f:\n",
        "  f.write(tflite_model)"
      ],
      "execution_count": 19,
      "outputs": [
        {
          "output_type": "stream",
          "name": "stdout",
          "text": [
            "INFO:tensorflow:Assets written to: /tmp/tmpkslv__0y/assets\n"
          ]
        },
        {
          "output_type": "stream",
          "name": "stderr",
          "text": [
            "INFO:tensorflow:Assets written to: /tmp/tmpkslv__0y/assets\n",
            "WARNING:absl:Buffer deduplication procedure will be skipped when flatbuffer library is not properly loaded\n"
          ]
        }
      ]
    },
    {
      "cell_type": "code",
      "metadata": {
        "id": "sN7FZnLM2d8V",
        "colab": {
          "base_uri": "https://localhost:8080/"
        },
        "outputId": "3514a3dd-af29-40e3-f362-2b223dec110c"
      },
      "source": [
        "!md5sum 'dcnn13.bin.libri.tflite'\n",
        "!mv 'dcnn13.bin.libri.tflite' \"$KERAS_MODELS_ABSOLUTE_PATH\""
      ],
      "execution_count": 20,
      "outputs": [
        {
          "output_type": "stream",
          "name": "stdout",
          "text": [
            "20b54ae12d4a724fea497acdf084bff9  dcnn13.bin.libri.tflite\n"
          ]
        }
      ]
    }
  ]
}