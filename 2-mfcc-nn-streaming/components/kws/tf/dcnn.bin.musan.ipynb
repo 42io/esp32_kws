{
  "nbformat": 4,
  "nbformat_minor": 0,
  "metadata": {
    "accelerator": "GPU",
    "colab": {
      "name": "dcnn13.bin.ipynb",
      "provenance": [],
      "collapsed_sections": [],
      "machine_shape": "hm"
    },
    "kernelspec": {
      "display_name": "Python 3",
      "name": "python3"
    }
  },
  "cells": [
    {
      "cell_type": "code",
      "metadata": {
        "colab": {
          "base_uri": "https://localhost:8080/"
        },
        "id": "5T3UOLCpGUmg",
        "outputId": "da36129a-070a-46f6-c282-192e1b15f174"
      },
      "source": [
        "import matplotlib.pyplot as plt\n",
        "import numpy as np\n",
        "from tensorflow import keras\n",
        "import tensorflow as tf\n",
        "print(tf.__version__)\n",
        "plt.rc('figure', figsize=(13, 4))"
      ],
      "execution_count": 1,
      "outputs": [
        {
          "output_type": "stream",
          "name": "stdout",
          "text": [
            "2.6.0\n"
          ]
        }
      ]
    },
    {
      "cell_type": "code",
      "metadata": {
        "id": "l_6NYiKJ7qzN"
      },
      "source": [
        "# https://github.com/42io/dataset/tree/master/openslr_musan\n",
        "DATASET_FILE = '1zR4Llk9SyiEddFrXwDQuaKIr4kYerjOo'"
      ],
      "execution_count": 2,
      "outputs": []
    },
    {
      "cell_type": "code",
      "metadata": {
        "id": "J4KjyC2X_ZyQ"
      },
      "source": [
        "!pip install -qq gdown\n",
        "!test -f \"$DATASET_FILE\" || gdown --id \"$DATASET_FILE\" -O \"$DATASET_FILE\""
      ],
      "execution_count": 3,
      "outputs": []
    },
    {
      "cell_type": "code",
      "metadata": {
        "id": "kIdWKJAOu_p9"
      },
      "source": [
        "md5 = !md5sum \"$DATASET_FILE\"\n",
        "assert '3a65d6a64314e5c343ae52997d078ace' == md5[0].split()[0]"
      ],
      "execution_count": 4,
      "outputs": []
    },
    {
      "cell_type": "code",
      "metadata": {
        "id": "tus9FNQ1pYnO"
      },
      "source": [
        "def create_ds(t):\n",
        "  x = 'x_' + t\n",
        "  y = 'y_' + t\n",
        "  d = tf.data.Dataset.from_tensor_slices((dset[x], dset[y]))\n",
        "  d = d.map(lambda x, y: [tf.cast(x, tf.float32), y])\n",
        "  d = d.map(lambda x, y: [x, tf.cast(y, tf.bool)])\n",
        "  d = d.map(lambda x, y: [tf.reshape(x, (49, 13))[1:-1], y])\n",
        "  d = d.cache()\n",
        "  return d"
      ],
      "execution_count": 5,
      "outputs": []
    },
    {
      "cell_type": "code",
      "metadata": {
        "colab": {
          "base_uri": "https://localhost:8080/"
        },
        "id": "zjcgSo1ahoz9",
        "outputId": "aa8bb039-2453-4066-db18-5912be0fff6b"
      },
      "source": [
        "dset = np.load(DATASET_FILE)\n",
        "print(dset['x_train'].shape)"
      ],
      "execution_count": 6,
      "outputs": [
        {
          "output_type": "stream",
          "name": "stdout",
          "text": [
            "(1825800, 637)\n"
          ]
        }
      ]
    },
    {
      "cell_type": "code",
      "metadata": {
        "colab": {
          "base_uri": "https://localhost:8080/"
        },
        "id": "oL2-YVKZYpK2",
        "outputId": "f637859c-86a2-40bf-fae4-0c16cf230a26"
      },
      "source": [
        "train_dataset = create_ds('train')\n",
        "test_dataset  = create_ds('test')\n",
        "valid_dataset = create_ds('valid')\n",
        "train_dataset.cardinality().numpy()"
      ],
      "execution_count": 7,
      "outputs": [
        {
          "output_type": "execute_result",
          "data": {
            "text/plain": [
              "1825800"
            ]
          },
          "metadata": {},
          "execution_count": 7
        }
      ]
    },
    {
      "cell_type": "code",
      "metadata": {
        "id": "Xcj5MHTAKYwv"
      },
      "source": [
        "def spectrogram_masking(spectrogram, dim=1, masks_number=2, mask_max_size=5):\n",
        "  \"\"\"Spectrogram masking on frequency or time dimension.\n",
        "  Args:\n",
        "    spectrogram: Input spectrum [batch, time, frequency]\n",
        "    dim: dimension on which masking will be applied: 1 - time; 2 - frequency\n",
        "    masks_number: number of masks\n",
        "    mask_max_size: mask max size\n",
        "  Returns:\n",
        "    masked spectrogram\n",
        "  \"\"\"\n",
        "  if dim not in (1, 2):\n",
        "    raise ValueError('Wrong dim value: %d' % dim)\n",
        "  input_shape = spectrogram.shape\n",
        "  time_size, frequency_size = input_shape[1:3]\n",
        "  dim_size = input_shape[dim]  # size of dimension on which mask is applied\n",
        "  stripe_shape = [1, time_size, frequency_size]\n",
        "  for _ in range(masks_number):\n",
        "    mask_end = tf.random.uniform([], 0, mask_max_size, tf.int32)\n",
        "    mask_start = tf.random.uniform([], 0, dim_size - mask_end, tf.int32)\n",
        "\n",
        "    # initialize stripes with stripe_shape\n",
        "    stripe_ones_left = list(stripe_shape)\n",
        "    stripe_zeros_center = list(stripe_shape)\n",
        "    stripe_ones_right = list(stripe_shape)\n",
        "\n",
        "    # update stripes dim\n",
        "    stripe_ones_left[dim] = dim_size - mask_start - mask_end\n",
        "    stripe_zeros_center[dim] = mask_end\n",
        "    stripe_ones_right[dim] = mask_start\n",
        "\n",
        "    # generate mask\n",
        "    mask = tf.concat((\n",
        "        tf.ones(stripe_ones_left, spectrogram.dtype),\n",
        "        tf.zeros(stripe_zeros_center, spectrogram.dtype),\n",
        "        tf.ones(stripe_ones_right, spectrogram.dtype),\n",
        "    ), dim)\n",
        "    spectrogram = spectrogram * mask\n",
        "  return spectrogram"
      ],
      "execution_count": 8,
      "outputs": []
    },
    {
      "cell_type": "code",
      "metadata": {
        "id": "x5m9wOJwCxxA"
      },
      "source": [
        "def train_model(model, train_dataset, valid_dataset):\n",
        "\n",
        "  early_stopping = keras.callbacks.EarlyStopping(\n",
        "        monitor='val_loss',\n",
        "        mode='min',\n",
        "        verbose=1,\n",
        "        patience=100,\n",
        "        restore_best_weights=True)\n",
        "\n",
        "  train_batch = train_dataset.shuffle(train_dataset.cardinality())\n",
        "  train_batch = train_batch.batch(128)\n",
        "  train_batch = train_batch.map(lambda x, y: (spectrogram_masking(x, 1, 3, 3), y))\n",
        "  train_batch = train_batch.map(lambda x, y: (spectrogram_masking(x, 2, 2, 2), y))\n",
        "  train_batch = train_batch.prefetch(tf.data.AUTOTUNE)\n",
        "\n",
        "  valid_batch = valid_dataset.batch(512)\n",
        "  valid_batch = valid_batch.prefetch(tf.data.AUTOTUNE)\n",
        "\n",
        "  # plt.imshow(list(train_batch.take(1))[0][0][0].numpy().T)\n",
        "  # plt.show()\n",
        "\n",
        "  history = model.fit(train_batch,\n",
        "                      validation_data=valid_batch,\n",
        "                      callbacks=[early_stopping],\n",
        "                      verbose=2,\n",
        "                      epochs=1000) # play with google colab time limit\n",
        "\n",
        "  model.set_weights(early_stopping.best_weights)\n",
        "  return history"
      ],
      "execution_count": 9,
      "outputs": []
    },
    {
      "cell_type": "code",
      "metadata": {
        "id": "zbLWMOGgVqhv"
      },
      "source": [
        "# https://arxiv.org/pdf/2005.06720.pdf\n",
        "\n",
        "def streaming_input_output(streaming, t, inputs, otputs, x):\n",
        "  if streaming:\n",
        "    otputs.append(x)\n",
        "    x = keras.Input(shape=[t] + x.shape[2:])\n",
        "    inputs.append(x)\n",
        "  return x\n",
        "\n",
        "def build_model(streaming=False):\n",
        "\n",
        "  # resetting the layer name generation counter\n",
        "  keras.backend.clear_session()\n",
        "\n",
        "  inputs  = []\n",
        "  outputs = []\n",
        "\n",
        "  x_in = keras.Input(shape=[1, 1, 13] if streaming else [47, 13])\n",
        "  x = x_in if streaming else keras.backend.expand_dims(x_in, -2)\n",
        "\n",
        "  x = keras.layers.Conv2D(32, 1, use_bias=False)(x)\n",
        "  x = keras.layers.BatchNormalization()(x)\n",
        "  x = keras.layers.ReLU()(x)\n",
        "  x = keras.layers.SpatialDropout2D(x.shape[-1]/1280.0)(x)\n",
        "\n",
        "  for i in range(4):\n",
        "    x = streaming_input_output(streaming, 2, inputs, outputs, x)\n",
        "    x = keras.layers.SeparableConv2D(x.shape[-1], kernel_size=[2, 1], \n",
        "                                     dilation_rate=[1 if streaming else 2**i, 1], \n",
        "                                     use_bias=False)(x)\n",
        "    x = keras.layers.BatchNormalization()(x)\n",
        "    x = keras.layers.ReLU()(x)\n",
        "    x = keras.layers.SpatialDropout2D(x.shape[-1]/1280.0)(x)\n",
        "\n",
        "  x = streaming_input_output(streaming, 32, inputs, outputs, x)\n",
        "  x = keras.layers.AveragePooling2D([x.shape[1], 1])(x)\n",
        "  x = keras.layers.Flatten()(x)\n",
        "\n",
        "  x = keras.layers.Dense(x.shape[-1] // 2, use_bias=False)(x)\n",
        "  x = keras.layers.BatchNormalization()(x)\n",
        "  x = keras.layers.ReLU()(x)\n",
        "  x = keras.layers.Dropout(x.shape[-1]/1280.0)(x)\n",
        "\n",
        "  x = keras.layers.Dense(1)(x)\n",
        "\n",
        "  model = keras.Model(inputs=[x_in] + inputs, outputs=[x] + outputs)\n",
        "\n",
        "  return model"
      ],
      "execution_count": 10,
      "outputs": []
    },
    {
      "cell_type": "code",
      "metadata": {
        "colab": {
          "base_uri": "https://localhost:8080/"
        },
        "id": "hP5H5d2z_SpG",
        "outputId": "164372f0-9bab-4f20-e9cd-3d9634041a69"
      },
      "source": [
        "model = build_model()\n",
        "model.summary()\n",
        "model.compile(\n",
        "  loss=keras.losses.BinaryCrossentropy(from_logits=True),\n",
        "  optimizer=keras.optimizers.Adam(),\n",
        "  metrics=['accuracy']\n",
        ")"
      ],
      "execution_count": 11,
      "outputs": [
        {
          "output_type": "stream",
          "name": "stdout",
          "text": [
            "Model: \"model\"\n",
            "_________________________________________________________________\n",
            "Layer (type)                 Output Shape              Param #   \n",
            "=================================================================\n",
            "input_1 (InputLayer)         [(None, 47, 13)]          0         \n",
            "_________________________________________________________________\n",
            "tf.expand_dims (TFOpLambda)  (None, 47, 1, 13)         0         \n",
            "_________________________________________________________________\n",
            "conv2d (Conv2D)              (None, 47, 1, 32)         416       \n",
            "_________________________________________________________________\n",
            "batch_normalization (BatchNo (None, 47, 1, 32)         128       \n",
            "_________________________________________________________________\n",
            "re_lu (ReLU)                 (None, 47, 1, 32)         0         \n",
            "_________________________________________________________________\n",
            "spatial_dropout2d (SpatialDr (None, 47, 1, 32)         0         \n",
            "_________________________________________________________________\n",
            "separable_conv2d (SeparableC (None, 46, 1, 32)         1088      \n",
            "_________________________________________________________________\n",
            "batch_normalization_1 (Batch (None, 46, 1, 32)         128       \n",
            "_________________________________________________________________\n",
            "re_lu_1 (ReLU)               (None, 46, 1, 32)         0         \n",
            "_________________________________________________________________\n",
            "spatial_dropout2d_1 (Spatial (None, 46, 1, 32)         0         \n",
            "_________________________________________________________________\n",
            "separable_conv2d_1 (Separabl (None, 44, 1, 32)         1088      \n",
            "_________________________________________________________________\n",
            "batch_normalization_2 (Batch (None, 44, 1, 32)         128       \n",
            "_________________________________________________________________\n",
            "re_lu_2 (ReLU)               (None, 44, 1, 32)         0         \n",
            "_________________________________________________________________\n",
            "spatial_dropout2d_2 (Spatial (None, 44, 1, 32)         0         \n",
            "_________________________________________________________________\n",
            "separable_conv2d_2 (Separabl (None, 40, 1, 32)         1088      \n",
            "_________________________________________________________________\n",
            "batch_normalization_3 (Batch (None, 40, 1, 32)         128       \n",
            "_________________________________________________________________\n",
            "re_lu_3 (ReLU)               (None, 40, 1, 32)         0         \n",
            "_________________________________________________________________\n",
            "spatial_dropout2d_3 (Spatial (None, 40, 1, 32)         0         \n",
            "_________________________________________________________________\n",
            "separable_conv2d_3 (Separabl (None, 32, 1, 32)         1088      \n",
            "_________________________________________________________________\n",
            "batch_normalization_4 (Batch (None, 32, 1, 32)         128       \n",
            "_________________________________________________________________\n",
            "re_lu_4 (ReLU)               (None, 32, 1, 32)         0         \n",
            "_________________________________________________________________\n",
            "spatial_dropout2d_4 (Spatial (None, 32, 1, 32)         0         \n",
            "_________________________________________________________________\n",
            "average_pooling2d (AveragePo (None, 1, 1, 32)          0         \n",
            "_________________________________________________________________\n",
            "flatten (Flatten)            (None, 32)                0         \n",
            "_________________________________________________________________\n",
            "dense (Dense)                (None, 16)                512       \n",
            "_________________________________________________________________\n",
            "batch_normalization_5 (Batch (None, 16)                64        \n",
            "_________________________________________________________________\n",
            "re_lu_5 (ReLU)               (None, 16)                0         \n",
            "_________________________________________________________________\n",
            "dropout (Dropout)            (None, 16)                0         \n",
            "_________________________________________________________________\n",
            "dense_1 (Dense)              (None, 1)                 17        \n",
            "=================================================================\n",
            "Total params: 6,001\n",
            "Trainable params: 5,649\n",
            "Non-trainable params: 352\n",
            "_________________________________________________________________\n"
          ]
        }
      ]
    },
    {
      "cell_type": "code",
      "metadata": {
        "colab": {
          "base_uri": "https://localhost:8080/"
        },
        "id": "MpFpu5bZeYj4",
        "outputId": "20807afc-440c-421c-d1e3-c63049b8f181"
      },
      "source": [
        "history = train_model(model, train_dataset, valid_dataset)"
      ],
      "execution_count": 12,
      "outputs": [
        {
          "output_type": "stream",
          "name": "stdout",
          "text": [
            "Epoch 1/1000\n",
            "14265/14265 - 384s - loss: 0.0880 - accuracy: 0.9657 - val_loss: 0.0442 - val_accuracy: 0.9860\n",
            "Epoch 2/1000\n",
            "14265/14265 - 327s - loss: 0.0541 - accuracy: 0.9802 - val_loss: 0.0374 - val_accuracy: 0.9875\n",
            "Epoch 3/1000\n",
            "14265/14265 - 327s - loss: 0.0487 - accuracy: 0.9823 - val_loss: 0.0325 - val_accuracy: 0.9898\n",
            "Epoch 4/1000\n",
            "14265/14265 - 327s - loss: 0.0452 - accuracy: 0.9836 - val_loss: 0.0338 - val_accuracy: 0.9882\n",
            "Epoch 5/1000\n",
            "14265/14265 - 327s - loss: 0.0437 - accuracy: 0.9842 - val_loss: 0.0306 - val_accuracy: 0.9911\n",
            "Epoch 6/1000\n",
            "14265/14265 - 326s - loss: 0.0421 - accuracy: 0.9849 - val_loss: 0.0267 - val_accuracy: 0.9918\n",
            "Epoch 7/1000\n",
            "14265/14265 - 326s - loss: 0.0410 - accuracy: 0.9852 - val_loss: 0.0292 - val_accuracy: 0.9911\n",
            "Epoch 8/1000\n",
            "14265/14265 - 327s - loss: 0.0400 - accuracy: 0.9855 - val_loss: 0.0285 - val_accuracy: 0.9905\n",
            "Epoch 9/1000\n",
            "14265/14265 - 326s - loss: 0.0395 - accuracy: 0.9859 - val_loss: 0.0316 - val_accuracy: 0.9905\n",
            "Epoch 10/1000\n",
            "14265/14265 - 326s - loss: 0.0387 - accuracy: 0.9861 - val_loss: 0.0269 - val_accuracy: 0.9918\n",
            "Epoch 11/1000\n",
            "14265/14265 - 325s - loss: 0.0381 - accuracy: 0.9863 - val_loss: 0.0266 - val_accuracy: 0.9907\n",
            "Epoch 12/1000\n",
            "14265/14265 - 326s - loss: 0.0377 - accuracy: 0.9865 - val_loss: 0.0306 - val_accuracy: 0.9896\n",
            "Epoch 13/1000\n",
            "14265/14265 - 326s - loss: 0.0373 - accuracy: 0.9866 - val_loss: 0.0283 - val_accuracy: 0.9905\n",
            "Epoch 14/1000\n",
            "14265/14265 - 326s - loss: 0.0368 - accuracy: 0.9868 - val_loss: 0.0257 - val_accuracy: 0.9922\n",
            "Epoch 15/1000\n",
            "14265/14265 - 325s - loss: 0.0365 - accuracy: 0.9869 - val_loss: 0.0254 - val_accuracy: 0.9920\n",
            "Epoch 16/1000\n",
            "14265/14265 - 325s - loss: 0.0365 - accuracy: 0.9869 - val_loss: 0.0257 - val_accuracy: 0.9918\n",
            "Epoch 17/1000\n",
            "14265/14265 - 325s - loss: 0.0359 - accuracy: 0.9871 - val_loss: 0.0241 - val_accuracy: 0.9926\n",
            "Epoch 18/1000\n",
            "14265/14265 - 325s - loss: 0.0358 - accuracy: 0.9872 - val_loss: 0.0241 - val_accuracy: 0.9918\n",
            "Epoch 19/1000\n",
            "14265/14265 - 325s - loss: 0.0357 - accuracy: 0.9872 - val_loss: 0.0252 - val_accuracy: 0.9926\n",
            "Epoch 20/1000\n",
            "14265/14265 - 326s - loss: 0.0351 - accuracy: 0.9874 - val_loss: 0.0239 - val_accuracy: 0.9922\n",
            "Epoch 21/1000\n",
            "14265/14265 - 326s - loss: 0.0349 - accuracy: 0.9874 - val_loss: 0.0198 - val_accuracy: 0.9936\n",
            "Epoch 22/1000\n",
            "14265/14265 - 327s - loss: 0.0351 - accuracy: 0.9875 - val_loss: 0.0224 - val_accuracy: 0.9934\n",
            "Epoch 23/1000\n",
            "14265/14265 - 326s - loss: 0.0348 - accuracy: 0.9876 - val_loss: 0.0219 - val_accuracy: 0.9932\n",
            "Epoch 24/1000\n",
            "14265/14265 - 326s - loss: 0.0348 - accuracy: 0.9876 - val_loss: 0.0236 - val_accuracy: 0.9936\n",
            "Epoch 25/1000\n",
            "14265/14265 - 326s - loss: 0.0345 - accuracy: 0.9876 - val_loss: 0.0239 - val_accuracy: 0.9922\n",
            "Epoch 26/1000\n",
            "14265/14265 - 325s - loss: 0.0343 - accuracy: 0.9878 - val_loss: 0.0237 - val_accuracy: 0.9934\n",
            "Epoch 27/1000\n",
            "14265/14265 - 325s - loss: 0.0342 - accuracy: 0.9878 - val_loss: 0.0245 - val_accuracy: 0.9922\n",
            "Epoch 28/1000\n",
            "14265/14265 - 325s - loss: 0.0341 - accuracy: 0.9878 - val_loss: 0.0220 - val_accuracy: 0.9928\n",
            "Epoch 29/1000\n",
            "14265/14265 - 326s - loss: 0.0341 - accuracy: 0.9879 - val_loss: 0.0234 - val_accuracy: 0.9920\n",
            "Epoch 30/1000\n",
            "14265/14265 - 326s - loss: 0.0339 - accuracy: 0.9879 - val_loss: 0.0223 - val_accuracy: 0.9939\n",
            "Epoch 31/1000\n",
            "14265/14265 - 326s - loss: 0.0335 - accuracy: 0.9881 - val_loss: 0.0220 - val_accuracy: 0.9941\n",
            "Epoch 32/1000\n",
            "14265/14265 - 327s - loss: 0.0337 - accuracy: 0.9879 - val_loss: 0.0212 - val_accuracy: 0.9937\n",
            "Epoch 33/1000\n",
            "14265/14265 - 326s - loss: 0.0338 - accuracy: 0.9879 - val_loss: 0.0228 - val_accuracy: 0.9928\n",
            "Epoch 34/1000\n",
            "14265/14265 - 325s - loss: 0.0335 - accuracy: 0.9879 - val_loss: 0.0233 - val_accuracy: 0.9926\n",
            "Epoch 35/1000\n",
            "14265/14265 - 325s - loss: 0.0334 - accuracy: 0.9880 - val_loss: 0.0224 - val_accuracy: 0.9932\n",
            "Epoch 36/1000\n",
            "14265/14265 - 326s - loss: 0.0335 - accuracy: 0.9880 - val_loss: 0.0191 - val_accuracy: 0.9936\n",
            "Epoch 37/1000\n",
            "14265/14265 - 326s - loss: 0.0331 - accuracy: 0.9882 - val_loss: 0.0261 - val_accuracy: 0.9922\n",
            "Epoch 38/1000\n",
            "14265/14265 - 326s - loss: 0.0332 - accuracy: 0.9881 - val_loss: 0.0218 - val_accuracy: 0.9926\n",
            "Epoch 39/1000\n",
            "14265/14265 - 325s - loss: 0.0329 - accuracy: 0.9882 - val_loss: 0.0223 - val_accuracy: 0.9928\n",
            "Epoch 40/1000\n",
            "14265/14265 - 325s - loss: 0.0332 - accuracy: 0.9882 - val_loss: 0.0208 - val_accuracy: 0.9936\n",
            "Epoch 41/1000\n",
            "14265/14265 - 326s - loss: 0.0329 - accuracy: 0.9883 - val_loss: 0.0212 - val_accuracy: 0.9926\n",
            "Epoch 42/1000\n",
            "14265/14265 - 325s - loss: 0.0328 - accuracy: 0.9883 - val_loss: 0.0200 - val_accuracy: 0.9937\n",
            "Epoch 43/1000\n",
            "14265/14265 - 325s - loss: 0.0327 - accuracy: 0.9884 - val_loss: 0.0207 - val_accuracy: 0.9932\n",
            "Epoch 44/1000\n",
            "14265/14265 - 324s - loss: 0.0328 - accuracy: 0.9883 - val_loss: 0.0241 - val_accuracy: 0.9920\n",
            "Epoch 45/1000\n",
            "14265/14265 - 325s - loss: 0.0325 - accuracy: 0.9884 - val_loss: 0.0240 - val_accuracy: 0.9930\n",
            "Epoch 46/1000\n",
            "14265/14265 - 326s - loss: 0.0326 - accuracy: 0.9884 - val_loss: 0.0219 - val_accuracy: 0.9928\n",
            "Epoch 47/1000\n",
            "14265/14265 - 328s - loss: 0.0326 - accuracy: 0.9884 - val_loss: 0.0219 - val_accuracy: 0.9936\n",
            "Epoch 48/1000\n",
            "14265/14265 - 325s - loss: 0.0325 - accuracy: 0.9884 - val_loss: 0.0207 - val_accuracy: 0.9932\n",
            "Epoch 49/1000\n",
            "14265/14265 - 325s - loss: 0.0327 - accuracy: 0.9884 - val_loss: 0.0225 - val_accuracy: 0.9928\n",
            "Epoch 50/1000\n",
            "14265/14265 - 328s - loss: 0.0323 - accuracy: 0.9885 - val_loss: 0.0220 - val_accuracy: 0.9928\n",
            "Epoch 51/1000\n",
            "14265/14265 - 325s - loss: 0.0327 - accuracy: 0.9883 - val_loss: 0.0215 - val_accuracy: 0.9932\n",
            "Epoch 52/1000\n",
            "14265/14265 - 325s - loss: 0.0321 - accuracy: 0.9885 - val_loss: 0.0203 - val_accuracy: 0.9932\n",
            "Epoch 53/1000\n",
            "14265/14265 - 326s - loss: 0.0323 - accuracy: 0.9885 - val_loss: 0.0205 - val_accuracy: 0.9922\n",
            "Epoch 54/1000\n",
            "14265/14265 - 326s - loss: 0.0325 - accuracy: 0.9884 - val_loss: 0.0206 - val_accuracy: 0.9932\n",
            "Epoch 55/1000\n",
            "14265/14265 - 326s - loss: 0.0322 - accuracy: 0.9886 - val_loss: 0.0237 - val_accuracy: 0.9928\n",
            "Epoch 56/1000\n",
            "14265/14265 - 326s - loss: 0.0320 - accuracy: 0.9885 - val_loss: 0.0208 - val_accuracy: 0.9936\n",
            "Epoch 57/1000\n",
            "14265/14265 - 328s - loss: 0.0321 - accuracy: 0.9887 - val_loss: 0.0211 - val_accuracy: 0.9934\n",
            "Epoch 58/1000\n",
            "14265/14265 - 326s - loss: 0.0318 - accuracy: 0.9887 - val_loss: 0.0219 - val_accuracy: 0.9926\n",
            "Epoch 59/1000\n",
            "14265/14265 - 326s - loss: 0.0318 - accuracy: 0.9887 - val_loss: 0.0217 - val_accuracy: 0.9934\n",
            "Epoch 60/1000\n",
            "14265/14265 - 330s - loss: 0.0320 - accuracy: 0.9886 - val_loss: 0.0221 - val_accuracy: 0.9930\n",
            "Epoch 61/1000\n",
            "14265/14265 - 327s - loss: 0.0321 - accuracy: 0.9885 - val_loss: 0.0239 - val_accuracy: 0.9930\n",
            "Epoch 62/1000\n",
            "14265/14265 - 326s - loss: 0.0317 - accuracy: 0.9886 - val_loss: 0.0210 - val_accuracy: 0.9934\n",
            "Epoch 63/1000\n",
            "14265/14265 - 325s - loss: 0.0319 - accuracy: 0.9886 - val_loss: 0.0242 - val_accuracy: 0.9915\n",
            "Epoch 64/1000\n",
            "14265/14265 - 326s - loss: 0.0319 - accuracy: 0.9887 - val_loss: 0.0221 - val_accuracy: 0.9928\n",
            "Epoch 65/1000\n",
            "14265/14265 - 327s - loss: 0.0320 - accuracy: 0.9886 - val_loss: 0.0213 - val_accuracy: 0.9930\n",
            "Epoch 66/1000\n",
            "14265/14265 - 328s - loss: 0.0318 - accuracy: 0.9887 - val_loss: 0.0237 - val_accuracy: 0.9918\n",
            "Epoch 67/1000\n",
            "14265/14265 - 328s - loss: 0.0320 - accuracy: 0.9886 - val_loss: 0.0224 - val_accuracy: 0.9932\n",
            "Epoch 68/1000\n",
            "14265/14265 - 326s - loss: 0.0318 - accuracy: 0.9887 - val_loss: 0.0213 - val_accuracy: 0.9932\n",
            "Epoch 69/1000\n",
            "14265/14265 - 326s - loss: 0.0317 - accuracy: 0.9888 - val_loss: 0.0214 - val_accuracy: 0.9934\n",
            "Epoch 70/1000\n",
            "14265/14265 - 327s - loss: 0.0320 - accuracy: 0.9886 - val_loss: 0.0228 - val_accuracy: 0.9928\n",
            "Epoch 71/1000\n",
            "14265/14265 - 326s - loss: 0.0314 - accuracy: 0.9887 - val_loss: 0.0230 - val_accuracy: 0.9930\n",
            "Epoch 72/1000\n",
            "14265/14265 - 326s - loss: 0.0315 - accuracy: 0.9888 - val_loss: 0.0219 - val_accuracy: 0.9917\n",
            "Epoch 73/1000\n",
            "14265/14265 - 327s - loss: 0.0314 - accuracy: 0.9888 - val_loss: 0.0249 - val_accuracy: 0.9917\n",
            "Epoch 74/1000\n",
            "14265/14265 - 327s - loss: 0.0314 - accuracy: 0.9888 - val_loss: 0.0232 - val_accuracy: 0.9930\n",
            "Epoch 75/1000\n",
            "14265/14265 - 327s - loss: 0.0315 - accuracy: 0.9887 - val_loss: 0.0237 - val_accuracy: 0.9928\n",
            "Epoch 76/1000\n",
            "14265/14265 - 326s - loss: 0.0319 - accuracy: 0.9887 - val_loss: 0.0220 - val_accuracy: 0.9934\n",
            "Epoch 77/1000\n",
            "14265/14265 - 326s - loss: 0.0315 - accuracy: 0.9888 - val_loss: 0.0211 - val_accuracy: 0.9928\n",
            "Epoch 78/1000\n",
            "14265/14265 - 326s - loss: 0.0312 - accuracy: 0.9889 - val_loss: 0.0215 - val_accuracy: 0.9930\n",
            "Epoch 79/1000\n",
            "14265/14265 - 326s - loss: 0.0313 - accuracy: 0.9887 - val_loss: 0.0220 - val_accuracy: 0.9936\n",
            "Epoch 80/1000\n",
            "14265/14265 - 326s - loss: 0.0310 - accuracy: 0.9889 - val_loss: 0.0236 - val_accuracy: 0.9928\n",
            "Epoch 81/1000\n",
            "14265/14265 - 326s - loss: 0.0315 - accuracy: 0.9887 - val_loss: 0.0256 - val_accuracy: 0.9926\n",
            "Epoch 82/1000\n",
            "14265/14265 - 325s - loss: 0.0312 - accuracy: 0.9889 - val_loss: 0.0220 - val_accuracy: 0.9930\n",
            "Epoch 83/1000\n",
            "14265/14265 - 325s - loss: 0.0313 - accuracy: 0.9888 - val_loss: 0.0216 - val_accuracy: 0.9936\n",
            "Epoch 84/1000\n",
            "14265/14265 - 325s - loss: 0.0312 - accuracy: 0.9889 - val_loss: 0.0222 - val_accuracy: 0.9930\n",
            "Epoch 85/1000\n",
            "14265/14265 - 326s - loss: 0.0310 - accuracy: 0.9890 - val_loss: 0.0206 - val_accuracy: 0.9941\n",
            "Epoch 86/1000\n",
            "14265/14265 - 326s - loss: 0.0313 - accuracy: 0.9889 - val_loss: 0.0219 - val_accuracy: 0.9941\n",
            "Epoch 87/1000\n",
            "14265/14265 - 326s - loss: 0.0310 - accuracy: 0.9889 - val_loss: 0.0232 - val_accuracy: 0.9937\n",
            "Epoch 88/1000\n",
            "14265/14265 - 326s - loss: 0.0308 - accuracy: 0.9890 - val_loss: 0.0207 - val_accuracy: 0.9932\n",
            "Epoch 89/1000\n",
            "14265/14265 - 326s - loss: 0.0308 - accuracy: 0.9890 - val_loss: 0.0238 - val_accuracy: 0.9918\n",
            "Epoch 90/1000\n",
            "14265/14265 - 325s - loss: 0.0309 - accuracy: 0.9889 - val_loss: 0.0219 - val_accuracy: 0.9932\n",
            "Epoch 91/1000\n",
            "14265/14265 - 326s - loss: 0.0306 - accuracy: 0.9890 - val_loss: 0.0234 - val_accuracy: 0.9936\n",
            "Epoch 92/1000\n",
            "14265/14265 - 326s - loss: 0.0309 - accuracy: 0.9891 - val_loss: 0.0214 - val_accuracy: 0.9937\n",
            "Epoch 93/1000\n",
            "14265/14265 - 326s - loss: 0.0311 - accuracy: 0.9889 - val_loss: 0.0224 - val_accuracy: 0.9932\n",
            "Epoch 94/1000\n",
            "14265/14265 - 326s - loss: 0.0311 - accuracy: 0.9890 - val_loss: 0.0229 - val_accuracy: 0.9932\n",
            "Epoch 95/1000\n",
            "14265/14265 - 326s - loss: 0.0307 - accuracy: 0.9890 - val_loss: 0.0222 - val_accuracy: 0.9934\n",
            "Epoch 96/1000\n",
            "14265/14265 - 327s - loss: 0.0308 - accuracy: 0.9891 - val_loss: 0.0212 - val_accuracy: 0.9928\n",
            "Epoch 97/1000\n",
            "14265/14265 - 327s - loss: 0.0306 - accuracy: 0.9890 - val_loss: 0.0243 - val_accuracy: 0.9939\n",
            "Epoch 98/1000\n",
            "14265/14265 - 326s - loss: 0.0309 - accuracy: 0.9889 - val_loss: 0.0214 - val_accuracy: 0.9930\n",
            "Epoch 99/1000\n",
            "14265/14265 - 327s - loss: 0.0308 - accuracy: 0.9891 - val_loss: 0.0227 - val_accuracy: 0.9936\n",
            "Epoch 100/1000\n",
            "14265/14265 - 326s - loss: 0.0305 - accuracy: 0.9891 - val_loss: 0.0219 - val_accuracy: 0.9936\n",
            "Epoch 101/1000\n",
            "14265/14265 - 326s - loss: 0.0311 - accuracy: 0.9889 - val_loss: 0.0194 - val_accuracy: 0.9941\n",
            "Epoch 102/1000\n",
            "14265/14265 - 327s - loss: 0.0304 - accuracy: 0.9892 - val_loss: 0.0217 - val_accuracy: 0.9941\n",
            "Epoch 103/1000\n",
            "14265/14265 - 327s - loss: 0.0307 - accuracy: 0.9892 - val_loss: 0.0217 - val_accuracy: 0.9932\n",
            "Epoch 104/1000\n",
            "14265/14265 - 326s - loss: 0.0306 - accuracy: 0.9891 - val_loss: 0.0232 - val_accuracy: 0.9928\n",
            "Epoch 105/1000\n",
            "14265/14265 - 327s - loss: 0.0307 - accuracy: 0.9891 - val_loss: 0.0219 - val_accuracy: 0.9939\n",
            "Epoch 106/1000\n",
            "14265/14265 - 327s - loss: 0.0306 - accuracy: 0.9891 - val_loss: 0.0218 - val_accuracy: 0.9937\n",
            "Epoch 107/1000\n",
            "14265/14265 - 331s - loss: 0.0306 - accuracy: 0.9892 - val_loss: 0.0229 - val_accuracy: 0.9939\n",
            "Epoch 108/1000\n",
            "14265/14265 - 327s - loss: 0.0307 - accuracy: 0.9890 - val_loss: 0.0220 - val_accuracy: 0.9934\n",
            "Epoch 109/1000\n",
            "14265/14265 - 327s - loss: 0.0308 - accuracy: 0.9890 - val_loss: 0.0212 - val_accuracy: 0.9941\n",
            "Epoch 110/1000\n",
            "14265/14265 - 327s - loss: 0.0306 - accuracy: 0.9890 - val_loss: 0.0215 - val_accuracy: 0.9939\n",
            "Epoch 111/1000\n",
            "14265/14265 - 326s - loss: 0.0305 - accuracy: 0.9891 - val_loss: 0.0217 - val_accuracy: 0.9941\n",
            "Epoch 112/1000\n",
            "14265/14265 - 326s - loss: 0.0305 - accuracy: 0.9891 - val_loss: 0.0214 - val_accuracy: 0.9943\n",
            "Epoch 113/1000\n",
            "14265/14265 - 326s - loss: 0.0304 - accuracy: 0.9892 - val_loss: 0.0229 - val_accuracy: 0.9936\n",
            "Epoch 114/1000\n",
            "14265/14265 - 327s - loss: 0.0305 - accuracy: 0.9890 - val_loss: 0.0222 - val_accuracy: 0.9936\n",
            "Epoch 115/1000\n",
            "14265/14265 - 326s - loss: 0.0305 - accuracy: 0.9891 - val_loss: 0.0209 - val_accuracy: 0.9943\n",
            "Epoch 116/1000\n",
            "14265/14265 - 326s - loss: 0.0304 - accuracy: 0.9892 - val_loss: 0.0221 - val_accuracy: 0.9936\n",
            "Epoch 117/1000\n",
            "14265/14265 - 326s - loss: 0.0305 - accuracy: 0.9891 - val_loss: 0.0198 - val_accuracy: 0.9947\n",
            "Epoch 118/1000\n",
            "14265/14265 - 326s - loss: 0.0304 - accuracy: 0.9892 - val_loss: 0.0213 - val_accuracy: 0.9941\n",
            "Epoch 119/1000\n",
            "14265/14265 - 326s - loss: 0.0303 - accuracy: 0.9892 - val_loss: 0.0228 - val_accuracy: 0.9939\n",
            "Epoch 120/1000\n",
            "14265/14265 - 326s - loss: 0.0303 - accuracy: 0.9891 - val_loss: 0.0215 - val_accuracy: 0.9934\n",
            "Epoch 121/1000\n",
            "14265/14265 - 327s - loss: 0.0303 - accuracy: 0.9893 - val_loss: 0.0212 - val_accuracy: 0.9945\n",
            "Epoch 122/1000\n",
            "14265/14265 - 326s - loss: 0.0303 - accuracy: 0.9892 - val_loss: 0.0227 - val_accuracy: 0.9941\n",
            "Epoch 123/1000\n",
            "14265/14265 - 336s - loss: 0.0303 - accuracy: 0.9892 - val_loss: 0.0221 - val_accuracy: 0.9939\n",
            "Epoch 124/1000\n",
            "14265/14265 - 357s - loss: 0.0302 - accuracy: 0.9893 - val_loss: 0.0213 - val_accuracy: 0.9937\n",
            "Epoch 125/1000\n",
            "14265/14265 - 326s - loss: 0.0303 - accuracy: 0.9892 - val_loss: 0.0207 - val_accuracy: 0.9932\n",
            "Epoch 126/1000\n",
            "14265/14265 - 326s - loss: 0.0301 - accuracy: 0.9893 - val_loss: 0.0218 - val_accuracy: 0.9941\n",
            "Epoch 127/1000\n",
            "14265/14265 - 326s - loss: 0.0304 - accuracy: 0.9891 - val_loss: 0.0223 - val_accuracy: 0.9934\n",
            "Epoch 128/1000\n",
            "14265/14265 - 326s - loss: 0.0304 - accuracy: 0.9891 - val_loss: 0.0204 - val_accuracy: 0.9937\n",
            "Epoch 129/1000\n",
            "14265/14265 - 326s - loss: 0.0303 - accuracy: 0.9892 - val_loss: 0.0229 - val_accuracy: 0.9928\n",
            "Epoch 130/1000\n",
            "14265/14265 - 352s - loss: 0.0303 - accuracy: 0.9892 - val_loss: 0.0194 - val_accuracy: 0.9945\n",
            "Epoch 131/1000\n",
            "14265/14265 - 326s - loss: 0.0302 - accuracy: 0.9892 - val_loss: 0.0234 - val_accuracy: 0.9936\n",
            "Epoch 132/1000\n",
            "14265/14265 - 326s - loss: 0.0299 - accuracy: 0.9893 - val_loss: 0.0214 - val_accuracy: 0.9943\n",
            "Epoch 133/1000\n",
            "14265/14265 - 325s - loss: 0.0301 - accuracy: 0.9892 - val_loss: 0.0219 - val_accuracy: 0.9936\n",
            "Epoch 134/1000\n",
            "14265/14265 - 325s - loss: 0.0302 - accuracy: 0.9892 - val_loss: 0.0214 - val_accuracy: 0.9936\n",
            "Epoch 135/1000\n",
            "14265/14265 - 325s - loss: 0.0301 - accuracy: 0.9892 - val_loss: 0.0225 - val_accuracy: 0.9932\n",
            "Epoch 136/1000\n",
            "14265/14265 - 325s - loss: 0.0301 - accuracy: 0.9893 - val_loss: 0.0212 - val_accuracy: 0.9943\n",
            "Restoring model weights from the end of the best epoch.\n",
            "Epoch 00136: early stopping\n"
          ]
        }
      ]
    },
    {
      "cell_type": "code",
      "metadata": {
        "colab": {
          "base_uri": "https://localhost:8080/",
          "height": 313
        },
        "id": "2t2H8UlDWSBA",
        "outputId": "2f208f15-1c6c-491f-a41e-d9240ec1e9dc"
      },
      "source": [
        "plt.plot(history.history['loss'])\n",
        "plt.plot(history.history['val_loss'])\n",
        "plt.title('Model loss')\n",
        "plt.ylabel('Loss')\n",
        "plt.xlabel('Epoch')\n",
        "plt.legend(['Train', 'Valid'], loc='upper right')"
      ],
      "execution_count": 13,
      "outputs": [
        {
          "output_type": "execute_result",
          "data": {
            "text/plain": [
              "<matplotlib.legend.Legend at 0x7fcabd9dccf8>"
            ]
          },
          "metadata": {},
          "execution_count": 13
        },
        {
          "output_type": "display_data",
          "data": {
            "text/plain": [
              "<Figure size 936x288 with 1 Axes>"
            ],
            "image/png": "[encoded data removed]"
          },
          "metadata": {
            "needs_background": "light"
          }
        }
      ]
    },
    {
      "cell_type": "code",
      "metadata": {
        "colab": {
          "base_uri": "https://localhost:8080/",
          "height": 313
        },
        "id": "XLAAQk3KWTkq",
        "outputId": "3d0b7dad-76b2-4e06-d30e-7680a533a113"
      },
      "source": [
        "plt.plot(history.history['accuracy'])\n",
        "plt.plot(history.history['val_accuracy'])\n",
        "plt.title('Model accuracy')\n",
        "plt.ylabel('Accuracy')\n",
        "plt.xlabel('Epoch')\n",
        "plt.legend(['Train', 'Valid'], loc='lower right')"
      ],
      "execution_count": 14,
      "outputs": [
        {
          "output_type": "execute_result",
          "data": {
            "text/plain": [
              "<matplotlib.legend.Legend at 0x7fcabd94e3c8>"
            ]
          },
          "metadata": {},
          "execution_count": 14
        },
        {
          "output_type": "display_data",
          "data": {
            "text/plain": [
              "<Figure size 936x288 with 1 Axes>"
            ],
            "image/png": "[encoded data removed]"
          },
          "metadata": {
            "needs_background": "light"
          }
        }
      ]
    },
    {
      "cell_type": "code",
      "metadata": {
        "colab": {
          "base_uri": "https://localhost:8080/"
        },
        "id": "3I8fIWqYsTTT",
        "outputId": "128e963e-8c8a-4e5f-8652-076a37f18ee4"
      },
      "source": [
        "results = model.evaluate(train_dataset.batch(8192), verbose=0)\n",
        "print('train loss, train acc:', results)\n",
        "results = model.evaluate(test_dataset.batch(512), verbose=0)\n",
        "print('test loss, test acc:', results)\n",
        "results = model.evaluate(valid_dataset.batch(512), verbose=0)\n",
        "print('valid loss, valid acc:', results)"
      ],
      "execution_count": 15,
      "outputs": [
        {
          "output_type": "stream",
          "name": "stdout",
          "text": [
            "train loss, train acc: [0.016179345548152924, 0.9948329329490662]\n",
            "test loss, test acc: [0.0193141158670187, 0.994413435459137]\n",
            "valid loss, valid acc: [0.0191042460501194, 0.9935557246208191]\n"
          ]
        }
      ]
    },
    {
      "cell_type": "code",
      "metadata": {
        "id": "RSIMDvP7XL0z",
        "colab": {
          "base_uri": "https://localhost:8080/"
        },
        "outputId": "64bc1bd6-9873-40cd-fb63-ed42a76fcbc7"
      },
      "source": [
        "pred = model.predict(test_dataset.batch(512)).squeeze(-1) > 0\n",
        "print(np.sum(pred != list(test_dataset.map(lambda x, y: y))), test_dataset.cardinality().numpy())\n",
        "pred = model.predict(valid_dataset.batch(512)).squeeze(-1) > 0\n",
        "print(np.sum(pred != list(valid_dataset.map(lambda x, y: y))), valid_dataset.cardinality().numpy())"
      ],
      "execution_count": 16,
      "outputs": [
        {
          "output_type": "stream",
          "name": "stdout",
          "text": [
            "38 6086\n",
            "33 5276\n"
          ]
        }
      ]
    },
    {
      "cell_type": "code",
      "metadata": {
        "id": "chpjeHQVWazQ",
        "colab": {
          "base_uri": "https://localhost:8080/"
        },
        "outputId": "2ee58c3e-1819-4f10-9cde-9947d9e18e30"
      },
      "source": [
        "stream_model = build_model(True)\n",
        "for layer in stream_model.layers:\n",
        "  if layer.get_weights():\n",
        "    print(\"Transfer weights for layer {}\".format(layer.name))\n",
        "    layer.set_weights(model.get_layer(name=layer.name).get_weights())"
      ],
      "execution_count": 17,
      "outputs": [
        {
          "output_type": "stream",
          "name": "stdout",
          "text": [
            "Transfer weights for layer dense\n",
            "Transfer weights for layer batch_normalization_5\n",
            "Transfer weights for layer conv2d\n",
            "Transfer weights for layer separable_conv2d\n",
            "Transfer weights for layer separable_conv2d_1\n",
            "Transfer weights for layer separable_conv2d_2\n",
            "Transfer weights for layer separable_conv2d_3\n",
            "Transfer weights for layer batch_normalization\n",
            "Transfer weights for layer batch_normalization_1\n",
            "Transfer weights for layer batch_normalization_2\n",
            "Transfer weights for layer batch_normalization_3\n",
            "Transfer weights for layer batch_normalization_4\n",
            "Transfer weights for layer dense_1\n"
          ]
        }
      ]
    },
    {
      "cell_type": "code",
      "metadata": {
        "id": "w_UWOOb72I06",
        "colab": {
          "base_uri": "https://localhost:8080/"
        },
        "outputId": "241d4606-5870-41ce-df00-d94455277bcb"
      },
      "source": [
        "converter = tf.lite.TFLiteConverter.from_keras_model(stream_model)\n",
        "tflite_model = converter.convert()\n",
        "with open(\"dcnn13.bin.tflite\", \"wb\") as f:\n",
        "  f.write(tflite_model)"
      ],
      "execution_count": 18,
      "outputs": [
        {
          "output_type": "stream",
          "name": "stdout",
          "text": [
            "WARNING:tensorflow:Compiled the loaded model, but the compiled metrics have yet to be built. `model.compile_metrics` will be empty until you train or evaluate the model.\n",
            "INFO:tensorflow:Assets written to: /tmp/tmpyjmof62x/assets\n"
          ]
        }
      ]
    },
    {
      "cell_type": "code",
      "metadata": {
        "id": "sN7FZnLM2d8V",
        "colab": {
          "base_uri": "https://localhost:8080/"
        },
        "outputId": "d2e16253-dd17-435a-ad35-0cb5b0d4ea31"
      },
      "source": [
        "!md5sum 'dcnn13.bin.tflite'"
      ],
      "execution_count": 19,
      "outputs": [
        {
          "output_type": "stream",
          "name": "stdout",
          "text": [
            "1a9f3dd322377511b6f15f4070c627c3  dcnn13.bin.tflite\r\n"
          ]
        }
      ]
    }
  ]
}