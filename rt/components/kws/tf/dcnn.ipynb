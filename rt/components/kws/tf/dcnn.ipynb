{
  "nbformat": 4,
  "nbformat_minor": 0,
  "metadata": {
    "colab": {
      "name": "dcnn.ipynb",
      "provenance": [],
      "collapsed_sections": [],
      "machine_shape": "hm"
    },
    "kernelspec": {
      "name": "python3",
      "display_name": "Python 3"
    },
    "accelerator": "GPU"
  },
  "cells": [
    {
      "cell_type": "code",
      "metadata": {
        "id": "qwY3lBm83jqO",
        "colab_type": "code",
        "colab": {
          "base_uri": "https://localhost:8080/",
          "height": 369
        },
        "outputId": "5e5ce54b-2771-4060-c8cd-8573bd56c3e1"
      },
      "source": [
        "!nvidia-smi"
      ],
      "execution_count": 2,
      "outputs": [
        {
          "output_type": "stream",
          "text": [
            "Sun Sep 20 10:12:18 2020       \n",
            "+-----------------------------------------------------------------------------+\n",
            "| NVIDIA-SMI 450.66       Driver Version: 418.67       CUDA Version: 10.1     |\n",
            "|-------------------------------+----------------------+----------------------+\n",
            "| GPU  Name        Persistence-M| Bus-Id        Disp.A | Volatile Uncorr. ECC |\n",
            "| Fan  Temp  Perf  Pwr:Usage/Cap|         Memory-Usage | GPU-Util  Compute M. |\n",
            "|                               |                      |               MIG M. |\n",
            "|===============================+======================+======================|\n",
            "|   0  Tesla P100-PCIE...  Off  | 00000000:00:04.0 Off |                    0 |\n",
            "| N/A   34C    P0    26W / 250W |      0MiB / 16280MiB |      0%      Default |\n",
            "|                               |                      |                 ERR! |\n",
            "+-------------------------------+----------------------+----------------------+\n",
            "                                                                               \n",
            "+-----------------------------------------------------------------------------+\n",
            "| Processes:                                                                  |\n",
            "|  GPU   GI   CI        PID   Type   Process name                  GPU Memory |\n",
            "|        ID   ID                                                   Usage      |\n",
            "|=============================================================================|\n",
            "|  No running processes found                                                 |\n",
            "+-----------------------------------------------------------------------------+\n"
          ],
          "name": "stdout"
        }
      ]
    },
    {
      "cell_type": "code",
      "metadata": {
        "id": "5T3UOLCpGUmg",
        "colab_type": "code",
        "colab": {
          "base_uri": "https://localhost:8080/",
          "height": 34
        },
        "outputId": "e17c3837-1b4e-4c25-a845-3a35e7aac95c"
      },
      "source": [
        "%tensorflow_version 2.x\n",
        "import matplotlib.pyplot as plt\n",
        "import numpy as np\n",
        "from tensorflow import keras\n",
        "import tensorflow as tf\n",
        "print(tf.__version__)"
      ],
      "execution_count": 3,
      "outputs": [
        {
          "output_type": "stream",
          "text": [
            "2.3.0\n"
          ],
          "name": "stdout"
        }
      ]
    },
    {
      "cell_type": "code",
      "metadata": {
        "id": "l_6NYiKJ7qzN",
        "colab_type": "code",
        "colab": {}
      },
      "source": [
        "# https://github.com/42io/dataset/tree/master/google_speech_commands\n",
        "DATASET_FILE = '1NgIw6JrdjDcRhnAxbheqtAcV5Fr-wUJu' # 0-9up.npz"
      ],
      "execution_count": 4,
      "outputs": []
    },
    {
      "cell_type": "code",
      "metadata": {
        "id": "J4KjyC2X_ZyQ",
        "colab_type": "code",
        "colab": {
          "base_uri": "https://localhost:8080/",
          "height": 87
        },
        "outputId": "0d50a23b-0c72-4df5-f60a-860c540d0510"
      },
      "source": [
        "!test -f \"$DATASET_FILE\" || gdown --id \"$DATASET_FILE\" -O \"$DATASET_FILE\""
      ],
      "execution_count": 5,
      "outputs": [
        {
          "output_type": "stream",
          "text": [
            "Downloading...\n",
            "From: https://drive.google.com/uc?id=1NgIw6JrdjDcRhnAxbheqtAcV5Fr-wUJu\n",
            "To: /content/1NgIw6JrdjDcRhnAxbheqtAcV5Fr-wUJu\n",
            "2.59GB [00:31, 83.5MB/s]\n"
          ],
          "name": "stdout"
        }
      ]
    },
    {
      "cell_type": "code",
      "metadata": {
        "id": "kIdWKJAOu_p9",
        "colab_type": "code",
        "colab": {}
      },
      "source": [
        "md5 = !md5sum \"$DATASET_FILE\"\n",
        "assert '54821a74684e7bbb9b3acd853960d9cd' == md5[0].split()[0]"
      ],
      "execution_count": 6,
      "outputs": []
    },
    {
      "cell_type": "code",
      "metadata": {
        "id": "b7CYwmbKGb0h",
        "colab_type": "code",
        "colab": {
          "base_uri": "https://localhost:8080/",
          "height": 34
        },
        "outputId": "8b15388a-2239-4c04-dd53-370b9bbc2f92"
      },
      "source": [
        "dset = np.load(DATASET_FILE)\n",
        "print(dset['x_train'].shape)"
      ],
      "execution_count": 7,
      "outputs": [
        {
          "output_type": "stream",
          "text": [
            "(1095480, 637)\n"
          ],
          "name": "stdout"
        }
      ]
    },
    {
      "cell_type": "code",
      "metadata": {
        "id": "tus9FNQ1pYnO",
        "colab_type": "code",
        "colab": {}
      },
      "source": [
        "x_train, x_test, x_valid = (\n",
        "    dset[i].reshape(-1, 49, 13)[:,1:-1]\n",
        "    for i in ['x_train', 'x_test', 'x_valid']\n",
        ")\n",
        "y_train = dset['y_train']\n",
        "y_test  = dset['y_test']\n",
        "y_valid = dset['y_valid']"
      ],
      "execution_count": 8,
      "outputs": []
    },
    {
      "cell_type": "code",
      "metadata": {
        "id": "Xcj5MHTAKYwv",
        "colab_type": "code",
        "colab": {}
      },
      "source": [
        "def spectrogram_masking(spectrogram, dim=1, masks_number=2, mask_max_size=5):\n",
        "  \"\"\"Spectrogram masking on frequency or time dimension.\n",
        "  Args:\n",
        "    spectrogram: Input spectrum [batch, time, frequency]\n",
        "    dim: dimension on which masking will be applied: 1 - time; 2 - frequency\n",
        "    masks_number: number of masks\n",
        "    mask_max_size: mask max size\n",
        "  Returns:\n",
        "    masked spectrogram\n",
        "  \"\"\"\n",
        "  if dim not in (1, 2):\n",
        "    raise ValueError('Wrong dim value: %d' % dim)\n",
        "  input_shape = spectrogram.shape\n",
        "  time_size, frequency_size = input_shape[1:3]\n",
        "  dim_size = input_shape[dim]  # size of dimension on which mask is applied\n",
        "  stripe_shape = [1, time_size, frequency_size]\n",
        "  for _ in range(masks_number):\n",
        "    mask_end = tf.random.uniform([], 0, mask_max_size, tf.int32)\n",
        "    mask_start = tf.random.uniform([], 0, dim_size - mask_end, tf.int32)\n",
        "\n",
        "    # initialize stripes with stripe_shape\n",
        "    stripe_ones_left = list(stripe_shape)\n",
        "    stripe_zeros_center = list(stripe_shape)\n",
        "    stripe_ones_right = list(stripe_shape)\n",
        "\n",
        "    # update stripes dim\n",
        "    stripe_ones_left[dim] = dim_size - mask_start - mask_end\n",
        "    stripe_zeros_center[dim] = mask_end\n",
        "    stripe_ones_right[dim] = mask_start\n",
        "\n",
        "    # generate mask\n",
        "    mask = tf.concat((\n",
        "        tf.ones(stripe_ones_left, spectrogram.dtype),\n",
        "        tf.zeros(stripe_zeros_center, spectrogram.dtype),\n",
        "        tf.ones(stripe_ones_right, spectrogram.dtype),\n",
        "    ), dim)\n",
        "    spectrogram = spectrogram * mask\n",
        "  return spectrogram"
      ],
      "execution_count": 9,
      "outputs": []
    },
    {
      "cell_type": "code",
      "metadata": {
        "id": "kjLWG3zlMNgV",
        "colab_type": "code",
        "colab": {}
      },
      "source": [
        "plt.rc('figure', figsize=(13, 4))"
      ],
      "execution_count": 10,
      "outputs": []
    },
    {
      "cell_type": "code",
      "metadata": {
        "id": "5HrYYxMxO98s",
        "colab_type": "code",
        "colab": {
          "base_uri": "https://localhost:8080/",
          "height": 266
        },
        "outputId": "5250b9cb-8492-417d-d79f-f476abf9ac5d"
      },
      "source": [
        "plt.imshow(x_train[0].T)"
      ],
      "execution_count": 11,
      "outputs": [
        {
          "output_type": "execute_result",
          "data": {
            "text/plain": [
              "<matplotlib.image.AxesImage at 0x7f1a5c113e10>"
            ]
          },
          "metadata": {
            "tags": []
          },
          "execution_count": 11
        },
        {
          "output_type": "display_data",
          "data": {
            "image/png": "[encoded data removed]",
            "text/plain": [
              "<Figure size 936x288 with 1 Axes>"
            ]
          },
          "metadata": {
            "tags": [],
            "needs_background": "light"
          }
        }
      ]
    },
    {
      "cell_type": "code",
      "metadata": {
        "id": "Qd7LudpySbAw",
        "colab_type": "code",
        "colab": {
          "base_uri": "https://localhost:8080/",
          "height": 266
        },
        "outputId": "8fe0c0dd-57f9-4e2d-968e-94107753a668"
      },
      "source": [
        "plt.imshow(spectrogram_masking(x_train[0:1], 1, 3, 3).numpy()[0].T)"
      ],
      "execution_count": 12,
      "outputs": [
        {
          "output_type": "execute_result",
          "data": {
            "text/plain": [
              "<matplotlib.image.AxesImage at 0x7f1a500953c8>"
            ]
          },
          "metadata": {
            "tags": []
          },
          "execution_count": 12
        },
        {
          "output_type": "display_data",
          "data": {
            "image/png": "[encoded data removed]",
            "text/plain": [
              "<Figure size 936x288 with 1 Axes>"
            ]
          },
          "metadata": {
            "tags": [],
            "needs_background": "light"
          }
        }
      ]
    },
    {
      "cell_type": "code",
      "metadata": {
        "id": "IoN9JdEvTRFm",
        "colab_type": "code",
        "colab": {
          "base_uri": "https://localhost:8080/",
          "height": 266
        },
        "outputId": "8b5bfad2-16b6-4774-9dc1-0c7f847efe96"
      },
      "source": [
        "plt.imshow(spectrogram_masking(x_train[0:1], 2, 2, 2).numpy()[0].T)"
      ],
      "execution_count": 13,
      "outputs": [
        {
          "output_type": "execute_result",
          "data": {
            "text/plain": [
              "<matplotlib.image.AxesImage at 0x7f1a5c5890b8>"
            ]
          },
          "metadata": {
            "tags": []
          },
          "execution_count": 13
        },
        {
          "output_type": "display_data",
          "data": {
            "image/png": "[encoded data removed]",
            "text/plain": [
              "<Figure size 936x288 with 1 Axes>"
            ]
          },
          "metadata": {
            "tags": [],
            "needs_background": "light"
          }
        }
      ]
    },
    {
      "cell_type": "code",
      "metadata": {
        "id": "O1qBLgZrFhOa",
        "colab_type": "code",
        "colab": {}
      },
      "source": [
        "train_dataset = tf.data.Dataset.from_tensor_slices((x_train, y_train))\n",
        "train_dataset = train_dataset.shuffle(len(x_train))\n",
        "train_dataset = train_dataset.batch(512)\n",
        "train_dataset = train_dataset.map(lambda x, y: (spectrogram_masking(x, 1, 3, 3), y))\n",
        "train_dataset = train_dataset.map(lambda x, y: (spectrogram_masking(x, 2, 2, 2), y))"
      ],
      "execution_count": 14,
      "outputs": []
    },
    {
      "cell_type": "code",
      "metadata": {
        "id": "A8bILLvdZxH0",
        "colab_type": "code",
        "colab": {
          "base_uri": "https://localhost:8080/",
          "height": 266
        },
        "outputId": "0ded6853-5aca-4582-be93-efc6fdaf6e7a"
      },
      "source": [
        "plt.imshow(list(train_dataset.take(1))[0][0][0].numpy().T)"
      ],
      "execution_count": 15,
      "outputs": [
        {
          "output_type": "execute_result",
          "data": {
            "text/plain": [
              "<matplotlib.image.AxesImage at 0x7f19fe065978>"
            ]
          },
          "metadata": {
            "tags": []
          },
          "execution_count": 15
        },
        {
          "output_type": "display_data",
          "data": {
            "image/png": "[encoded data removed]",
            "text/plain": [
              "<Figure size 936x288 with 1 Axes>"
            ]
          },
          "metadata": {
            "tags": [],
            "needs_background": "light"
          }
        }
      ]
    },
    {
      "cell_type": "code",
      "metadata": {
        "id": "hP5H5d2z_SpG",
        "colab_type": "code",
        "colab": {
          "base_uri": "https://localhost:8080/",
          "height": 1000
        },
        "outputId": "70879126-fb9d-411a-d59d-e808bdef45ed"
      },
      "source": [
        "x = x_in = keras.Input(shape=(47, 13))\n",
        "\n",
        "x = keras.layers.Reshape((47, 1, 13))(x)\n",
        "\n",
        "x = keras.layers.Conv2D(64, 1, padding=\"same\", use_bias=False)(x)\n",
        "x = keras.layers.BatchNormalization()(x)\n",
        "x = keras.layers.ReLU()(x)\n",
        "x = keras.layers.SpatialDropout2D(0.1)(x)\n",
        "\n",
        "for p, f in zip([2, 2, 12], [64, 64, 64]):\n",
        "  x = keras.layers.DepthwiseConv2D([3, 1], padding=\"same\", use_bias=False)(x)\n",
        "  x = keras.layers.BatchNormalization()(x)\n",
        "  x = keras.layers.ReLU()(x)\n",
        "  x = keras.layers.SeparableConv2D(f, [3, 1], padding=\"same\", use_bias=False)(x)\n",
        "  x = keras.layers.BatchNormalization()(x)\n",
        "  x = keras.layers.ReLU()(x)\n",
        "  x = keras.layers.SpatialDropout2D(f / 640)(x)\n",
        "  x = keras.layers.AveragePooling2D([p, 1], padding=\"same\")(x)\n",
        "\n",
        "x = keras.layers.Flatten()(x)\n",
        "\n",
        "x = keras.layers.Dense(32, use_bias=False)(x)\n",
        "x = keras.layers.BatchNormalization()(x)\n",
        "x = keras.layers.ReLU()(x)\n",
        "\n",
        "x = keras.layers.Dense(12, activation='softmax')(x)\n",
        "\n",
        "model = keras.Model(inputs=x_in, outputs=x)\n",
        "\n",
        "model.summary()\n",
        "\n",
        "model.compile(loss=keras.losses.sparse_categorical_crossentropy,\n",
        "              optimizer=keras.optimizers.Adam(),\n",
        "              metrics=['accuracy'])"
      ],
      "execution_count": 16,
      "outputs": [
        {
          "output_type": "stream",
          "text": [
            "Model: \"functional_1\"\n",
            "_________________________________________________________________\n",
            "Layer (type)                 Output Shape              Param #   \n",
            "=================================================================\n",
            "input_1 (InputLayer)         [(None, 47, 13)]          0         \n",
            "_________________________________________________________________\n",
            "reshape (Reshape)            (None, 47, 1, 13)         0         \n",
            "_________________________________________________________________\n",
            "conv2d (Conv2D)              (None, 47, 1, 64)         832       \n",
            "_________________________________________________________________\n",
            "batch_normalization (BatchNo (None, 47, 1, 64)         256       \n",
            "_________________________________________________________________\n",
            "re_lu (ReLU)                 (None, 47, 1, 64)         0         \n",
            "_________________________________________________________________\n",
            "spatial_dropout2d (SpatialDr (None, 47, 1, 64)         0         \n",
            "_________________________________________________________________\n",
            "depthwise_conv2d (DepthwiseC (None, 47, 1, 64)         192       \n",
            "_________________________________________________________________\n",
            "batch_normalization_1 (Batch (None, 47, 1, 64)         256       \n",
            "_________________________________________________________________\n",
            "re_lu_1 (ReLU)               (None, 47, 1, 64)         0         \n",
            "_________________________________________________________________\n",
            "separable_conv2d (SeparableC (None, 47, 1, 64)         4288      \n",
            "_________________________________________________________________\n",
            "batch_normalization_2 (Batch (None, 47, 1, 64)         256       \n",
            "_________________________________________________________________\n",
            "re_lu_2 (ReLU)               (None, 47, 1, 64)         0         \n",
            "_________________________________________________________________\n",
            "spatial_dropout2d_1 (Spatial (None, 47, 1, 64)         0         \n",
            "_________________________________________________________________\n",
            "average_pooling2d (AveragePo (None, 24, 1, 64)         0         \n",
            "_________________________________________________________________\n",
            "depthwise_conv2d_1 (Depthwis (None, 24, 1, 64)         192       \n",
            "_________________________________________________________________\n",
            "batch_normalization_3 (Batch (None, 24, 1, 64)         256       \n",
            "_________________________________________________________________\n",
            "re_lu_3 (ReLU)               (None, 24, 1, 64)         0         \n",
            "_________________________________________________________________\n",
            "separable_conv2d_1 (Separabl (None, 24, 1, 64)         4288      \n",
            "_________________________________________________________________\n",
            "batch_normalization_4 (Batch (None, 24, 1, 64)         256       \n",
            "_________________________________________________________________\n",
            "re_lu_4 (ReLU)               (None, 24, 1, 64)         0         \n",
            "_________________________________________________________________\n",
            "spatial_dropout2d_2 (Spatial (None, 24, 1, 64)         0         \n",
            "_________________________________________________________________\n",
            "average_pooling2d_1 (Average (None, 12, 1, 64)         0         \n",
            "_________________________________________________________________\n",
            "depthwise_conv2d_2 (Depthwis (None, 12, 1, 64)         192       \n",
            "_________________________________________________________________\n",
            "batch_normalization_5 (Batch (None, 12, 1, 64)         256       \n",
            "_________________________________________________________________\n",
            "re_lu_5 (ReLU)               (None, 12, 1, 64)         0         \n",
            "_________________________________________________________________\n",
            "separable_conv2d_2 (Separabl (None, 12, 1, 64)         4288      \n",
            "_________________________________________________________________\n",
            "batch_normalization_6 (Batch (None, 12, 1, 64)         256       \n",
            "_________________________________________________________________\n",
            "re_lu_6 (ReLU)               (None, 12, 1, 64)         0         \n",
            "_________________________________________________________________\n",
            "spatial_dropout2d_3 (Spatial (None, 12, 1, 64)         0         \n",
            "_________________________________________________________________\n",
            "average_pooling2d_2 (Average (None, 1, 1, 64)          0         \n",
            "_________________________________________________________________\n",
            "flatten (Flatten)            (None, 64)                0         \n",
            "_________________________________________________________________\n",
            "dense (Dense)                (None, 32)                2048      \n",
            "_________________________________________________________________\n",
            "batch_normalization_7 (Batch (None, 32)                128       \n",
            "_________________________________________________________________\n",
            "re_lu_7 (ReLU)               (None, 32)                0         \n",
            "_________________________________________________________________\n",
            "dense_1 (Dense)              (None, 12)                396       \n",
            "=================================================================\n",
            "Total params: 18,636\n",
            "Trainable params: 17,676\n",
            "Non-trainable params: 960\n",
            "_________________________________________________________________\n"
          ],
          "name": "stdout"
        }
      ]
    },
    {
      "cell_type": "code",
      "metadata": {
        "id": "2mZMarEqIHF1",
        "colab_type": "code",
        "colab": {}
      },
      "source": [
        "early_stopping = keras.callbacks.EarlyStopping(\n",
        "        monitor='val_loss',\n",
        "        mode='min',\n",
        "        verbose=1,\n",
        "        patience=500,\n",
        "        restore_best_weights=True)\n",
        "\n",
        "history = model.fit(train_dataset,\n",
        "                    validation_data=(x_valid, y_valid),\n",
        "                    callbacks=[early_stopping],\n",
        "                    verbose=2,\n",
        "                    epochs=100500)"
      ],
      "execution_count": null,
      "outputs": []
    },
    {
      "cell_type": "code",
      "metadata": {
        "id": "MpFpu5bZeYj4",
        "colab_type": "code",
        "colab": {
          "base_uri": "https://localhost:8080/",
          "height": 590
        },
        "outputId": "d7646b94-242f-41d8-89a4-20db7696326f"
      },
      "source": [
        "print(history.history.keys())\n",
        "\n",
        "# Plot training & validation accuracy values\n",
        "plt.plot(history.history['accuracy'])\n",
        "plt.plot(history.history['val_accuracy'])\n",
        "plt.title('Model accuracy')\n",
        "plt.ylabel('Accuracy')\n",
        "plt.xlabel('Epoch')\n",
        "plt.legend(['Train', 'Valid'], loc='lower right')\n",
        "plt.show()\n",
        "\n",
        "# Plot training & validation loss values\n",
        "plt.plot(history.history['loss'])\n",
        "plt.plot(history.history['val_loss'])\n",
        "plt.title('Model loss')\n",
        "plt.ylabel('Loss')\n",
        "plt.xlabel('Epoch')\n",
        "plt.legend(['Train', 'Valid'], loc='upper right')\n",
        "plt.show()"
      ],
      "execution_count": 18,
      "outputs": [
        {
          "output_type": "stream",
          "text": [
            "dict_keys(['loss', 'accuracy', 'val_loss', 'val_accuracy'])\n"
          ],
          "name": "stdout"
        },
        {
          "output_type": "display_data",
          "data": {
            "image/png": "[encoded data removed]",
            "text/plain": [
              "<Figure size 936x288 with 1 Axes>"
            ]
          },
          "metadata": {
            "tags": [],
            "needs_background": "light"
          }
        },
        {
          "output_type": "display_data",
          "data": {
            "image/png": "[encoded data removed]",
            "text/plain": [
              "<Figure size 936x288 with 1 Axes>"
            ]
          },
          "metadata": {
            "tags": [],
            "needs_background": "light"
          }
        }
      ]
    },
    {
      "cell_type": "code",
      "metadata": {
        "id": "PRNTkY9zZlUA",
        "colab_type": "code",
        "colab": {
          "base_uri": "https://localhost:8080/",
          "height": 70
        },
        "outputId": "17a2492d-611b-4997-b1e4-e170f60c7544"
      },
      "source": [
        "results = model.evaluate(x_train, y_train, verbose=0)\n",
        "print('train loss, train acc:', results)\n",
        "\n",
        "results = model.evaluate(x_test, y_test, verbose=0)\n",
        "print('test loss, test acc:', results)\n",
        "\n",
        "results = model.evaluate(x_valid, y_valid, verbose=0)\n",
        "print('valid loss, valid acc:', results)"
      ],
      "execution_count": 19,
      "outputs": [
        {
          "output_type": "stream",
          "text": [
            "train loss, train acc: [0.04775027185678482, 0.9846505522727966]\n",
            "test loss, test acc: [0.06914547830820084, 0.9803869724273682]\n",
            "valid loss, valid acc: [0.04118332266807556, 0.9881235361099243]\n"
          ],
          "name": "stdout"
        }
      ]
    },
    {
      "cell_type": "code",
      "metadata": {
        "id": "7JE3mAdnX8MW",
        "colab_type": "code",
        "colab": {
          "base_uri": "https://localhost:8080/",
          "height": 52
        },
        "outputId": "28b2c3f0-3f25-49f1-ef28-d0a5be0a0817"
      },
      "source": [
        "assert(len(x_test) + len(x_valid) == 7141)\n",
        "pred = model.predict(x_test).argmax(axis=-1)\n",
        "print(np.sum(pred != y_test), len(pred))\n",
        "pred = model.predict(x_valid).argmax(axis=-1)\n",
        "print(np.sum(pred != y_valid), len(pred))"
      ],
      "execution_count": 20,
      "outputs": [
        {
          "output_type": "stream",
          "text": [
            "74 3773\n",
            "40 3368\n"
          ],
          "name": "stdout"
        }
      ]
    },
    {
      "cell_type": "code",
      "metadata": {
        "id": "Bvf_TObh0N_e",
        "colab_type": "code",
        "colab": {
          "base_uri": "https://localhost:8080/",
          "height": 1000
        },
        "outputId": "a30ee2fd-f65b-4bde-f77b-9a1388f9ae78"
      },
      "source": [
        "!apt install xxd\n",
        "!git clone https://github.com/tensorflow/tensorflow.git -b v2.3.0 --depth 1 tf\n",
        "!make -C tf/ -f tensorflow/lite/micro/tools/make/Makefile generate_hello_world_make_project\n",
        "!ln -s tf/tensorflow/lite/micro/tools/make/gen/linux_x86_64/prj/hello_world/make/tensorflow\n",
        "!ln -s tf/tensorflow/lite/micro/tools/make/gen/linux_x86_64/prj/hello_world/make/third_party"
      ],
      "execution_count": 21,
      "outputs": [
        {
          "output_type": "stream",
          "text": [
            "Reading package lists... Done\n",
            "Building dependency tree       \n",
            "Reading state information... Done\n",
            "The following NEW packages will be installed:\n",
            "  xxd\n",
            "0 upgraded, 1 newly installed, 0 to remove and 11 not upgraded.\n",
            "Need to get 49.4 kB of archives.\n",
            "After this operation, 200 kB of additional disk space will be used.\n",
            "Get:1 http://archive.ubuntu.com/ubuntu bionic-updates/main amd64 xxd amd64 2:8.0.1453-1ubuntu1.3 [49.4 kB]\n",
            "Fetched 49.4 kB in 0s (826 kB/s)\n",
            "Selecting previously unselected package xxd.\n",
            "(Reading database ... 144676 files and directories currently installed.)\n",
            "Preparing to unpack .../xxd_2%3a8.0.1453-1ubuntu1.3_amd64.deb ...\n",
            "Unpacking xxd (2:8.0.1453-1ubuntu1.3) ...\n",
            "Setting up xxd (2:8.0.1453-1ubuntu1.3) ...\n",
            "Processing triggers for man-db (2.8.3-2ubuntu0.1) ...\n",
            "Cloning into 'tf'...\n",
            "remote: Enumerating objects: 21849, done.\u001b[K\n",
            "remote: Counting objects: 100% (21849/21849), done.\u001b[K\n",
            "remote: Compressing objects: 100% (15608/15608), done.\u001b[K\n",
            "remote: Total 21849 (delta 8279), reused 9677 (delta 5682), pack-reused 0\u001b[K\n",
            "Receiving objects: 100% (21849/21849), 49.39 MiB | 11.81 MiB/s, done.\n",
            "Resolving deltas: 100% (8279/8279), done.\n",
            "Note: checking out 'b36436b087bd8e8701ef51718179037cccdfc26e'.\n",
            "\n",
            "You are in 'detached HEAD' state. You can look around, make experimental\n",
            "changes and commit them, and you can discard any commits you make in this\n",
            "state without impacting any branches by performing another checkout.\n",
            "\n",
            "If you want to create a new branch to retain commits you create, you may\n",
            "do so (now or later) by using -b with the checkout command again. Example:\n",
            "\n",
            "  git checkout -b <new-branch-name>\n",
            "\n",
            "Checking out files: 100% (22470/22470), done.\n",
            "make: Entering directory '/content/tf'\n",
            "tensorflow/lite/micro/tools/make/Makefile:297: warning: overriding recipe for target 'tensorflow/lite/micro/tools/make/downloads/ruy'\n",
            "tensorflow/lite/micro/tools/make/Makefile:297: warning: ignoring old recipe for target 'tensorflow/lite/micro/tools/make/downloads/ruy'\n",
            "tensorflow/lite/micro/tools/make/Makefile:297: warning: overriding recipe for target 'tensorflow/lite/micro/tools/make/downloads/person_model_grayscale'\n",
            "tensorflow/lite/micro/tools/make/Makefile:297: warning: ignoring old recipe for target 'tensorflow/lite/micro/tools/make/downloads/person_model_grayscale'\n",
            "tensorflow/lite/micro/tools/make/download_and_extract.sh \"https://github.com/google/gemmlowp/archive/719139ce755a0f31cbf1c37f7f98adcc7fc9f425.zip\" \"7e8191b24853d75de2af87622ad293ba\" tensorflow/lite/micro/tools/make/downloads/gemmlowp  \n",
            "downloading https://github.com/google/gemmlowp/archive/719139ce755a0f31cbf1c37f7f98adcc7fc9f425.zip\n",
            "tensorflow/lite/micro/tools/make/download_and_extract.sh \"https://github.com/google/flatbuffers/archive/v1.12.0.tar.gz\" \"c62ffefb3d4548b127cca14ce047f16c\" tensorflow/lite/micro/tools/make/downloads/flatbuffers  \n",
            "downloading https://github.com/google/flatbuffers/archive/v1.12.0.tar.gz\n",
            "tensorflow/lite/micro/tools/make/download_and_extract.sh \"https://github.com/google/ruy/archive/34ea9f4993955fa1ff4eb58e504421806b7f2e8f.zip\" \"18613212e9c01aba85c7d19010b194a9\" tensorflow/lite/micro/tools/make/downloads/ruy  \n",
            "downloading https://github.com/google/ruy/archive/34ea9f4993955fa1ff4eb58e504421806b7f2e8f.zip\n",
            "tensorflow/lite/micro/tools/make/download_and_extract.sh \"https://storage.googleapis.com/download.tensorflow.org/models/tflite/cifar_image_recognition_model_2020_05_27.zip\" \"1f4607b05ac45b8a6146fb883dbc2d7b\" tensorflow/lite/micro/tools/make/downloads/image_recognition_model  \n",
            "downloading https://storage.googleapis.com/download.tensorflow.org/models/tflite/cifar_image_recognition_model_2020_05_27.zip\n",
            "tensorflow/lite/micro/tools/make/download_and_extract.sh \"https://www.cs.toronto.edu/~kriz/cifar-10-binary.tar.gz\" \"c32a1d4ab5d03f1284b67883e8d87530\" tensorflow/lite/micro/tools/make/downloads/cifar10 patch_cifar10_dataset \n",
            "downloading https://www.cs.toronto.edu/~kriz/cifar-10-binary.tar.gz\n",
            "tensorflow/lite/micro/tools/make/download_and_extract.sh \"https://github.com/mborgerding/kissfft/archive/v130.zip\" \"438ba1fef5783cc5f5f201395cc477ca\" tensorflow/lite/micro/tools/make/downloads/kissfft patch_kissfft \n",
            "downloading https://github.com/mborgerding/kissfft/archive/v130.zip\n",
            "Finished patching kissfft\n",
            "tensorflow/lite/micro/tools/make/download_and_extract.sh \"https://storage.googleapis.com/download.tensorflow.org/data/tf_lite_micro_person_data_grayscale_2020_05_27.zip\" \"55b85f76e2995153e660391d4a209ef1\" tensorflow/lite/micro/tools/make/downloads/person_model_grayscale  \n",
            "downloading https://storage.googleapis.com/download.tensorflow.org/data/tf_lite_micro_person_data_grayscale_2020_05_27.zip\n",
            "tensorflow/lite/micro/tools/make/download_and_extract.sh \"https://storage.googleapis.com/download.tensorflow.org/data/tf_lite_micro_person_data_int8_grayscale_2020_05_27.zip\" \"a0ede2d058aa2a1d413893455dd55352\" tensorflow/lite/micro/tools/make/downloads/person_model_int8  \n",
            "downloading https://storage.googleapis.com/download.tensorflow.org/data/tf_lite_micro_person_data_int8_grayscale_2020_05_27.zip\n",
            "make: Leaving directory '/content/tf'\n"
          ],
          "name": "stdout"
        }
      ]
    },
    {
      "cell_type": "code",
      "metadata": {
        "id": "-C_IXmmb2jAt",
        "colab_type": "code",
        "colab": {
          "base_uri": "https://localhost:8080/",
          "height": 34
        },
        "outputId": "ed222a1b-54f3-4882-f0b1-2112f968d65a"
      },
      "source": [
        "%%file guess.cc\n",
        "#include <fstream>\n",
        "\n",
        "#include \"tensorflow/lite/micro/all_ops_resolver.h\"\n",
        "#include \"tensorflow/lite/micro/micro_error_reporter.h\"\n",
        "#include \"tensorflow/lite/micro/micro_interpreter.h\"\n",
        "#include \"tensorflow/lite/schema/schema_generated.h\"\n",
        "#include \"tensorflow/lite/version.h\"\n",
        "\n",
        "static_assert(sizeof(float) == 4, \"WTF\");\n",
        "\n",
        "#define TFLITE_MINIMAL_CHECK(x, ...)                                          \\\n",
        "  if (!(x)) {                                                                 \\\n",
        "    TF_LITE_REPORT_ERROR(error_reporter, __VA_ARGS__);                        \\\n",
        "    TF_LITE_REPORT_ERROR(error_reporter, \"Err at %s:%d\", __FILE__, __LINE__); \\\n",
        "    exit(1);                                                                  \\\n",
        "  }\n",
        "\n",
        "//-------------------------------------------------------------------//\n",
        "\n",
        "namespace {\n",
        "  tflite::ErrorReporter* error_reporter = nullptr;\n",
        "  const tflite::Model* model = nullptr;\n",
        "  tflite::MicroInterpreter* interpreter = nullptr;\n",
        "  TfLiteTensor* input = nullptr;\n",
        "  TfLiteTensor* output = nullptr;\n",
        "  constexpr int kTensorArenaSize = 100 * 1024;\n",
        "  alignas(16) uint8_t tensor_arena[kTensorArenaSize];\n",
        "  char *buffer = nullptr;\n",
        "}\n",
        "\n",
        "//-------------------------------------------------------------------//\n",
        "\n",
        "int main(int argc, char* argv[]) {\n",
        "\n",
        "  tflite::MicroErrorReporter micro_error_reporter;\n",
        "  error_reporter = &micro_error_reporter;\n",
        "\n",
        "  TFLITE_MINIMAL_CHECK(argc == 2, \"guess <tflite model>\");\n",
        "\n",
        "  // Load model\n",
        "  std::ifstream ifs(argv[1], std::ifstream::binary);\n",
        "  if (ifs) {\n",
        "    ifs.seekg (0, ifs.end);\n",
        "    int length = ifs.tellg();\n",
        "    ifs.seekg (0, ifs.beg);\n",
        "\n",
        "    buffer = new char[length];\n",
        "    TFLITE_MINIMAL_CHECK(buffer, \"can't allocate buffer\");\n",
        "\n",
        "    ifs.read(buffer, length);\n",
        "\n",
        "    TFLITE_MINIMAL_CHECK(ifs, \"only %d could be read\", ifs.gcount());\n",
        "\n",
        "    ifs.close();\n",
        "  }\n",
        "\n",
        "  // Map the model into a usable data structure. This doesn't involve any\n",
        "  // copying or parsing, it's a very lightweight operation.\n",
        "  model = tflite::GetModel(buffer);\n",
        "  TFLITE_MINIMAL_CHECK(model->version() == TFLITE_SCHEMA_VERSION, \n",
        "                       \"Model provided is schema version %d not equal \"\n",
        "                       \"to supported version %d.\",\n",
        "                       model->version(), TFLITE_SCHEMA_VERSION);\n",
        "\n",
        "  // This pulls in all the operation implementations we need.\n",
        "  // NOLINTNEXTLINE(runtime-global-variables)\n",
        "  static tflite::AllOpsResolver resolver;\n",
        "\n",
        "  // Build an interpreter to run the model with.\n",
        "  tflite::MicroInterpreter static_interpreter(\n",
        "        model, resolver, tensor_arena, kTensorArenaSize, error_reporter);\n",
        "  interpreter = &static_interpreter;\n",
        "\n",
        "  // Allocate memory from the tensor_arena for the model's tensors.\n",
        "  TfLiteStatus status = interpreter->AllocateTensors();\n",
        "  TFLITE_MINIMAL_CHECK(status == kTfLiteOk, \"AllocateTensors() failed\");\n",
        "\n",
        "  TFLITE_MINIMAL_CHECK(interpreter->outputs().size() == 1, \"WTF\");\n",
        "  TFLITE_MINIMAL_CHECK(interpreter->inputs().size() == 1, \"WTF\");\n",
        "\n",
        "  // Obtain pointers to the model's input and output tensors.\n",
        "  input = interpreter->input(0);\n",
        "  output = interpreter->output(0);\n",
        "\n",
        "  TFLITE_MINIMAL_CHECK(input->type == kTfLiteFloat32, \"WTF\");\n",
        "  TFLITE_MINIMAL_CHECK(input->bytes == 47 * 13 * sizeof(float), \"WTF\");\n",
        "\n",
        "  TFLITE_MINIMAL_CHECK(output->type == kTfLiteFloat32, \"WTF\");\n",
        "  TFLITE_MINIMAL_CHECK(output->bytes == 12 * sizeof(float), \"WTF\");\n",
        "\n",
        "  int start = 0;\n",
        "\n",
        "loop:\n",
        "\n",
        "  // Fill input\n",
        "  for(size_t i = start; i < input->bytes / sizeof(float); i++)\n",
        "  {\n",
        "    TFLITE_MINIMAL_CHECK(scanf(\"%f\", &input->data.f[i]) == 1, \"WTF\");\n",
        "  }\n",
        "  TFLITE_MINIMAL_CHECK(getchar() == '\\n', \"WTF\");\n",
        "\n",
        "  // Run inference\n",
        "  TFLITE_MINIMAL_CHECK(interpreter->Invoke() == kTfLiteOk, \"WTF\");\n",
        "\n",
        "  // Result\n",
        "  for(size_t i = 0, m = output->bytes / sizeof(float); i < m; i++)\n",
        "  {\n",
        "    printf(\"%f%c\", output->data.f[i], i == m - 1 ? '\\n' : ' ');\n",
        "  }\n",
        "\n",
        "  start = scanf(\"%f\", &input->data.f[0]);\n",
        "  if(start == 1)\n",
        "    goto loop;\n",
        "\n",
        "  TFLITE_MINIMAL_CHECK(start == EOF, \"WTF\");\n",
        "\n",
        "  return 0;\n",
        "}"
      ],
      "execution_count": 22,
      "outputs": [
        {
          "output_type": "stream",
          "text": [
            "Writing guess.cc\n"
          ],
          "name": "stdout"
        }
      ]
    },
    {
      "cell_type": "code",
      "metadata": {
        "id": "DdwPfLF_34dN",
        "colab_type": "code",
        "colab": {
          "base_uri": "https://localhost:8080/",
          "height": 34
        },
        "outputId": "2b679a1e-0ede-4dcc-cecb-a3b3c190e3ad"
      },
      "source": [
        "%%file Makefile\n",
        "RM = rm -f\n",
        "\n",
        "SRCS := \\\n",
        "tensorflow/lite/micro/simple_memory_allocator.cc \\\n",
        "tensorflow/lite/micro/all_ops_resolver.cc \\\n",
        "tensorflow/lite/micro/memory_helpers.cc \\\n",
        "tensorflow/lite/micro/recording_micro_allocator.cc \\\n",
        "tensorflow/lite/micro/micro_error_reporter.cc \\\n",
        "tensorflow/lite/micro/micro_time.cc \\\n",
        "tensorflow/lite/micro/recording_simple_memory_allocator.cc \\\n",
        "tensorflow/lite/micro/micro_string.cc \\\n",
        "tensorflow/lite/micro/micro_profiler.cc \\\n",
        "tensorflow/lite/micro/micro_utils.cc \\\n",
        "tensorflow/lite/micro/micro_optional_debug_tools.cc \\\n",
        "tensorflow/lite/micro/debug_log.cc \\\n",
        "tensorflow/lite/micro/test_helpers.cc \\\n",
        "tensorflow/lite/micro/micro_interpreter.cc \\\n",
        "tensorflow/lite/micro/micro_allocator.cc \\\n",
        "tensorflow/lite/micro/benchmarks/keyword_scrambled_model_data.cc \\\n",
        "tensorflow/lite/micro/kernels/depthwise_conv.cc \\\n",
        "tensorflow/lite/micro/kernels/split.cc \\\n",
        "tensorflow/lite/micro/kernels/conv.cc \\\n",
        "tensorflow/lite/micro/kernels/strided_slice.cc \\\n",
        "tensorflow/lite/micro/kernels/concatenation.cc \\\n",
        "tensorflow/lite/micro/kernels/reshape.cc \\\n",
        "tensorflow/lite/micro/kernels/dequantize.cc \\\n",
        "tensorflow/lite/micro/kernels/prelu.cc \\\n",
        "tensorflow/lite/micro/kernels/pad.cc \\\n",
        "tensorflow/lite/micro/kernels/l2norm.cc \\\n",
        "tensorflow/lite/micro/kernels/tanh.cc \\\n",
        "tensorflow/lite/micro/kernels/resize_nearest_neighbor.cc \\\n",
        "tensorflow/lite/micro/kernels/pack.cc \\\n",
        "tensorflow/lite/micro/kernels/activations.cc \\\n",
        "tensorflow/lite/micro/kernels/ceil.cc \\\n",
        "tensorflow/lite/micro/kernels/arg_min_max.cc \\\n",
        "tensorflow/lite/micro/kernels/reduce.cc \\\n",
        "tensorflow/lite/micro/kernels/fully_connected.cc \\\n",
        "tensorflow/lite/micro/kernels/add.cc \\\n",
        "tensorflow/lite/micro/kernels/floor.cc \\\n",
        "tensorflow/lite/micro/kernels/circular_buffer.cc \\\n",
        "tensorflow/lite/micro/kernels/softmax.cc \\\n",
        "tensorflow/lite/micro/kernels/ethosu.cc \\\n",
        "tensorflow/lite/micro/kernels/sub.cc \\\n",
        "tensorflow/lite/micro/kernels/unpack.cc \\\n",
        "tensorflow/lite/micro/kernels/round.cc \\\n",
        "tensorflow/lite/micro/kernels/neg.cc \\\n",
        "tensorflow/lite/micro/kernels/quantize.cc \\\n",
        "tensorflow/lite/micro/kernels/elementwise.cc \\\n",
        "tensorflow/lite/micro/kernels/logistic.cc \\\n",
        "tensorflow/lite/micro/kernels/svdf.cc \\\n",
        "tensorflow/lite/micro/kernels/maximum_minimum.cc \\\n",
        "tensorflow/lite/micro/kernels/pooling.cc \\\n",
        "tensorflow/lite/micro/kernels/logical.cc \\\n",
        "tensorflow/lite/micro/kernels/mul.cc \\\n",
        "tensorflow/lite/micro/kernels/comparisons.cc \\\n",
        "tensorflow/lite/micro/memory_planner/linear_memory_planner.cc \\\n",
        "tensorflow/lite/micro/memory_planner/greedy_memory_planner.cc \\\n",
        "tensorflow/lite/micro/testing/test_conv_model.cc \\\n",
        "tensorflow/lite/c/common.c \\\n",
        "tensorflow/lite/core/api/error_reporter.cc \\\n",
        "tensorflow/lite/core/api/flatbuffer_conversions.cc \\\n",
        "tensorflow/lite/core/api/op_resolver.cc \\\n",
        "tensorflow/lite/core/api/tensor_utils.cc \\\n",
        "tensorflow/lite/kernels/internal/quantization_util.cc \\\n",
        "tensorflow/lite/kernels/kernel_util.cc \\\n",
        "tensorflow/lite/micro/testing/test_utils.cc \\\n",
        "guess.cc\n",
        "\n",
        "OBJS := \\\n",
        "$(patsubst %.cc,%.o,$(patsubst %.c,%.o,$(SRCS)))\n",
        "\n",
        "CXXFLAGS += -std=c++11 -DTF_LITE_STATIC_MEMORY -O3 -DTF_LITE_DISABLE_X86_NEON \\\n",
        "            -I. -I./third_party/gemmlowp -I./third_party/flatbuffers/include -I./third_party/ruy\n",
        "CCFLAGS +=  -std=c11 -DTF_LITE_STATIC_MEMORY -O3 -DTF_LITE_DISABLE_X86_NEON \\\n",
        "            -I. -I./third_party/gemmlowp -I./third_party/flatbuffers/include -I./third_party/ruy\n",
        "\n",
        "LDFLAGS +=  -lm\n",
        "\n",
        "%.o: %.cc\n",
        "\t$(CXX) $(CXXFLAGS) $(INCLUDES) -c $< -o $@\n",
        "\n",
        "%.o: %.c\n",
        "\t$(CC) $(CCFLAGS) $(INCLUDES) -c $< -o $@\n",
        "\n",
        "guess : $(OBJS)\n",
        "\t$(CXX) $(CXXFLAGS) -o $@ $(OBJS) $(LDFLAGS)\n",
        "\n",
        "all: guess\n",
        "\n",
        "clean:\n",
        "\t-$(RM) $(OBJS)\n",
        "\t-$(RM) guess"
      ],
      "execution_count": 23,
      "outputs": [
        {
          "output_type": "stream",
          "text": [
            "Writing Makefile\n"
          ],
          "name": "stdout"
        }
      ]
    },
    {
      "cell_type": "code",
      "metadata": {
        "id": "mIx55wCj7WBr",
        "colab_type": "code",
        "colab": {
          "base_uri": "https://localhost:8080/",
          "height": 1000
        },
        "outputId": "d48c32b7-91c8-4c35-e029-10d29039b8da"
      },
      "source": [
        "!make"
      ],
      "execution_count": 24,
      "outputs": [
        {
          "output_type": "stream",
          "text": [
            "g++ -std=c++11 -DTF_LITE_STATIC_MEMORY -O3 -DTF_LITE_DISABLE_X86_NEON -I. -I./third_party/gemmlowp -I./third_party/flatbuffers/include -I./third_party/ruy  -c tensorflow/lite/micro/simple_memory_allocator.cc -o tensorflow/lite/micro/simple_memory_allocator.o\n",
            "g++ -std=c++11 -DTF_LITE_STATIC_MEMORY -O3 -DTF_LITE_DISABLE_X86_NEON -I. -I./third_party/gemmlowp -I./third_party/flatbuffers/include -I./third_party/ruy  -c tensorflow/lite/micro/all_ops_resolver.cc -o tensorflow/lite/micro/all_ops_resolver.o\n",
            "g++ -std=c++11 -DTF_LITE_STATIC_MEMORY -O3 -DTF_LITE_DISABLE_X86_NEON -I. -I./third_party/gemmlowp -I./third_party/flatbuffers/include -I./third_party/ruy  -c tensorflow/lite/micro/memory_helpers.cc -o tensorflow/lite/micro/memory_helpers.o\n",
            "g++ -std=c++11 -DTF_LITE_STATIC_MEMORY -O3 -DTF_LITE_DISABLE_X86_NEON -I. -I./third_party/gemmlowp -I./third_party/flatbuffers/include -I./third_party/ruy  -c tensorflow/lite/micro/recording_micro_allocator.cc -o tensorflow/lite/micro/recording_micro_allocator.o\n",
            "g++ -std=c++11 -DTF_LITE_STATIC_MEMORY -O3 -DTF_LITE_DISABLE_X86_NEON -I. -I./third_party/gemmlowp -I./third_party/flatbuffers/include -I./third_party/ruy  -c tensorflow/lite/micro/micro_error_reporter.cc -o tensorflow/lite/micro/micro_error_reporter.o\n",
            "g++ -std=c++11 -DTF_LITE_STATIC_MEMORY -O3 -DTF_LITE_DISABLE_X86_NEON -I. -I./third_party/gemmlowp -I./third_party/flatbuffers/include -I./third_party/ruy  -c tensorflow/lite/micro/micro_time.cc -o tensorflow/lite/micro/micro_time.o\n",
            "g++ -std=c++11 -DTF_LITE_STATIC_MEMORY -O3 -DTF_LITE_DISABLE_X86_NEON -I. -I./third_party/gemmlowp -I./third_party/flatbuffers/include -I./third_party/ruy  -c tensorflow/lite/micro/recording_simple_memory_allocator.cc -o tensorflow/lite/micro/recording_simple_memory_allocator.o\n",
            "g++ -std=c++11 -DTF_LITE_STATIC_MEMORY -O3 -DTF_LITE_DISABLE_X86_NEON -I. -I./third_party/gemmlowp -I./third_party/flatbuffers/include -I./third_party/ruy  -c tensorflow/lite/micro/micro_string.cc -o tensorflow/lite/micro/micro_string.o\n",
            "g++ -std=c++11 -DTF_LITE_STATIC_MEMORY -O3 -DTF_LITE_DISABLE_X86_NEON -I. -I./third_party/gemmlowp -I./third_party/flatbuffers/include -I./third_party/ruy  -c tensorflow/lite/micro/micro_profiler.cc -o tensorflow/lite/micro/micro_profiler.o\n",
            "g++ -std=c++11 -DTF_LITE_STATIC_MEMORY -O3 -DTF_LITE_DISABLE_X86_NEON -I. -I./third_party/gemmlowp -I./third_party/flatbuffers/include -I./third_party/ruy  -c tensorflow/lite/micro/micro_utils.cc -o tensorflow/lite/micro/micro_utils.o\n",
            "g++ -std=c++11 -DTF_LITE_STATIC_MEMORY -O3 -DTF_LITE_DISABLE_X86_NEON -I. -I./third_party/gemmlowp -I./third_party/flatbuffers/include -I./third_party/ruy  -c tensorflow/lite/micro/micro_optional_debug_tools.cc -o tensorflow/lite/micro/micro_optional_debug_tools.o\n",
            "g++ -std=c++11 -DTF_LITE_STATIC_MEMORY -O3 -DTF_LITE_DISABLE_X86_NEON -I. -I./third_party/gemmlowp -I./third_party/flatbuffers/include -I./third_party/ruy  -c tensorflow/lite/micro/debug_log.cc -o tensorflow/lite/micro/debug_log.o\n",
            "g++ -std=c++11 -DTF_LITE_STATIC_MEMORY -O3 -DTF_LITE_DISABLE_X86_NEON -I. -I./third_party/gemmlowp -I./third_party/flatbuffers/include -I./third_party/ruy  -c tensorflow/lite/micro/test_helpers.cc -o tensorflow/lite/micro/test_helpers.o\n",
            "g++ -std=c++11 -DTF_LITE_STATIC_MEMORY -O3 -DTF_LITE_DISABLE_X86_NEON -I. -I./third_party/gemmlowp -I./third_party/flatbuffers/include -I./third_party/ruy  -c tensorflow/lite/micro/micro_interpreter.cc -o tensorflow/lite/micro/micro_interpreter.o\n",
            "g++ -std=c++11 -DTF_LITE_STATIC_MEMORY -O3 -DTF_LITE_DISABLE_X86_NEON -I. -I./third_party/gemmlowp -I./third_party/flatbuffers/include -I./third_party/ruy  -c tensorflow/lite/micro/micro_allocator.cc -o tensorflow/lite/micro/micro_allocator.o\n",
            "g++ -std=c++11 -DTF_LITE_STATIC_MEMORY -O3 -DTF_LITE_DISABLE_X86_NEON -I. -I./third_party/gemmlowp -I./third_party/flatbuffers/include -I./third_party/ruy  -c tensorflow/lite/micro/benchmarks/keyword_scrambled_model_data.cc -o tensorflow/lite/micro/benchmarks/keyword_scrambled_model_data.o\n",
            "g++ -std=c++11 -DTF_LITE_STATIC_MEMORY -O3 -DTF_LITE_DISABLE_X86_NEON -I. -I./third_party/gemmlowp -I./third_party/flatbuffers/include -I./third_party/ruy  -c tensorflow/lite/micro/kernels/depthwise_conv.cc -o tensorflow/lite/micro/kernels/depthwise_conv.o\n",
            "g++ -std=c++11 -DTF_LITE_STATIC_MEMORY -O3 -DTF_LITE_DISABLE_X86_NEON -I. -I./third_party/gemmlowp -I./third_party/flatbuffers/include -I./third_party/ruy  -c tensorflow/lite/micro/kernels/split.cc -o tensorflow/lite/micro/kernels/split.o\n",
            "g++ -std=c++11 -DTF_LITE_STATIC_MEMORY -O3 -DTF_LITE_DISABLE_X86_NEON -I. -I./third_party/gemmlowp -I./third_party/flatbuffers/include -I./third_party/ruy  -c tensorflow/lite/micro/kernels/conv.cc -o tensorflow/lite/micro/kernels/conv.o\n",
            "g++ -std=c++11 -DTF_LITE_STATIC_MEMORY -O3 -DTF_LITE_DISABLE_X86_NEON -I. -I./third_party/gemmlowp -I./third_party/flatbuffers/include -I./third_party/ruy  -c tensorflow/lite/micro/kernels/strided_slice.cc -o tensorflow/lite/micro/kernels/strided_slice.o\n",
            "g++ -std=c++11 -DTF_LITE_STATIC_MEMORY -O3 -DTF_LITE_DISABLE_X86_NEON -I. -I./third_party/gemmlowp -I./third_party/flatbuffers/include -I./third_party/ruy  -c tensorflow/lite/micro/kernels/concatenation.cc -o tensorflow/lite/micro/kernels/concatenation.o\n",
            "g++ -std=c++11 -DTF_LITE_STATIC_MEMORY -O3 -DTF_LITE_DISABLE_X86_NEON -I. -I./third_party/gemmlowp -I./third_party/flatbuffers/include -I./third_party/ruy  -c tensorflow/lite/micro/kernels/reshape.cc -o tensorflow/lite/micro/kernels/reshape.o\n",
            "g++ -std=c++11 -DTF_LITE_STATIC_MEMORY -O3 -DTF_LITE_DISABLE_X86_NEON -I. -I./third_party/gemmlowp -I./third_party/flatbuffers/include -I./third_party/ruy  -c tensorflow/lite/micro/kernels/dequantize.cc -o tensorflow/lite/micro/kernels/dequantize.o\n",
            "g++ -std=c++11 -DTF_LITE_STATIC_MEMORY -O3 -DTF_LITE_DISABLE_X86_NEON -I. -I./third_party/gemmlowp -I./third_party/flatbuffers/include -I./third_party/ruy  -c tensorflow/lite/micro/kernels/prelu.cc -o tensorflow/lite/micro/kernels/prelu.o\n",
            "g++ -std=c++11 -DTF_LITE_STATIC_MEMORY -O3 -DTF_LITE_DISABLE_X86_NEON -I. -I./third_party/gemmlowp -I./third_party/flatbuffers/include -I./third_party/ruy  -c tensorflow/lite/micro/kernels/pad.cc -o tensorflow/lite/micro/kernels/pad.o\n",
            "g++ -std=c++11 -DTF_LITE_STATIC_MEMORY -O3 -DTF_LITE_DISABLE_X86_NEON -I. -I./third_party/gemmlowp -I./third_party/flatbuffers/include -I./third_party/ruy  -c tensorflow/lite/micro/kernels/l2norm.cc -o tensorflow/lite/micro/kernels/l2norm.o\n",
            "g++ -std=c++11 -DTF_LITE_STATIC_MEMORY -O3 -DTF_LITE_DISABLE_X86_NEON -I. -I./third_party/gemmlowp -I./third_party/flatbuffers/include -I./third_party/ruy  -c tensorflow/lite/micro/kernels/tanh.cc -o tensorflow/lite/micro/kernels/tanh.o\n",
            "g++ -std=c++11 -DTF_LITE_STATIC_MEMORY -O3 -DTF_LITE_DISABLE_X86_NEON -I. -I./third_party/gemmlowp -I./third_party/flatbuffers/include -I./third_party/ruy  -c tensorflow/lite/micro/kernels/resize_nearest_neighbor.cc -o tensorflow/lite/micro/kernels/resize_nearest_neighbor.o\n",
            "g++ -std=c++11 -DTF_LITE_STATIC_MEMORY -O3 -DTF_LITE_DISABLE_X86_NEON -I. -I./third_party/gemmlowp -I./third_party/flatbuffers/include -I./third_party/ruy  -c tensorflow/lite/micro/kernels/pack.cc -o tensorflow/lite/micro/kernels/pack.o\n",
            "g++ -std=c++11 -DTF_LITE_STATIC_MEMORY -O3 -DTF_LITE_DISABLE_X86_NEON -I. -I./third_party/gemmlowp -I./third_party/flatbuffers/include -I./third_party/ruy  -c tensorflow/lite/micro/kernels/activations.cc -o tensorflow/lite/micro/kernels/activations.o\n",
            "g++ -std=c++11 -DTF_LITE_STATIC_MEMORY -O3 -DTF_LITE_DISABLE_X86_NEON -I. -I./third_party/gemmlowp -I./third_party/flatbuffers/include -I./third_party/ruy  -c tensorflow/lite/micro/kernels/ceil.cc -o tensorflow/lite/micro/kernels/ceil.o\n",
            "g++ -std=c++11 -DTF_LITE_STATIC_MEMORY -O3 -DTF_LITE_DISABLE_X86_NEON -I. -I./third_party/gemmlowp -I./third_party/flatbuffers/include -I./third_party/ruy  -c tensorflow/lite/micro/kernels/arg_min_max.cc -o tensorflow/lite/micro/kernels/arg_min_max.o\n",
            "g++ -std=c++11 -DTF_LITE_STATIC_MEMORY -O3 -DTF_LITE_DISABLE_X86_NEON -I. -I./third_party/gemmlowp -I./third_party/flatbuffers/include -I./third_party/ruy  -c tensorflow/lite/micro/kernels/reduce.cc -o tensorflow/lite/micro/kernels/reduce.o\n",
            "g++ -std=c++11 -DTF_LITE_STATIC_MEMORY -O3 -DTF_LITE_DISABLE_X86_NEON -I. -I./third_party/gemmlowp -I./third_party/flatbuffers/include -I./third_party/ruy  -c tensorflow/lite/micro/kernels/fully_connected.cc -o tensorflow/lite/micro/kernels/fully_connected.o\n",
            "g++ -std=c++11 -DTF_LITE_STATIC_MEMORY -O3 -DTF_LITE_DISABLE_X86_NEON -I. -I./third_party/gemmlowp -I./third_party/flatbuffers/include -I./third_party/ruy  -c tensorflow/lite/micro/kernels/add.cc -o tensorflow/lite/micro/kernels/add.o\n",
            "g++ -std=c++11 -DTF_LITE_STATIC_MEMORY -O3 -DTF_LITE_DISABLE_X86_NEON -I. -I./third_party/gemmlowp -I./third_party/flatbuffers/include -I./third_party/ruy  -c tensorflow/lite/micro/kernels/floor.cc -o tensorflow/lite/micro/kernels/floor.o\n",
            "g++ -std=c++11 -DTF_LITE_STATIC_MEMORY -O3 -DTF_LITE_DISABLE_X86_NEON -I. -I./third_party/gemmlowp -I./third_party/flatbuffers/include -I./third_party/ruy  -c tensorflow/lite/micro/kernels/circular_buffer.cc -o tensorflow/lite/micro/kernels/circular_buffer.o\n",
            "g++ -std=c++11 -DTF_LITE_STATIC_MEMORY -O3 -DTF_LITE_DISABLE_X86_NEON -I. -I./third_party/gemmlowp -I./third_party/flatbuffers/include -I./third_party/ruy  -c tensorflow/lite/micro/kernels/softmax.cc -o tensorflow/lite/micro/kernels/softmax.o\n",
            "g++ -std=c++11 -DTF_LITE_STATIC_MEMORY -O3 -DTF_LITE_DISABLE_X86_NEON -I. -I./third_party/gemmlowp -I./third_party/flatbuffers/include -I./third_party/ruy  -c tensorflow/lite/micro/kernels/ethosu.cc -o tensorflow/lite/micro/kernels/ethosu.o\n",
            "g++ -std=c++11 -DTF_LITE_STATIC_MEMORY -O3 -DTF_LITE_DISABLE_X86_NEON -I. -I./third_party/gemmlowp -I./third_party/flatbuffers/include -I./third_party/ruy  -c tensorflow/lite/micro/kernels/sub.cc -o tensorflow/lite/micro/kernels/sub.o\n",
            "g++ -std=c++11 -DTF_LITE_STATIC_MEMORY -O3 -DTF_LITE_DISABLE_X86_NEON -I. -I./third_party/gemmlowp -I./third_party/flatbuffers/include -I./third_party/ruy  -c tensorflow/lite/micro/kernels/unpack.cc -o tensorflow/lite/micro/kernels/unpack.o\n",
            "g++ -std=c++11 -DTF_LITE_STATIC_MEMORY -O3 -DTF_LITE_DISABLE_X86_NEON -I. -I./third_party/gemmlowp -I./third_party/flatbuffers/include -I./third_party/ruy  -c tensorflow/lite/micro/kernels/round.cc -o tensorflow/lite/micro/kernels/round.o\n",
            "g++ -std=c++11 -DTF_LITE_STATIC_MEMORY -O3 -DTF_LITE_DISABLE_X86_NEON -I. -I./third_party/gemmlowp -I./third_party/flatbuffers/include -I./third_party/ruy  -c tensorflow/lite/micro/kernels/neg.cc -o tensorflow/lite/micro/kernels/neg.o\n",
            "g++ -std=c++11 -DTF_LITE_STATIC_MEMORY -O3 -DTF_LITE_DISABLE_X86_NEON -I. -I./third_party/gemmlowp -I./third_party/flatbuffers/include -I./third_party/ruy  -c tensorflow/lite/micro/kernels/quantize.cc -o tensorflow/lite/micro/kernels/quantize.o\n",
            "g++ -std=c++11 -DTF_LITE_STATIC_MEMORY -O3 -DTF_LITE_DISABLE_X86_NEON -I. -I./third_party/gemmlowp -I./third_party/flatbuffers/include -I./third_party/ruy  -c tensorflow/lite/micro/kernels/elementwise.cc -o tensorflow/lite/micro/kernels/elementwise.o\n",
            "g++ -std=c++11 -DTF_LITE_STATIC_MEMORY -O3 -DTF_LITE_DISABLE_X86_NEON -I. -I./third_party/gemmlowp -I./third_party/flatbuffers/include -I./third_party/ruy  -c tensorflow/lite/micro/kernels/logistic.cc -o tensorflow/lite/micro/kernels/logistic.o\n",
            "g++ -std=c++11 -DTF_LITE_STATIC_MEMORY -O3 -DTF_LITE_DISABLE_X86_NEON -I. -I./third_party/gemmlowp -I./third_party/flatbuffers/include -I./third_party/ruy  -c tensorflow/lite/micro/kernels/svdf.cc -o tensorflow/lite/micro/kernels/svdf.o\n",
            "g++ -std=c++11 -DTF_LITE_STATIC_MEMORY -O3 -DTF_LITE_DISABLE_X86_NEON -I. -I./third_party/gemmlowp -I./third_party/flatbuffers/include -I./third_party/ruy  -c tensorflow/lite/micro/kernels/maximum_minimum.cc -o tensorflow/lite/micro/kernels/maximum_minimum.o\n",
            "g++ -std=c++11 -DTF_LITE_STATIC_MEMORY -O3 -DTF_LITE_DISABLE_X86_NEON -I. -I./third_party/gemmlowp -I./third_party/flatbuffers/include -I./third_party/ruy  -c tensorflow/lite/micro/kernels/pooling.cc -o tensorflow/lite/micro/kernels/pooling.o\n",
            "g++ -std=c++11 -DTF_LITE_STATIC_MEMORY -O3 -DTF_LITE_DISABLE_X86_NEON -I. -I./third_party/gemmlowp -I./third_party/flatbuffers/include -I./third_party/ruy  -c tensorflow/lite/micro/kernels/logical.cc -o tensorflow/lite/micro/kernels/logical.o\n",
            "g++ -std=c++11 -DTF_LITE_STATIC_MEMORY -O3 -DTF_LITE_DISABLE_X86_NEON -I. -I./third_party/gemmlowp -I./third_party/flatbuffers/include -I./third_party/ruy  -c tensorflow/lite/micro/kernels/mul.cc -o tensorflow/lite/micro/kernels/mul.o\n",
            "g++ -std=c++11 -DTF_LITE_STATIC_MEMORY -O3 -DTF_LITE_DISABLE_X86_NEON -I. -I./third_party/gemmlowp -I./third_party/flatbuffers/include -I./third_party/ruy  -c tensorflow/lite/micro/kernels/comparisons.cc -o tensorflow/lite/micro/kernels/comparisons.o\n",
            "g++ -std=c++11 -DTF_LITE_STATIC_MEMORY -O3 -DTF_LITE_DISABLE_X86_NEON -I. -I./third_party/gemmlowp -I./third_party/flatbuffers/include -I./third_party/ruy  -c tensorflow/lite/micro/memory_planner/linear_memory_planner.cc -o tensorflow/lite/micro/memory_planner/linear_memory_planner.o\n",
            "g++ -std=c++11 -DTF_LITE_STATIC_MEMORY -O3 -DTF_LITE_DISABLE_X86_NEON -I. -I./third_party/gemmlowp -I./third_party/flatbuffers/include -I./third_party/ruy  -c tensorflow/lite/micro/memory_planner/greedy_memory_planner.cc -o tensorflow/lite/micro/memory_planner/greedy_memory_planner.o\n",
            "g++ -std=c++11 -DTF_LITE_STATIC_MEMORY -O3 -DTF_LITE_DISABLE_X86_NEON -I. -I./third_party/gemmlowp -I./third_party/flatbuffers/include -I./third_party/ruy  -c tensorflow/lite/micro/testing/test_conv_model.cc -o tensorflow/lite/micro/testing/test_conv_model.o\n",
            "cc -std=c11 -DTF_LITE_STATIC_MEMORY -O3 -DTF_LITE_DISABLE_X86_NEON -I. -I./third_party/gemmlowp -I./third_party/flatbuffers/include -I./third_party/ruy  -c tensorflow/lite/c/common.c -o tensorflow/lite/c/common.o\n",
            "g++ -std=c++11 -DTF_LITE_STATIC_MEMORY -O3 -DTF_LITE_DISABLE_X86_NEON -I. -I./third_party/gemmlowp -I./third_party/flatbuffers/include -I./third_party/ruy  -c tensorflow/lite/core/api/error_reporter.cc -o tensorflow/lite/core/api/error_reporter.o\n",
            "g++ -std=c++11 -DTF_LITE_STATIC_MEMORY -O3 -DTF_LITE_DISABLE_X86_NEON -I. -I./third_party/gemmlowp -I./third_party/flatbuffers/include -I./third_party/ruy  -c tensorflow/lite/core/api/flatbuffer_conversions.cc -o tensorflow/lite/core/api/flatbuffer_conversions.o\n",
            "g++ -std=c++11 -DTF_LITE_STATIC_MEMORY -O3 -DTF_LITE_DISABLE_X86_NEON -I. -I./third_party/gemmlowp -I./third_party/flatbuffers/include -I./third_party/ruy  -c tensorflow/lite/core/api/op_resolver.cc -o tensorflow/lite/core/api/op_resolver.o\n",
            "g++ -std=c++11 -DTF_LITE_STATIC_MEMORY -O3 -DTF_LITE_DISABLE_X86_NEON -I. -I./third_party/gemmlowp -I./third_party/flatbuffers/include -I./third_party/ruy  -c tensorflow/lite/core/api/tensor_utils.cc -o tensorflow/lite/core/api/tensor_utils.o\n",
            "g++ -std=c++11 -DTF_LITE_STATIC_MEMORY -O3 -DTF_LITE_DISABLE_X86_NEON -I. -I./third_party/gemmlowp -I./third_party/flatbuffers/include -I./third_party/ruy  -c tensorflow/lite/kernels/internal/quantization_util.cc -o tensorflow/lite/kernels/internal/quantization_util.o\n",
            "g++ -std=c++11 -DTF_LITE_STATIC_MEMORY -O3 -DTF_LITE_DISABLE_X86_NEON -I. -I./third_party/gemmlowp -I./third_party/flatbuffers/include -I./third_party/ruy  -c tensorflow/lite/kernels/kernel_util.cc -o tensorflow/lite/kernels/kernel_util.o\n",
            "g++ -std=c++11 -DTF_LITE_STATIC_MEMORY -O3 -DTF_LITE_DISABLE_X86_NEON -I. -I./third_party/gemmlowp -I./third_party/flatbuffers/include -I./third_party/ruy  -c tensorflow/lite/micro/testing/test_utils.cc -o tensorflow/lite/micro/testing/test_utils.o\n",
            "g++ -std=c++11 -DTF_LITE_STATIC_MEMORY -O3 -DTF_LITE_DISABLE_X86_NEON -I. -I./third_party/gemmlowp -I./third_party/flatbuffers/include -I./third_party/ruy  -c guess.cc -o guess.o\n",
            "g++ -std=c++11 -DTF_LITE_STATIC_MEMORY -O3 -DTF_LITE_DISABLE_X86_NEON -I. -I./third_party/gemmlowp -I./third_party/flatbuffers/include -I./third_party/ruy -o guess tensorflow/lite/micro/simple_memory_allocator.o tensorflow/lite/micro/all_ops_resolver.o tensorflow/lite/micro/memory_helpers.o tensorflow/lite/micro/recording_micro_allocator.o tensorflow/lite/micro/micro_error_reporter.o tensorflow/lite/micro/micro_time.o tensorflow/lite/micro/recording_simple_memory_allocator.o tensorflow/lite/micro/micro_string.o tensorflow/lite/micro/micro_profiler.o tensorflow/lite/micro/micro_utils.o tensorflow/lite/micro/micro_optional_debug_tools.o tensorflow/lite/micro/debug_log.o tensorflow/lite/micro/test_helpers.o tensorflow/lite/micro/micro_interpreter.o tensorflow/lite/micro/micro_allocator.o tensorflow/lite/micro/benchmarks/keyword_scrambled_model_data.o tensorflow/lite/micro/kernels/depthwise_conv.o tensorflow/lite/micro/kernels/split.o tensorflow/lite/micro/kernels/conv.o tensorflow/lite/micro/kernels/strided_slice.o tensorflow/lite/micro/kernels/concatenation.o tensorflow/lite/micro/kernels/reshape.o tensorflow/lite/micro/kernels/dequantize.o tensorflow/lite/micro/kernels/prelu.o tensorflow/lite/micro/kernels/pad.o tensorflow/lite/micro/kernels/l2norm.o tensorflow/lite/micro/kernels/tanh.o tensorflow/lite/micro/kernels/resize_nearest_neighbor.o tensorflow/lite/micro/kernels/pack.o tensorflow/lite/micro/kernels/activations.o tensorflow/lite/micro/kernels/ceil.o tensorflow/lite/micro/kernels/arg_min_max.o tensorflow/lite/micro/kernels/reduce.o tensorflow/lite/micro/kernels/fully_connected.o tensorflow/lite/micro/kernels/add.o tensorflow/lite/micro/kernels/floor.o tensorflow/lite/micro/kernels/circular_buffer.o tensorflow/lite/micro/kernels/softmax.o tensorflow/lite/micro/kernels/ethosu.o tensorflow/lite/micro/kernels/sub.o tensorflow/lite/micro/kernels/unpack.o tensorflow/lite/micro/kernels/round.o tensorflow/lite/micro/kernels/neg.o tensorflow/lite/micro/kernels/quantize.o tensorflow/lite/micro/kernels/elementwise.o tensorflow/lite/micro/kernels/logistic.o tensorflow/lite/micro/kernels/svdf.o tensorflow/lite/micro/kernels/maximum_minimum.o tensorflow/lite/micro/kernels/pooling.o tensorflow/lite/micro/kernels/logical.o tensorflow/lite/micro/kernels/mul.o tensorflow/lite/micro/kernels/comparisons.o tensorflow/lite/micro/memory_planner/linear_memory_planner.o tensorflow/lite/micro/memory_planner/greedy_memory_planner.o tensorflow/lite/micro/testing/test_conv_model.o tensorflow/lite/c/common.o tensorflow/lite/core/api/error_reporter.o tensorflow/lite/core/api/flatbuffer_conversions.o tensorflow/lite/core/api/op_resolver.o tensorflow/lite/core/api/tensor_utils.o tensorflow/lite/kernels/internal/quantization_util.o tensorflow/lite/kernels/kernel_util.o tensorflow/lite/micro/testing/test_utils.o guess.o -lm\n"
          ],
          "name": "stdout"
        }
      ]
    },
    {
      "cell_type": "code",
      "metadata": {
        "id": "vFhQhBiuLAuK",
        "colab_type": "code",
        "colab": {
          "base_uri": "https://localhost:8080/",
          "height": 1000
        },
        "outputId": "5cf2e804-7c37-4992-82b2-0de7d78e87f3"
      },
      "source": [
        "# remove reshape from input\n",
        "model = keras.Sequential([keras.Input(model.layers[2].input_shape[1:])] + model.layers[2:])\n",
        "model.summary()"
      ],
      "execution_count": 25,
      "outputs": [
        {
          "output_type": "stream",
          "text": [
            "Model: \"sequential\"\n",
            "_________________________________________________________________\n",
            "Layer (type)                 Output Shape              Param #   \n",
            "=================================================================\n",
            "conv2d (Conv2D)              (None, 47, 1, 64)         832       \n",
            "_________________________________________________________________\n",
            "batch_normalization (BatchNo (None, 47, 1, 64)         256       \n",
            "_________________________________________________________________\n",
            "re_lu (ReLU)                 (None, 47, 1, 64)         0         \n",
            "_________________________________________________________________\n",
            "spatial_dropout2d (SpatialDr (None, 47, 1, 64)         0         \n",
            "_________________________________________________________________\n",
            "depthwise_conv2d (DepthwiseC (None, 47, 1, 64)         192       \n",
            "_________________________________________________________________\n",
            "batch_normalization_1 (Batch (None, 47, 1, 64)         256       \n",
            "_________________________________________________________________\n",
            "re_lu_1 (ReLU)               (None, 47, 1, 64)         0         \n",
            "_________________________________________________________________\n",
            "separable_conv2d (SeparableC (None, 47, 1, 64)         4288      \n",
            "_________________________________________________________________\n",
            "batch_normalization_2 (Batch (None, 47, 1, 64)         256       \n",
            "_________________________________________________________________\n",
            "re_lu_2 (ReLU)               (None, 47, 1, 64)         0         \n",
            "_________________________________________________________________\n",
            "spatial_dropout2d_1 (Spatial (None, 47, 1, 64)         0         \n",
            "_________________________________________________________________\n",
            "average_pooling2d (AveragePo (None, 24, 1, 64)         0         \n",
            "_________________________________________________________________\n",
            "depthwise_conv2d_1 (Depthwis (None, 24, 1, 64)         192       \n",
            "_________________________________________________________________\n",
            "batch_normalization_3 (Batch (None, 24, 1, 64)         256       \n",
            "_________________________________________________________________\n",
            "re_lu_3 (ReLU)               (None, 24, 1, 64)         0         \n",
            "_________________________________________________________________\n",
            "separable_conv2d_1 (Separabl (None, 24, 1, 64)         4288      \n",
            "_________________________________________________________________\n",
            "batch_normalization_4 (Batch (None, 24, 1, 64)         256       \n",
            "_________________________________________________________________\n",
            "re_lu_4 (ReLU)               (None, 24, 1, 64)         0         \n",
            "_________________________________________________________________\n",
            "spatial_dropout2d_2 (Spatial (None, 24, 1, 64)         0         \n",
            "_________________________________________________________________\n",
            "average_pooling2d_1 (Average (None, 12, 1, 64)         0         \n",
            "_________________________________________________________________\n",
            "depthwise_conv2d_2 (Depthwis (None, 12, 1, 64)         192       \n",
            "_________________________________________________________________\n",
            "batch_normalization_5 (Batch (None, 12, 1, 64)         256       \n",
            "_________________________________________________________________\n",
            "re_lu_5 (ReLU)               (None, 12, 1, 64)         0         \n",
            "_________________________________________________________________\n",
            "separable_conv2d_2 (Separabl (None, 12, 1, 64)         4288      \n",
            "_________________________________________________________________\n",
            "batch_normalization_6 (Batch (None, 12, 1, 64)         256       \n",
            "_________________________________________________________________\n",
            "re_lu_6 (ReLU)               (None, 12, 1, 64)         0         \n",
            "_________________________________________________________________\n",
            "spatial_dropout2d_3 (Spatial (None, 12, 1, 64)         0         \n",
            "_________________________________________________________________\n",
            "average_pooling2d_2 (Average (None, 1, 1, 64)          0         \n",
            "_________________________________________________________________\n",
            "flatten (Flatten)            (None, 64)                0         \n",
            "_________________________________________________________________\n",
            "dense (Dense)                (None, 32)                2048      \n",
            "_________________________________________________________________\n",
            "batch_normalization_7 (Batch (None, 32)                128       \n",
            "_________________________________________________________________\n",
            "re_lu_7 (ReLU)               (None, 32)                0         \n",
            "_________________________________________________________________\n",
            "dense_1 (Dense)              (None, 12)                396       \n",
            "=================================================================\n",
            "Total params: 18,636\n",
            "Trainable params: 17,676\n",
            "Non-trainable params: 960\n",
            "_________________________________________________________________\n"
          ],
          "name": "stdout"
        }
      ]
    },
    {
      "cell_type": "code",
      "metadata": {
        "id": "mZIW5naa6_vB",
        "colab_type": "code",
        "colab": {
          "base_uri": "https://localhost:8080/",
          "height": 195
        },
        "outputId": "fcb32a7b-c9cd-42cf-e680-c11ce8109118"
      },
      "source": [
        "converter = tf.lite.TFLiteConverter.from_keras_model(model)\n",
        "tflite_model = converter.convert()\n",
        "with open(\"dcnn.tflite\", \"wb\") as f:\n",
        "  f.write(tflite_model)\n",
        "\n",
        "converter = tf.lite.TFLiteConverter.from_keras_model(model)\n",
        "converter.optimizations = [tf.lite.Optimize.DEFAULT]\n",
        "def representative_data_gen():\n",
        "  for x, y in train_dataset.unbatch().batch(1).take(100):\n",
        "    yield [tf.reshape(x, (-1,) + model.input_shape[1:])]\n",
        "converter.representative_dataset = representative_data_gen\n",
        "converter.target_spec.supported_ops = [tf.lite.OpsSet.TFLITE_BUILTINS_INT8]\n",
        "tflite_quant_model = converter.convert()\n",
        "with open(\"dcnn.quant.tflite\", \"wb\") as f:\n",
        "  f.write(tflite_quant_model)"
      ],
      "execution_count": 26,
      "outputs": [
        {
          "output_type": "stream",
          "text": [
            "WARNING:tensorflow:From /usr/local/lib/python3.6/dist-packages/tensorflow/python/training/tracking/tracking.py:111: Model.state_updates (from tensorflow.python.keras.engine.training) is deprecated and will be removed in a future version.\n",
            "Instructions for updating:\n",
            "This property should not be used in TensorFlow 2.0, as updates are applied automatically.\n",
            "WARNING:tensorflow:From /usr/local/lib/python3.6/dist-packages/tensorflow/python/training/tracking/tracking.py:111: Layer.updates (from tensorflow.python.keras.engine.base_layer) is deprecated and will be removed in a future version.\n",
            "Instructions for updating:\n",
            "This property should not be used in TensorFlow 2.0, as updates are applied automatically.\n",
            "INFO:tensorflow:Assets written to: /tmp/tmp1cb0p96h/assets\n",
            "INFO:tensorflow:Assets written to: /tmp/tmpt8wo8gbl/assets\n"
          ],
          "name": "stdout"
        },
        {
          "output_type": "stream",
          "text": [
            "INFO:tensorflow:Assets written to: /tmp/tmpt8wo8gbl/assets\n"
          ],
          "name": "stderr"
        }
      ]
    },
    {
      "cell_type": "code",
      "metadata": {
        "id": "T32jbdCVNwwW",
        "colab_type": "code",
        "colab": {}
      },
      "source": [
        "def test_micro_model(model):\n",
        "\n",
        "  with open(\"valid_test_x.txt\", \"w\") as txt:\n",
        "    for i in np.concatenate((x_valid, x_test), axis=0):\n",
        "      txt.write(' '.join(i.flatten().astype(np.str)) + '\\n')\n",
        "\n",
        "  !./guess \"$model\" < valid_test_x.txt > valid_test_y.txt\n",
        "  pred = np.loadtxt(\"valid_test_y.txt\").argmax(axis=-1)\n",
        "  assert(len(pred) == 7141)\n",
        "\n",
        "  print(np.sum(pred[len(y_valid):] != y_test), len(y_test))\n",
        "  print(np.sum(pred[:len(y_valid)] != y_valid), len(y_valid), end = '\\n\\n')\n",
        "\n",
        "  true = np.concatenate((y_valid, y_test), axis=0).astype(np.int)\n",
        "  K = len(np.unique(true))\n",
        "  assert(K == 12)\n",
        "  matrix = np.zeros((K, K), dtype=np.int)\n",
        "\n",
        "  for i in range(len(true)):\n",
        "    matrix[true[i]][pred[i]] += 1\n",
        "\n",
        "  for r in matrix:\n",
        "    l = np.sum(r)\n",
        "    for i in r:\n",
        "      print('%.2f' % (i / l), end = ' ')\n",
        "    print(\"|\", l)\n",
        "\n",
        "  print()"
      ],
      "execution_count": 27,
      "outputs": []
    },
    {
      "cell_type": "code",
      "metadata": {
        "id": "o5nCro_9f574",
        "colab_type": "code",
        "colab": {
          "base_uri": "https://localhost:8080/",
          "height": 334
        },
        "outputId": "bc321ec2-e2d2-4e34-92d6-440dae2deb2e"
      },
      "source": [
        "%%time\n",
        "test_micro_model(\"dcnn.tflite\")"
      ],
      "execution_count": 28,
      "outputs": [
        {
          "output_type": "stream",
          "text": [
            "74 3773\n",
            "40 3368\n",
            "\n",
            "1.00 0.00 0.00 0.00 0.00 0.00 0.00 0.00 0.00 0.00 0.00 0.00 | 603\n",
            "0.00 0.98 0.00 0.00 0.00 0.00 0.00 0.00 0.00 0.01 0.01 0.00 | 575\n",
            "0.00 0.00 0.99 0.00 0.00 0.00 0.00 0.00 0.00 0.00 0.01 0.00 | 564\n",
            "0.00 0.00 0.00 0.98 0.00 0.00 0.01 0.00 0.00 0.00 0.01 0.00 | 548\n",
            "0.00 0.00 0.00 0.00 0.98 0.00 0.00 0.00 0.00 0.00 0.01 0.00 | 605\n",
            "0.00 0.00 0.00 0.00 0.00 0.99 0.00 0.00 0.00 0.00 0.01 0.00 | 607\n",
            "0.00 0.00 0.00 0.00 0.00 0.00 1.00 0.00 0.00 0.00 0.00 0.00 | 462\n",
            "0.00 0.00 0.00 0.00 0.00 0.00 0.00 1.00 0.00 0.00 0.00 0.00 | 574\n",
            "0.00 0.00 0.00 0.00 0.00 0.00 0.00 0.00 0.99 0.00 0.00 0.00 | 547\n",
            "0.00 0.00 0.00 0.00 0.00 0.01 0.00 0.00 0.00 0.98 0.01 0.00 | 596\n",
            "0.00 0.01 0.01 0.01 0.01 0.01 0.00 0.00 0.00 0.01 0.94 0.00 | 730\n",
            "0.00 0.00 0.00 0.00 0.00 0.00 0.00 0.00 0.01 0.00 0.00 0.99 | 730\n",
            "\n",
            "CPU times: user 3.09 s, sys: 98.2 ms, total: 3.19 s\n",
            "Wall time: 10.4 s\n"
          ],
          "name": "stdout"
        }
      ]
    },
    {
      "cell_type": "code",
      "metadata": {
        "id": "wTFMkUHMf72-",
        "colab_type": "code",
        "colab": {
          "base_uri": "https://localhost:8080/",
          "height": 334
        },
        "outputId": "12002990-4b92-45d2-b861-755dbca6c0d0"
      },
      "source": [
        "%%time\n",
        "test_micro_model(\"dcnn.quant.tflite\")"
      ],
      "execution_count": 29,
      "outputs": [
        {
          "output_type": "stream",
          "text": [
            "75 3773\n",
            "43 3368\n",
            "\n",
            "1.00 0.00 0.00 0.00 0.00 0.00 0.00 0.00 0.00 0.00 0.00 0.00 | 603\n",
            "0.00 0.98 0.00 0.00 0.00 0.00 0.00 0.00 0.00 0.01 0.01 0.00 | 575\n",
            "0.00 0.00 0.99 0.00 0.00 0.00 0.00 0.00 0.00 0.00 0.00 0.00 | 564\n",
            "0.00 0.00 0.00 0.98 0.00 0.00 0.00 0.00 0.01 0.00 0.01 0.00 | 548\n",
            "0.00 0.00 0.00 0.00 0.98 0.00 0.00 0.00 0.00 0.00 0.01 0.00 | 605\n",
            "0.00 0.00 0.00 0.00 0.00 0.99 0.00 0.00 0.00 0.00 0.01 0.00 | 607\n",
            "0.00 0.00 0.00 0.00 0.00 0.00 1.00 0.00 0.00 0.00 0.00 0.00 | 462\n",
            "0.00 0.00 0.00 0.00 0.00 0.00 0.00 1.00 0.00 0.00 0.00 0.00 | 574\n",
            "0.00 0.00 0.00 0.00 0.00 0.00 0.00 0.00 0.99 0.00 0.00 0.00 | 547\n",
            "0.00 0.00 0.00 0.00 0.00 0.01 0.00 0.00 0.00 0.99 0.00 0.00 | 596\n",
            "0.00 0.01 0.01 0.01 0.01 0.01 0.00 0.00 0.00 0.01 0.93 0.00 | 730\n",
            "0.00 0.00 0.00 0.00 0.00 0.00 0.00 0.00 0.01 0.00 0.00 0.99 | 730\n",
            "\n",
            "CPU times: user 3.23 s, sys: 90.5 ms, total: 3.32 s\n",
            "Wall time: 10.4 s\n"
          ],
          "name": "stdout"
        }
      ]
    },
    {
      "cell_type": "code",
      "metadata": {
        "id": "poOpt-k7ftvy",
        "colab_type": "code",
        "colab": {}
      },
      "source": [
        "from google.colab import drive\n",
        "drive.mount('/content/gdrive')"
      ],
      "execution_count": null,
      "outputs": []
    },
    {
      "cell_type": "code",
      "metadata": {
        "id": "kqQTwS1xfutn",
        "colab_type": "code",
        "colab": {
          "base_uri": "https://localhost:8080/",
          "height": 34
        },
        "outputId": "e6d46204-26c2-4d75-a9a8-93fcba462ee5"
      },
      "source": [
        "!md5sum 'dcnn.tflite'\n",
        "!mv 'dcnn.tflite' '/content/gdrive/My Drive/0-9.dcnn.tflite'"
      ],
      "execution_count": 31,
      "outputs": [
        {
          "output_type": "stream",
          "text": [
            "2e484df65232c1deb761768885e9f90f  dcnn.tflite\n"
          ],
          "name": "stdout"
        }
      ]
    },
    {
      "cell_type": "code",
      "metadata": {
        "id": "3oD9khZ8R_Hl",
        "colab_type": "code",
        "colab": {
          "base_uri": "https://localhost:8080/",
          "height": 34
        },
        "outputId": "85ef0e3a-910d-4782-b87a-3fe460e863bc"
      },
      "source": [
        "!md5sum 'dcnn.quant.tflite'\n",
        "!mv 'dcnn.quant.tflite' '/content/gdrive/My Drive/0-9.dcnn.quant.tflite'"
      ],
      "execution_count": 32,
      "outputs": [
        {
          "output_type": "stream",
          "text": [
            "30b9ad094db8c928218e66804da0917d  dcnn.quant.tflite\n"
          ],
          "name": "stdout"
        }
      ]
    }
  ]
}