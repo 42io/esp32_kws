{
  "nbformat": 4,
  "nbformat_minor": 0,
  "metadata": {
    "accelerator": "GPU",
    "colab": {
      "name": "embedding.ipynb",
      "provenance": [],
      "collapsed_sections": [],
      "machine_shape": "hm"
    },
    "kernelspec": {
      "display_name": "Python 3",
      "name": "python3"
    }
  },
  "cells": [
    {
      "cell_type": "code",
      "metadata": {
        "colab": {
          "base_uri": "https://localhost:8080/"
        },
        "id": "qwY3lBm83jqO",
        "outputId": "b046b988-5bd7-4e04-a975-ad69ea71e0ec"
      },
      "source": [
        "!nvidia-smi"
      ],
      "execution_count": null,
      "outputs": [
        {
          "output_type": "stream",
          "text": [
            "Sat Jan 30 06:12:17 2021       \n",
            "+-----------------------------------------------------------------------------+\n",
            "| NVIDIA-SMI 460.32.03    Driver Version: 418.67       CUDA Version: 10.1     |\n",
            "|-------------------------------+----------------------+----------------------+\n",
            "| GPU  Name        Persistence-M| Bus-Id        Disp.A | Volatile Uncorr. ECC |\n",
            "| Fan  Temp  Perf  Pwr:Usage/Cap|         Memory-Usage | GPU-Util  Compute M. |\n",
            "|                               |                      |               MIG M. |\n",
            "|===============================+======================+======================|\n",
            "|   0  Tesla P100-PCIE...  Off  | 00000000:00:04.0 Off |                    0 |\n",
            "| N/A   37C    P0    26W / 250W |      0MiB / 16280MiB |      0%      Default |\n",
            "|                               |                      |                 ERR! |\n",
            "+-------------------------------+----------------------+----------------------+\n",
            "                                                                               \n",
            "+-----------------------------------------------------------------------------+\n",
            "| Processes:                                                                  |\n",
            "|  GPU   GI   CI        PID   Type   Process name                  GPU Memory |\n",
            "|        ID   ID                                                   Usage      |\n",
            "|=============================================================================|\n",
            "|  No running processes found                                                 |\n",
            "+-----------------------------------------------------------------------------+\n"
          ],
          "name": "stdout"
        }
      ]
    },
    {
      "cell_type": "code",
      "metadata": {
        "id": "l_6NYiKJ7qzN"
      },
      "source": [
        "# https://github.com/42io/dataset/tree/master/google_speech_commands\n",
        "# backward bed bird cat dog down eight five follow forward four go happy house \n",
        "# learn left marvin nine no off on one right seven sheila six stop three tree \n",
        "# two up visual wow yes zero\n",
        "DATASET_FILE = '1kuQGsYMWFv0zNz8iSmcodwnhj7T0lXRE'"
      ],
      "execution_count": null,
      "outputs": []
    },
    {
      "cell_type": "code",
      "metadata": {
        "colab": {
          "base_uri": "https://localhost:8080/"
        },
        "id": "J4KjyC2X_ZyQ",
        "outputId": "e16bd66c-6f67-4aa5-e497-cad12b2683e9"
      },
      "source": [
        "!test -f \"$DATASET_FILE\" || gdown --id \"$DATASET_FILE\" -O \"$DATASET_FILE\""
      ],
      "execution_count": null,
      "outputs": [
        {
          "output_type": "stream",
          "text": [
            "Downloading...\n",
            "From: https://drive.google.com/uc?id=1kuQGsYMWFv0zNz8iSmcodwnhj7T0lXRE\n",
            "To: /content/1kuQGsYMWFv0zNz8iSmcodwnhj7T0lXRE\n",
            "7.25GB [02:25, 49.7MB/s]\n"
          ],
          "name": "stdout"
        }
      ]
    },
    {
      "cell_type": "code",
      "metadata": {
        "id": "kIdWKJAOu_p9"
      },
      "source": [
        "md5 = !md5sum \"$DATASET_FILE\"\n",
        "assert '93e4a84aecf58379a716ed8928afda58' == md5[0].split()[0], md5"
      ],
      "execution_count": null,
      "outputs": []
    },
    {
      "cell_type": "code",
      "metadata": {
        "colab": {
          "base_uri": "https://localhost:8080/"
        },
        "id": "5T3UOLCpGUmg",
        "outputId": "665eac4b-ca24-4b0c-bac3-f3ece6048cfa"
      },
      "source": [
        "%tensorflow_version 2.x\n",
        "import matplotlib.pyplot as plt\n",
        "import numpy as np\n",
        "from tensorflow import keras\n",
        "import tensorflow as tf\n",
        "print(tf.__version__)"
      ],
      "execution_count": null,
      "outputs": [
        {
          "output_type": "stream",
          "text": [
            "2.4.1\n"
          ],
          "name": "stdout"
        }
      ]
    },
    {
      "cell_type": "code",
      "metadata": {
        "colab": {
          "base_uri": "https://localhost:8080/"
        },
        "id": "b7CYwmbKGb0h",
        "outputId": "a66f6620-d6ac-4603-e2eb-bdc26a08b574"
      },
      "source": [
        "dset = np.load(DATASET_FILE)\n",
        "print(dset['x_train'].shape)"
      ],
      "execution_count": null,
      "outputs": [
        {
          "output_type": "stream",
          "text": [
            "(3072291, 637)\n"
          ],
          "name": "stdout"
        }
      ]
    },
    {
      "cell_type": "code",
      "metadata": {
        "colab": {
          "base_uri": "https://localhost:8080/"
        },
        "id": "owjaNl-YAwhK",
        "outputId": "140520f4-a546-4961-de3b-b441bcc69abc"
      },
      "source": [
        "labels = tuple(dset['labels'])\n",
        "!echo \"{'\\n'.join(labels)}\" | column"
      ],
      "execution_count": null,
      "outputs": [
        {
          "output_type": "stream",
          "text": [
            "backward\tfive\t\tlearn\t\tone\t\ttree\n",
            "bed\t\tfollow\t\tleft\t\tright\t\ttwo\n",
            "bird\t\tforward\t\tmarvin\t\tseven\t\tup\n",
            "cat\t\tfour\t\tnine\t\tsheila\t\tvisual\n",
            "dog\t\tgo\t\tno\t\tsix\t\twow\n",
            "down\t\thappy\t\toff\t\tstop\t\tyes\n",
            "eight\t\thouse\t\ton\t\tthree\t\tzero\n"
          ],
          "name": "stdout"
        }
      ]
    },
    {
      "cell_type": "code",
      "metadata": {
        "colab": {
          "base_uri": "https://localhost:8080/",
          "height": 199
        },
        "id": "YXVf4nZ_ANuy",
        "outputId": "3a195ac2-aacf-4b32-efb2-3dbb70ddf042"
      },
      "source": [
        "plt.rc('figure', figsize=(25, 4))\n",
        "plt.bar(list(range(len(labels))),\n",
        "        [len(dset['y_train'][dset['y_train'] == i]) for i in range(len(labels))],\n",
        "        tick_label=labels)\n",
        "assert plt.xlim(-1, len(labels))"
      ],
      "execution_count": null,
      "outputs": [
        {
          "output_type": "display_data",
          "data": {
            "image/png": "[encoded data removed]",
            "text/plain": [
              "<Figure size 1800x288 with 1 Axes>"
            ]
          },
          "metadata": {
            "tags": [],
            "needs_background": "light"
          }
        }
      ]
    },
    {
      "cell_type": "code",
      "metadata": {
        "id": "tus9FNQ1pYnO"
      },
      "source": [
        "x_train, x_test, x_valid = (\n",
        "    dset[i].reshape(-1, 49, 1, 13)[:,1:-1]\n",
        "    for i in ['x_train', 'x_test', 'x_valid']\n",
        ")\n",
        "y_train = dset['y_train']\n",
        "y_test  = dset['y_test']\n",
        "y_valid = dset['y_valid']"
      ],
      "execution_count": null,
      "outputs": []
    },
    {
      "cell_type": "code",
      "metadata": {
        "id": "T3N4fnsVDHoc"
      },
      "source": [
        "def spectrogram_masking(spectrogram, dim=1, masks_number=2, mask_max_size=5):\n",
        "  \"\"\"Spectrogram masking on frequency or time dimension.\n",
        "  Args:\n",
        "    spectrogram: Input spectrum [batch, time, frequency]\n",
        "    dim: dimension on which masking will be applied: 1 - time; 2 - frequency\n",
        "    masks_number: number of masks\n",
        "    mask_max_size: mask max size\n",
        "  Returns:\n",
        "    masked spectrogram\n",
        "  \"\"\"\n",
        "  if dim not in (1, 2):\n",
        "    raise ValueError('Wrong dim value: %d' % dim)\n",
        "  input_shape = spectrogram.shape\n",
        "  time_size, frequency_size = input_shape[1:3]\n",
        "  dim_size = input_shape[dim]  # size of dimension on which mask is applied\n",
        "  stripe_shape = [1, time_size, frequency_size]\n",
        "  for _ in range(masks_number):\n",
        "    mask_end = tf.random.uniform([], 0, mask_max_size, tf.int32)\n",
        "    mask_start = tf.random.uniform([], 0, dim_size - mask_end, tf.int32)\n",
        "\n",
        "    # initialize stripes with stripe_shape\n",
        "    stripe_ones_left = list(stripe_shape)\n",
        "    stripe_zeros_center = list(stripe_shape)\n",
        "    stripe_ones_right = list(stripe_shape)\n",
        "\n",
        "    # update stripes dim\n",
        "    stripe_ones_left[dim] = dim_size - mask_start - mask_end\n",
        "    stripe_zeros_center[dim] = mask_end\n",
        "    stripe_ones_right[dim] = mask_start\n",
        "\n",
        "    # generate mask\n",
        "    mask = tf.concat((\n",
        "        tf.ones(stripe_ones_left, spectrogram.dtype),\n",
        "        tf.zeros(stripe_zeros_center, spectrogram.dtype),\n",
        "        tf.ones(stripe_ones_right, spectrogram.dtype),\n",
        "    ), dim)\n",
        "    spectrogram = spectrogram * mask\n",
        "  return spectrogram"
      ],
      "execution_count": null,
      "outputs": []
    },
    {
      "cell_type": "code",
      "metadata": {
        "id": "8iPUrT8WDUkw"
      },
      "source": [
        "train_dataset = tf.data.Dataset.from_tensor_slices((x_train, y_train))\n",
        "train_dataset = train_dataset.shuffle(len(x_train))\n",
        "train_dataset = train_dataset.batch(128)\n",
        "train_dataset = train_dataset.map(lambda x, y: (tf.squeeze(x, -2), y))\n",
        "train_dataset = train_dataset.map(lambda x, y: (spectrogram_masking(x, 1, 3, 3), y))\n",
        "train_dataset = train_dataset.map(lambda x, y: (spectrogram_masking(x, 2, 2, 2), y))\n",
        "train_dataset = train_dataset.map(lambda x, y: (tf.expand_dims(x, -2), y))"
      ],
      "execution_count": null,
      "outputs": []
    },
    {
      "cell_type": "code",
      "metadata": {
        "id": "jdw4P-ZrWZUf"
      },
      "source": [
        "del dset, x_train, y_train # free RAM to fit in 25 GB google colab"
      ],
      "execution_count": null,
      "outputs": []
    },
    {
      "cell_type": "code",
      "metadata": {
        "colab": {
          "base_uri": "https://localhost:8080/",
          "height": 249
        },
        "id": "hQkyPPkrDPOi",
        "outputId": "41fbc8fb-506a-4ebd-f98f-893955d129df"
      },
      "source": [
        "plt.rc('figure', figsize=(13, 4))\n",
        "assert plt.imshow(list(train_dataset.take(1))[0][0][0].numpy().squeeze().T)"
      ],
      "execution_count": null,
      "outputs": [
        {
          "output_type": "display_data",
          "data": {
            "image/png": "[encoded data removed]",
            "text/plain": [
              "<Figure size 936x288 with 1 Axes>"
            ]
          },
          "metadata": {
            "tags": [],
            "needs_background": "light"
          }
        }
      ]
    },
    {
      "cell_type": "code",
      "metadata": {
        "id": "2mZMarEqIHF1"
      },
      "source": [
        "def build_model():\n",
        "\n",
        "  x_in = x = keras.Input([47, 1, 13])\n",
        "\n",
        "  x = keras.layers.Conv2D(64, 1, use_bias=False)(x)\n",
        "  x = keras.layers.BatchNormalization()(x)\n",
        "  x = keras.layers.ReLU()(x)\n",
        "\n",
        "  for i in range(4):\n",
        "    x = keras.layers.SeparableConv2D(x.shape[-1], kernel_size=[2, 1], \n",
        "                                     dilation_rate=[2**i, 1],\n",
        "                                     use_bias=False)(x)\n",
        "    x = keras.layers.BatchNormalization()(x)\n",
        "    x = keras.layers.ReLU()(x)\n",
        "\n",
        "  x = keras.layers.AveragePooling2D([x.shape[1], 1])(x)\n",
        "  x = keras.layers.Flatten()(x)\n",
        "\n",
        "  x = keras.layers.Dense(x.shape[-1] // 2, use_bias=False)(x)\n",
        "  x = keras.layers.BatchNormalization()(x)\n",
        "  x = keras.layers.ReLU()(x)\n",
        "\n",
        "  x = keras.layers.Dense(len(labels), activation='softmax')(x)\n",
        "\n",
        "  model = keras.Model(inputs=x_in, outputs=x)\n",
        "\n",
        "  model.summary()\n",
        "\n",
        "  return model"
      ],
      "execution_count": null,
      "outputs": []
    },
    {
      "cell_type": "code",
      "metadata": {
        "colab": {
          "base_uri": "https://localhost:8080/"
        },
        "id": "FsvYNTybDVrO",
        "outputId": "f554166f-bd31-4b1d-f46c-39bde79388d1"
      },
      "source": [
        "model = build_model()\n",
        "\n",
        "model.compile(loss=keras.losses.sparse_categorical_crossentropy,\n",
        "              optimizer=keras.optimizers.Adam(),\n",
        "              metrics=['accuracy'])"
      ],
      "execution_count": null,
      "outputs": [
        {
          "output_type": "stream",
          "text": [
            "Model: \"model\"\n",
            "_________________________________________________________________\n",
            "Layer (type)                 Output Shape              Param #   \n",
            "=================================================================\n",
            "input_1 (InputLayer)         [(None, 47, 1, 13)]       0         \n",
            "_________________________________________________________________\n",
            "conv2d (Conv2D)              (None, 47, 1, 64)         832       \n",
            "_________________________________________________________________\n",
            "batch_normalization (BatchNo (None, 47, 1, 64)         256       \n",
            "_________________________________________________________________\n",
            "re_lu (ReLU)                 (None, 47, 1, 64)         0         \n",
            "_________________________________________________________________\n",
            "separable_conv2d (SeparableC (None, 46, 1, 64)         4224      \n",
            "_________________________________________________________________\n",
            "batch_normalization_1 (Batch (None, 46, 1, 64)         256       \n",
            "_________________________________________________________________\n",
            "re_lu_1 (ReLU)               (None, 46, 1, 64)         0         \n",
            "_________________________________________________________________\n",
            "separable_conv2d_1 (Separabl (None, 44, 1, 64)         4224      \n",
            "_________________________________________________________________\n",
            "batch_normalization_2 (Batch (None, 44, 1, 64)         256       \n",
            "_________________________________________________________________\n",
            "re_lu_2 (ReLU)               (None, 44, 1, 64)         0         \n",
            "_________________________________________________________________\n",
            "separable_conv2d_2 (Separabl (None, 40, 1, 64)         4224      \n",
            "_________________________________________________________________\n",
            "batch_normalization_3 (Batch (None, 40, 1, 64)         256       \n",
            "_________________________________________________________________\n",
            "re_lu_3 (ReLU)               (None, 40, 1, 64)         0         \n",
            "_________________________________________________________________\n",
            "separable_conv2d_3 (Separabl (None, 32, 1, 64)         4224      \n",
            "_________________________________________________________________\n",
            "batch_normalization_4 (Batch (None, 32, 1, 64)         256       \n",
            "_________________________________________________________________\n",
            "re_lu_4 (ReLU)               (None, 32, 1, 64)         0         \n",
            "_________________________________________________________________\n",
            "average_pooling2d (AveragePo (None, 1, 1, 64)          0         \n",
            "_________________________________________________________________\n",
            "flatten (Flatten)            (None, 64)                0         \n",
            "_________________________________________________________________\n",
            "dense (Dense)                (None, 32)                2048      \n",
            "_________________________________________________________________\n",
            "batch_normalization_5 (Batch (None, 32)                128       \n",
            "_________________________________________________________________\n",
            "re_lu_5 (ReLU)               (None, 32)                0         \n",
            "_________________________________________________________________\n",
            "dense_1 (Dense)              (None, 35)                1155      \n",
            "=================================================================\n",
            "Total params: 22,339\n",
            "Trainable params: 21,635\n",
            "Non-trainable params: 704\n",
            "_________________________________________________________________\n"
          ],
          "name": "stdout"
        }
      ]
    },
    {
      "cell_type": "code",
      "metadata": {
        "id": "xE_K963gEeiB"
      },
      "source": [
        "early_stopping = keras.callbacks.EarlyStopping(\n",
        "        monitor='val_loss',\n",
        "        mode='min',\n",
        "        verbose=1,\n",
        "        patience=100,\n",
        "        restore_best_weights=True)\n",
        "\n",
        "history = model.fit(train_dataset,\n",
        "                    validation_data=(x_valid, y_valid),\n",
        "                    callbacks=[early_stopping],\n",
        "                    verbose=2,\n",
        "                    epochs=100500)"
      ],
      "execution_count": null,
      "outputs": []
    },
    {
      "cell_type": "code",
      "metadata": {
        "id": "MpFpu5bZeYj4",
        "colab": {
          "base_uri": "https://localhost:8080/",
          "height": 591
        },
        "outputId": "1fb4ce57-15ad-4491-8917-c2bc43292a8f"
      },
      "source": [
        "print(history.history.keys())\n",
        "\n",
        "import matplotlib.pyplot as plt\n",
        "\n",
        "# Plot training & validation accuracy values\n",
        "plt.plot(history.history['accuracy'])\n",
        "plt.plot(history.history['val_accuracy'])\n",
        "plt.title('Model accuracy')\n",
        "plt.ylabel('Accuracy')\n",
        "plt.xlabel('Epoch')\n",
        "plt.legend(['Train', 'Valid'], loc='lower right')\n",
        "plt.show()\n",
        "\n",
        "# Plot training & validation loss values\n",
        "plt.plot(history.history['loss'])\n",
        "plt.plot(history.history['val_loss'])\n",
        "plt.title('Model loss')\n",
        "plt.ylabel('Loss')\n",
        "plt.xlabel('Epoch')\n",
        "plt.legend(['Train', 'Valid'], loc='upper right')\n",
        "plt.show()"
      ],
      "execution_count": null,
      "outputs": [
        {
          "output_type": "stream",
          "text": [
            "dict_keys(['loss', 'accuracy', 'val_loss', 'val_accuracy'])\n"
          ],
          "name": "stdout"
        },
        {
          "output_type": "display_data",
          "data": {
            "image/png": "[encoded data removed]",
            "text/plain": [
              "<Figure size 936x288 with 1 Axes>"
            ]
          },
          "metadata": {
            "tags": [],
            "needs_background": "light"
          }
        },
        {
          "output_type": "display_data",
          "data": {
            "image/png": "[encoded data removed]",
            "text/plain": [
              "<Figure size 936x288 with 1 Axes>"
            ]
          },
          "metadata": {
            "tags": [],
            "needs_background": "light"
          }
        }
      ]
    },
    {
      "cell_type": "code",
      "metadata": {
        "id": "PRNTkY9zZlUA",
        "colab": {
          "base_uri": "https://localhost:8080/"
        },
        "outputId": "d27c45a4-7c8a-4a20-b453-e8d8e9f20cbb"
      },
      "source": [
        "results = model.evaluate(train_dataset, verbose=0)\n",
        "print('train loss, train acc:', results)\n",
        "\n",
        "results = model.evaluate(x_test, y_test, verbose=0)\n",
        "print('test loss, test acc:', results)\n",
        "\n",
        "results = model.evaluate(x_valid, y_valid, verbose=0)\n",
        "print('valid loss, valid acc:', results)"
      ],
      "execution_count": null,
      "outputs": [
        {
          "output_type": "stream",
          "text": [
            "train loss, train acc: [0.18400651216506958, 0.9412767291069031]\n",
            "test loss, test acc: [0.11645420640707016, 0.9651033282279968]\n",
            "valid loss, valid acc: [0.08953282237052917, 0.9741390943527222]\n"
          ],
          "name": "stdout"
        }
      ]
    },
    {
      "cell_type": "code",
      "metadata": {
        "id": "7JE3mAdnX8MW",
        "colab": {
          "base_uri": "https://localhost:8080/"
        },
        "outputId": "8a4a2e7b-8fdd-48d8-b69d-8e458e23e7cc"
      },
      "source": [
        "assert len(x_test) + len(x_valid) == 15312\n",
        "pred = model.predict(x_test).argmax(axis=-1)\n",
        "print(np.sum(pred != y_test), len(pred))\n",
        "pred = model.predict(x_valid).argmax(axis=-1)\n",
        "print(np.sum(pred != y_valid), len(pred))"
      ],
      "execution_count": null,
      "outputs": [
        {
          "output_type": "stream",
          "text": [
            "282 8081\n",
            "187 7231\n"
          ],
          "name": "stdout"
        }
      ]
    },
    {
      "cell_type": "code",
      "metadata": {
        "id": "jH0UD0SLhe7d",
        "colab": {
          "base_uri": "https://localhost:8080/"
        },
        "outputId": "ecf55aaf-18ee-4825-9a1f-b7161c31911d"
      },
      "source": [
        "emb_model = keras.Sequential(model.layers[:-1])\n",
        "emb_model.summary()\n",
        "emb_model.save_weights('embedding.weights.h5')"
      ],
      "execution_count": null,
      "outputs": [
        {
          "output_type": "stream",
          "text": [
            "Model: \"sequential\"\n",
            "_________________________________________________________________\n",
            "Layer (type)                 Output Shape              Param #   \n",
            "=================================================================\n",
            "conv2d (Conv2D)              (None, 47, 1, 64)         832       \n",
            "_________________________________________________________________\n",
            "batch_normalization (BatchNo (None, 47, 1, 64)         256       \n",
            "_________________________________________________________________\n",
            "re_lu (ReLU)                 (None, 47, 1, 64)         0         \n",
            "_________________________________________________________________\n",
            "separable_conv2d (SeparableC (None, 46, 1, 64)         4224      \n",
            "_________________________________________________________________\n",
            "batch_normalization_1 (Batch (None, 46, 1, 64)         256       \n",
            "_________________________________________________________________\n",
            "re_lu_1 (ReLU)               (None, 46, 1, 64)         0         \n",
            "_________________________________________________________________\n",
            "separable_conv2d_1 (Separabl (None, 44, 1, 64)         4224      \n",
            "_________________________________________________________________\n",
            "batch_normalization_2 (Batch (None, 44, 1, 64)         256       \n",
            "_________________________________________________________________\n",
            "re_lu_2 (ReLU)               (None, 44, 1, 64)         0         \n",
            "_________________________________________________________________\n",
            "separable_conv2d_2 (Separabl (None, 40, 1, 64)         4224      \n",
            "_________________________________________________________________\n",
            "batch_normalization_3 (Batch (None, 40, 1, 64)         256       \n",
            "_________________________________________________________________\n",
            "re_lu_3 (ReLU)               (None, 40, 1, 64)         0         \n",
            "_________________________________________________________________\n",
            "separable_conv2d_3 (Separabl (None, 32, 1, 64)         4224      \n",
            "_________________________________________________________________\n",
            "batch_normalization_4 (Batch (None, 32, 1, 64)         256       \n",
            "_________________________________________________________________\n",
            "re_lu_4 (ReLU)               (None, 32, 1, 64)         0         \n",
            "_________________________________________________________________\n",
            "average_pooling2d (AveragePo (None, 1, 1, 64)          0         \n",
            "_________________________________________________________________\n",
            "flatten (Flatten)            (None, 64)                0         \n",
            "_________________________________________________________________\n",
            "dense (Dense)                (None, 32)                2048      \n",
            "_________________________________________________________________\n",
            "batch_normalization_5 (Batch (None, 32)                128       \n",
            "_________________________________________________________________\n",
            "re_lu_5 (ReLU)               (None, 32)                0         \n",
            "=================================================================\n",
            "Total params: 21,184\n",
            "Trainable params: 20,480\n",
            "Non-trainable params: 704\n",
            "_________________________________________________________________\n"
          ],
          "name": "stdout"
        }
      ]
    },
    {
      "cell_type": "code",
      "metadata": {
        "id": "XIwZbZGtAjhU"
      },
      "source": [
        "from google.colab import drive\n",
        "drive.mount('/content/drive')"
      ],
      "execution_count": null,
      "outputs": []
    },
    {
      "cell_type": "code",
      "metadata": {
        "id": "w_w1E66lmsD9",
        "colab": {
          "base_uri": "https://localhost:8080/"
        },
        "outputId": "e1760f07-a032-403e-c90a-a4aee6448c33"
      },
      "source": [
        "!md5sum 'embedding.weights.h5'\n",
        "!mv 'embedding.weights.h5' '/content/drive/My Drive/'"
      ],
      "execution_count": null,
      "outputs": [
        {
          "output_type": "stream",
          "text": [
            "163f65d4d79388ce7da889699b9bc131  embedding.weights.h5\n"
          ],
          "name": "stdout"
        }
      ]
    }
  ]
}